{
 "cells": [
  {
   "cell_type": "markdown",
   "id": "88605065",
   "metadata": {},
   "source": [
    "<font size=\"+3\"><strong>The Linux Command Line</strong></font>"
   ]
  },
  {
   "cell_type": "markdown",
   "id": "14032fa7",
   "metadata": {},
   "source": [
    "Linux is an open source operating system. On computers operating with Linux, you can pass commands using a text interface to your computer which then later returns what you request. The text interface could be a shell or a terminal."
   ]
  },
  {
   "cell_type": "markdown",
   "id": "9fbb2ef0",
   "metadata": {},
   "source": [
    "# Navigating Files and Directories\n",
    "\n",
    "We can run command directly in Jupyter Notebook using by adding the magic command `%%bash`:"
   ]
  },
  {
   "cell_type": "markdown",
   "id": "2c049459",
   "metadata": {},
   "source": [
    "First we can look at current directory we are in:"
   ]
  },
  {
   "cell_type": "code",
   "execution_count": null,
   "id": "0f35b1e5",
   "metadata": {},
   "outputs": [],
   "source": [
    "%%bash\n",
    "\n",
    "pwd"
   ]
  },
  {
   "cell_type": "markdown",
   "id": "7802eedb",
   "metadata": {},
   "source": [
    "From the current directory, we can see what files are inside this directory"
   ]
  },
  {
   "cell_type": "code",
   "execution_count": null,
   "id": "d378096e",
   "metadata": {},
   "outputs": [],
   "source": [
    "%%bash\n",
    "\n",
    "ls"
   ]
  },
  {
   "cell_type": "markdown",
   "id": "a3ca8f2b",
   "metadata": {},
   "source": [
    "We can go further, into the `data` directory using `cd` and the directory name"
   ]
  },
  {
   "cell_type": "code",
   "execution_count": null,
   "id": "6399f732",
   "metadata": {},
   "outputs": [],
   "source": [
    "%%bash\n",
    "\n",
    "cd data\n",
    "ls"
   ]
  },
  {
   "cell_type": "markdown",
   "id": "e2bc987a",
   "metadata": {},
   "source": [
    "Now we are in the `work` directory"
   ]
  },
  {
   "cell_type": "markdown",
   "id": "ec3a98f9",
   "metadata": {},
   "source": [
    "If we want to go back to the previous directory"
   ]
  },
  {
   "cell_type": "code",
   "execution_count": null,
   "id": "9b744872",
   "metadata": {},
   "outputs": [],
   "source": [
    "%%bash\n",
    "\n",
    "cd ..\n",
    "pwd"
   ]
  },
  {
   "cell_type": "markdown",
   "id": "bb18a675",
   "metadata": {},
   "source": [
    "or use `cd` to go directly back to home directory"
   ]
  },
  {
   "cell_type": "code",
   "execution_count": null,
   "id": "77221354",
   "metadata": {},
   "outputs": [],
   "source": [
    "%%bash\n",
    "\n",
    "cd\n",
    "pwd"
   ]
  },
  {
   "cell_type": "markdown",
   "id": "c31c2272",
   "metadata": {},
   "source": [
    "<font size=\"+1\">Practice</font> \n",
    "\n",
    "Navigate to the `ds_curriculum/010-housing-in-mexico` directory, and list all files there."
   ]
  },
  {
   "cell_type": "code",
   "execution_count": null,
   "id": "d2e0db84",
   "metadata": {},
   "outputs": [],
   "source": [
    "%%bash\n",
    "\n",
    "cd ../\n",
    "\n",
    "pwd\n",
    "\n",
    "cd 010-housing-in-mexico\n",
    "\n",
    "ls \n"
   ]
  },
  {
   "cell_type": "markdown",
   "id": "afa2258b",
   "metadata": {},
   "source": [
    "# Viewing File Contents "
   ]
  },
  {
   "cell_type": "markdown",
   "id": "dab48473",
   "metadata": {},
   "source": [
    "### Navigate into the data directory"
   ]
  },
  {
   "cell_type": "code",
   "execution_count": null,
   "id": "70911bed",
   "metadata": {},
   "outputs": [],
   "source": [
    "%%bash\n",
    "\n",
    "pwd"
   ]
  },
  {
   "cell_type": "code",
   "execution_count": null,
   "id": "16afcd64",
   "metadata": {},
   "outputs": [],
   "source": [
    "%%bash\n",
    "\n",
    "cd data\n",
    "pwd"
   ]
  },
  {
   "cell_type": "markdown",
   "id": "6b5f61b4",
   "metadata": {},
   "source": [
    "### Create a `.txt` file using Context Manager"
   ]
  },
  {
   "cell_type": "code",
   "execution_count": null,
   "id": "ebde9f85",
   "metadata": {},
   "outputs": [],
   "source": [
    "with open(\"data/example.txt\", \"w\") as f:\n",
    "    f.write(\"Hello\")"
   ]
  },
  {
   "cell_type": "markdown",
   "id": "076e06c5",
   "metadata": {},
   "source": [
    "#### View the head of this file"
   ]
  },
  {
   "cell_type": "code",
   "execution_count": null,
   "id": "534456a1",
   "metadata": {},
   "outputs": [],
   "source": [
    "%%bash\n",
    "\n",
    "cd data\n",
    "head example.txt"
   ]
  },
  {
   "cell_type": "markdown",
   "id": "71bbc2e2",
   "metadata": {},
   "source": [
    "#### View head and tail for file with multiple lines"
   ]
  },
  {
   "cell_type": "code",
   "execution_count": null,
   "id": "ec8946ae",
   "metadata": {},
   "outputs": [],
   "source": [
    "with open(\"data/example.txt\", \"w\") as f:\n",
    "    f.write(\"Hello\")\n",
    "    f.write(\"\\n\")\n",
    "    f.write(\"Hola\")"
   ]
  },
  {
   "cell_type": "code",
   "execution_count": null,
   "id": "75ca5e46",
   "metadata": {},
   "outputs": [],
   "source": [
    "%%bash\n",
    "\n",
    "cd data\n",
    "head example.txt"
   ]
  },
  {
   "cell_type": "markdown",
   "id": "ab027330",
   "metadata": {},
   "source": [
    "#### View the tail of this file"
   ]
  },
  {
   "cell_type": "code",
   "execution_count": null,
   "id": "5d30453e",
   "metadata": {},
   "outputs": [],
   "source": [
    "%%bash\n",
    "\n",
    "cd data\n",
    "tail -1 example.txt"
   ]
  },
  {
   "cell_type": "markdown",
   "id": "5e62381f",
   "metadata": {},
   "source": [
    "# Compressing and Decompressing Files"
   ]
  },
  {
   "cell_type": "markdown",
   "id": "b9b3b1a6",
   "metadata": {},
   "source": [
    "## Data Compressing"
   ]
  },
  {
   "cell_type": "markdown",
   "id": "51905969",
   "metadata": {},
   "source": [
    "`Data Compression` is the process of encoding information using fewer bits than a decoded representation would use through the use of specific encoding schemes. Compression is needed because it helps to reduce the consumption of expensive resources such as a hard disk or transmission bandwidth."
   ]
  },
  {
   "cell_type": "markdown",
   "id": "bf2df1e2",
   "metadata": {},
   "source": [
    "### `gzip`"
   ]
  },
  {
   "cell_type": "markdown",
   "id": "2fe5105c",
   "metadata": {},
   "source": [
    "`gzip` is a form of data compression. The original data can be restored by unzipping the compressed file. `gzip` can compress all files; it doesn't make any difference what the file type is or the encoding. Obviously, some files can be compressed more effectively than others, so the bandwidth saving will vary - text files like HTML give the best results; images are not compressed so much by `gzip` because they already have some compression built-in. "
   ]
  },
  {
   "cell_type": "markdown",
   "id": "8a9a8b66",
   "metadata": {},
   "source": [
    "Here are the code to compress and decompress files using `gzip`:"
   ]
  },
  {
   "cell_type": "markdown",
   "id": "69fd2cff",
   "metadata": {},
   "source": [
    "First we go back to home directory, and navigate towards the directory where the file is at."
   ]
  },
  {
   "cell_type": "code",
   "execution_count": null,
   "id": "f369d0dd",
   "metadata": {},
   "outputs": [],
   "source": [
    "%%bash\n",
    "\n",
    "cd\n",
    "pwd"
   ]
  },
  {
   "cell_type": "code",
   "execution_count": null,
   "id": "ef5abb5c",
   "metadata": {},
   "outputs": [],
   "source": [
    "%%bash\n",
    "\n",
    "cd data\n",
    "gzip example.txt\n",
    "ls"
   ]
  },
  {
   "cell_type": "markdown",
   "id": "19d9f7c8",
   "metadata": {},
   "source": [
    "Now we can see the `example.txt.gz` file in the directory"
   ]
  },
  {
   "cell_type": "markdown",
   "id": "2669d0b2",
   "metadata": {},
   "source": [
    "We can unzip the file with the code below:"
   ]
  },
  {
   "cell_type": "code",
   "execution_count": null,
   "id": "bcb30f8c",
   "metadata": {},
   "outputs": [],
   "source": [
    "%%bash\n",
    "\n",
    "cd data\n",
    "gzip -d example.txt.gz\n",
    "ls"
   ]
  },
  {
   "cell_type": "code",
   "execution_count": null,
   "id": "3505c960",
   "metadata": {},
   "outputs": [],
   "source": [
    "Now you see the unzipped `example.txt` file"
   ]
  },
  {
   "cell_type": "code",
   "execution_count": null,
   "id": "007a6b2e",
   "metadata": {},
   "outputs": [],
   "source": [
    "We can also customized the name of the zipped file using the code below:"
   ]
  },
  {
   "cell_type": "code",
   "execution_count": null,
   "id": "78f996c8",
   "metadata": {},
   "outputs": [],
   "source": [
    "%%bash\n",
    "\n",
    "cd data\n",
    "gzip -c example.txt > output.txt.gz\n",
    "ls"
   ]
  },
  {
   "cell_type": "code",
   "execution_count": null,
   "id": "55f1c0c7",
   "metadata": {},
   "outputs": [],
   "source": [
    " `example.txt` and `output.txt.gz` are both in the directory"
   ]
  }
 ],
 "metadata": {
  "kernelspec": {
   "display_name": "Python 3 (ipykernel)",
   "language": "python",
   "name": "python3"
  },
  "language_info": {
   "codemirror_mode": {
    "name": "ipython",
    "version": 3
   },
   "file_extension": ".py",
   "mimetype": "text/x-python",
   "name": "python",
   "nbconvert_exporter": "python",
   "pygments_lexer": "ipython3",
   "version": "3.10.3"
  }
 },
 "nbformat": 4,
 "nbformat_minor": 5
}
