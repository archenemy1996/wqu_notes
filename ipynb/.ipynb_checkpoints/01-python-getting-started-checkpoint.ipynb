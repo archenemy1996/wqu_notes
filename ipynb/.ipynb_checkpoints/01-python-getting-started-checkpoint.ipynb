{
 "cells": [
  {
   "cell_type": "markdown",
   "id": "d049603c",
   "metadata": {},
   "source": [
    "<font size=\"+3\"><strong>Python: Getting Started</strong></font>"
   ]
  },
  {
   "cell_type": "markdown",
   "id": "a868b7e0",
   "metadata": {},
   "source": [
    "# Simple Calculations"
   ]
  },
  {
   "cell_type": "markdown",
   "id": "613ad3a7",
   "metadata": {},
   "source": [
    "In addition to all the more complex things you can do in Python, it is also useful for completing simple mathematical operations."
   ]
  },
  {
   "cell_type": "markdown",
   "id": "6e06e45f",
   "metadata": {},
   "source": [
    "**Addition and Subtraction**\n",
    "\n",
    "Add numbers together like this:"
   ]
  },
  {
   "cell_type": "code",
   "execution_count": null,
   "id": "e0b70874",
   "metadata": {},
   "outputs": [],
   "source": [
    "1 + 1"
   ]
  },
  {
   "cell_type": "markdown",
   "id": "179674b6",
   "metadata": {},
   "source": [
    "Notice that you don't need to include `=` in order to make the operation work.\n",
    "\n",
    "Subtract numbers like this:"
   ]
  },
  {
   "cell_type": "code",
   "execution_count": null,
   "id": "67cf9518",
   "metadata": {},
   "outputs": [],
   "source": [
    "2 - 1"
   ]
  },
  {
   "cell_type": "markdown",
   "id": "c18bfb2e",
   "metadata": {},
   "source": [
    "**Division**\n",
    "\n",
    "Divide numbers like this:"
   ]
  },
  {
   "cell_type": "code",
   "execution_count": null,
   "id": "3f4b83e0",
   "metadata": {},
   "outputs": [],
   "source": [
    "4 / 2"
   ]
  },
  {
   "cell_type": "markdown",
   "id": "7041d741",
   "metadata": {},
   "source": [
    "Remember that Python will return an error if you try to divide by 0!"
   ]
  },
  {
   "cell_type": "markdown",
   "id": "b1d2c8dc",
   "metadata": {},
   "source": [
    "**Modulo Division**\n",
    "\n",
    "Perform modulo division like this:"
   ]
  },
  {
   "cell_type": "code",
   "execution_count": null,
   "id": "b3563a23",
   "metadata": {},
   "outputs": [],
   "source": [
    "5 % 2"
   ]
  },
  {
   "cell_type": "markdown",
   "id": "75a3e593",
   "metadata": {},
   "source": [
    "**Multiplication**\n",
    "\n",
    "Multiply numbers like this: "
   ]
  },
  {
   "cell_type": "code",
   "execution_count": null,
   "id": "9bd0d22f",
   "metadata": {},
   "outputs": [],
   "source": [
    "4 * 2"
   ]
  },
  {
   "cell_type": "markdown",
   "id": "cc4594a6",
   "metadata": {},
   "source": [
    "Add **exponents** to numbers like this:"
   ]
  },
  {
   "cell_type": "code",
   "execution_count": null,
   "id": "a006ab93",
   "metadata": {},
   "outputs": [],
   "source": [
    "4**2"
   ]
  },
  {
   "cell_type": "markdown",
   "id": "b8776aaf",
   "metadata": {},
   "source": [
    "## Order of Operations\n",
    "Just like everywhere else, Python works on a specific order of operations. That order is:\n",
    "\n",
    "Parentheses Exponents Multiplication Addition Subtraction\n",
    "\n",
    "If you remember being taught PEMDAS, then this is the same thing! All the operations in Python work with levels of parentheses, so if you wanted to add two numbers together, and then add another number to the result, the code would look like this:"
   ]
  },
  {
   "cell_type": "code",
   "execution_count": null,
   "id": "b984a2c8",
   "metadata": {},
   "outputs": [],
   "source": [
    "(6 + 4) + 4"
   ]
  },
  {
   "cell_type": "markdown",
   "id": "62415496",
   "metadata": {},
   "source": [
    "Things get more complicated when we add more terms to the equation, but the principle remains the same: if you open a set of parentheses, make sure you close it too. Here's an example that uses all the PEMDAS possibilities:"
   ]
  },
  {
   "cell_type": "code",
   "execution_count": null,
   "id": "eb92a560",
   "metadata": {},
   "outputs": [],
   "source": [
    "(((5**3 + 7) * 4) / 16 + 9 - 2)"
   ]
  },
  {
   "cell_type": "markdown",
   "id": "e706bb9b",
   "metadata": {},
   "source": [
    "# Data Types"
   ]
  },
  {
   "cell_type": "markdown",
   "id": "8ccc6bfe",
   "metadata": {},
   "source": [
    "\n",
    "There are lots of different types of data in the world, and Python groups that data into several categories.\n",
    "\n",
    "**Boolean** (`bool`)**:** \n",
    "- Any data which can be expressed as either `True` or `False`.\n",
    "- Used when comparing two values. For example, if you enter `10 > 9`, Python will return `True`.\n",
    "\n",
    "**String** (`str`)**:**\n",
    "\n",
    "- Data that involves text — either letters, numbers, or special characters. \n",
    "- Strings are enclosed in either single- or double-quotation marks: `\"string-1\"` or `'string-2'`.\n",
    "\n",
    "**Numeric** (`int`, `float`, `complex`)**:**\n",
    "\n",
    "- Data that can be expressed numerically.\n",
    "- An integer, or `int`, is a whole number, positive or negative, without decimals, of unlimited length:  `123`.\n",
    "- A floating-point number, or `float`, is a number, positive or negative, containing one or more decimals: `123.01`.\n",
    "- A complex number, or `complex`, are imaginary numbers, designated by a `j`: `(3 + 6j)`.\n",
    "\n",
    "**Sequence** (`list`, `tuple`, `set`)**:**\n",
    "\n",
    "- Data that is a collection of discrete items.\n",
    "- A `list` is collection that is ordered and changeable. It's designated using square brackets `[]`, and items can be of different data types: `[\"red\", 1, 1.03, 1]`.\n",
    "- A `tuple` is a collection which is ordered and unchangeable. It's designated using parentheses `()`: `(\"red\", 1, 1.03, 1)`.\n",
    "- A `set` is a collection which is unordered, unchangeable, and does not permit duplicate items. It's designated using curly brackets `{}`: `{\"red\", 1, 1.03}`.\n",
    "\n",
    "**Mapping** (`dict`)**:** \n",
    "- Dictionaries store data in *key-value* pairs. They're designated using curly brackets `{}`, like a `set`, but notice that keys and values are associated with each other using a colon `:`. Each pair is separated from the next using a comma `,`.\n",
    "\n",
    "```python\n",
    "dict1 = {\n",
    "    \"department\": \"quindio\", \n",
    "    \"property_type\": \"house\", \n",
    "    \"price_usd\": 330899.98\n",
    "}\n",
    "```\n",
    "\n",
    "**Binary** (`bytes`, `bytearray`, `memoryview`)**:**\n",
    "- Used to manipulate and display binary data. That is, data that can be expressed with integers represented with base 2.\n",
    "- Unlike the other data types described above, `binary` types are not human-readable."
   ]
  },
  {
   "cell_type": "markdown",
   "id": "e64bb72e",
   "metadata": {},
   "source": [
    "# Lists"
   ]
  },
  {
   "cell_type": "markdown",
   "id": "72d54830",
   "metadata": {},
   "source": [
    "In Python, a **list** is a collection of data that stores multiple items in a single variable. These items must be ordered, able to be changed, and can be duplicated. A list can store data of multiple types; not all the items in the list need to be the same type."
   ]
  },
  {
   "cell_type": "markdown",
   "id": "3d25994a",
   "metadata": {},
   "source": [
    "## Creating Lists\n",
    "Lists can be as long or as short as you like. Let's create a short list based on data from the Colombian real estate market to give us something to work with.\n",
    "\n",
    "Lists are written with square brackets. Code for a short list that shows the price of houses in US dollars looks like this:"
   ]
  },
  {
   "cell_type": "code",
   "execution_count": null,
   "id": "7f6cc56c",
   "metadata": {},
   "outputs": [],
   "source": [
    "price_usd = [97919.38, 300511.20, 293758.14]\n",
    "print(price_usd)"
   ]
  },
  {
   "cell_type": "markdown",
   "id": "84929b59",
   "metadata": {},
   "source": [
    "## Working with Lists\n",
    "After you've created a list, you can **access** any item on the list by referring to the item's index number. Keep in mind that in Python, the first item in a list is always 0. \n",
    "\n",
    "Let's access the second item of our `price_usd` list."
   ]
  },
  {
   "cell_type": "code",
   "execution_count": null,
   "id": "193afdee",
   "metadata": {},
   "outputs": [],
   "source": [
    "print(price_usd[1])"
   ]
  },
  {
   "cell_type": "markdown",
   "id": "7d1ce1ec",
   "metadata": {},
   "source": [
    "<font size=\"+1\">Practice</font>\n",
    "\n",
    "Try it yourself! Create and print a list that shows the area of the houses, called `area_m2`. Include the items `187.0`, `82.0`, and `235.0`."
   ]
  },
  {
   "cell_type": "code",
   "execution_count": null,
   "id": "2baa9f01",
   "metadata": {},
   "outputs": [],
   "source": [
    "area_m2 = [187.0, 82.0, 235.0]\n",
    "print(area_m2)"
   ]
  },
  {
   "cell_type": "markdown",
   "id": "72c1b8fe",
   "metadata": {},
   "source": [
    "If we want to access the an item at the end of the list, we can use **negative indexing**. In negative indexing, -1 refers to the last item, -2 to the second to last, and so on. \n",
    "\n",
    "Let's access the last item in our `department` list."
   ]
  },
  {
   "cell_type": "code",
   "execution_count": null,
   "id": "4c653141",
   "metadata": {},
   "outputs": [],
   "source": [
    "print(price_usd[-1])"
   ]
  },
  {
   "cell_type": "markdown",
   "id": "d8ea6302",
   "metadata": {},
   "source": [
    "<font size=\"+1\">Practice</font>\n",
    "\n",
    "Try accessing the second item in your `area_m2` list."
   ]
  },
  {
   "cell_type": "code",
   "execution_count": null,
   "id": "261af3d0",
   "metadata": {},
   "outputs": [],
   "source": [
    "area_m2[1]"
   ]
  },
  {
   "cell_type": "markdown",
   "id": "9d004582",
   "metadata": {},
   "source": [
    "Try accessing the last item in the same list."
   ]
  },
  {
   "cell_type": "code",
   "execution_count": null,
   "id": "b1405d0c",
   "metadata": {},
   "outputs": [],
   "source": [
    "print(area_m2[-1])"
   ]
  },
  {
   "cell_type": "markdown",
   "id": "cb4d9eb2",
   "metadata": {},
   "source": [
    "### Appending Items\n",
    "It's also possible to add an item to a list that already exists using the  `append` method like this:"
   ]
  },
  {
   "cell_type": "code",
   "execution_count": null,
   "id": "83e5431d",
   "metadata": {},
   "outputs": [],
   "source": [
    "price_usd.append(540244.86)\n",
    "print(price_usd)"
   ]
  },
  {
   "cell_type": "markdown",
   "id": "56d52c45",
   "metadata": {},
   "source": [
    "<font size=\"+1\">Practice</font>\n",
    "\n",
    "Add the item `195.0` to your `area_m2` list."
   ]
  },
  {
   "cell_type": "code",
   "execution_count": null,
   "id": "cf20d50d",
   "metadata": {},
   "outputs": [],
   "source": [
    "area_m2.append(195.0)\n",
    "print(area_m2)"
   ]
  },
  {
   "cell_type": "markdown",
   "id": "d1780815",
   "metadata": {},
   "source": [
    "### Aggregating Items\n",
    "\n",
    "We can also **aggregate** items on a list to make analyzing the list more useful. For example, if we wanted to know the total value in US dollars of the houses on our `price_usd` list, we could use the `sum` method."
   ]
  },
  {
   "cell_type": "code",
   "execution_count": null,
   "id": "a4a09cea",
   "metadata": {},
   "outputs": [],
   "source": [
    "total_usd = sum(price_usd)"
   ]
  },
  {
   "cell_type": "markdown",
   "id": "c0e02370",
   "metadata": {},
   "source": [
    "We might also be interested in the average value in US dollars of the houses on the same list. To find the average, we add the `len` method to the `sum` method."
   ]
  },
  {
   "cell_type": "code",
   "execution_count": null,
   "id": "f19e75e7",
   "metadata": {},
   "outputs": [],
   "source": [
    "average_usd = sum(price_usd) / len(price_usd)"
   ]
  },
  {
   "cell_type": "markdown",
   "id": "f638b383",
   "metadata": {},
   "source": [
    "<font size=\"+1\">Practice</font>\n",
    "\n",
    "Try it yourself! Calculate the total area of the houses on your `area_m2` list, and find the average area of all the houses on the list. "
   ]
  },
  {
   "cell_type": "code",
   "execution_count": null,
   "id": "e62531ac",
   "metadata": {},
   "outputs": [],
   "source": [
    "total_area_m2 = sum(area_m2)\n",
    "print(total_area_m2)"
   ]
  },
  {
   "cell_type": "code",
   "execution_count": null,
   "id": "9bbb2ddf",
   "metadata": {},
   "outputs": [],
   "source": [
    "average_area_m2 = sum(area_m2) / len(area_m2)\n",
    "print(average_area_m2)"
   ]
  },
  {
   "cell_type": "markdown",
   "id": "c2687a57",
   "metadata": {},
   "source": [
    "### Zipping Items\n",
    "\n",
    "Finally, it might be useful to combine -- or **zip** -- two lists together. For example, we might want to create a new list that pairs the values in our `price_usd` list with our `area_m2` list. To do that, we use the `zip` method. The code looks like this:\n",
    "\n",
    "You might have noticed that the above code involving putting one list (in this case, `new_list`) inside another list (in this case, `list`). This approach is called a **generator**, and we'll come back to what that is and how it works later in the course. "
   ]
  },
  {
   "cell_type": "code",
   "execution_count": null,
   "id": "8b01e5de",
   "metadata": {},
   "outputs": [],
   "source": [
    "new_list = zip(price_usd, area_m2)\n",
    "zipped_list = list(new_list)"
   ]
  },
  {
   "cell_type": "markdown",
   "id": "ff802601",
   "metadata": {},
   "source": [
    "You might have noticed that the above code involving putting one list (in this case, `new_list`) inside another list (in this case, `list`). This approach is called a **generator**, and we'll come back to what that is and how it works later in the course."
   ]
  },
  {
   "cell_type": "markdown",
   "id": "dcd89e17",
   "metadata": {},
   "source": [
    "<font size=\"+1\">Practice</font>\n",
    "\n",
    "Try it yourself! Create a list called `area_m2` that includes the terms `235.0`, `130.0`, and `137.0`, then create another list called `price_cop` that includes the terms `400000000.0`, `850000000.0`, and `475000000.0`. Then zip them together to create a new list called `area_price`, and `print` the result."
   ]
  },
  {
   "cell_type": "code",
   "execution_count": null,
   "id": "55adac9f",
   "metadata": {},
   "outputs": [],
   "source": [
    "area_m2 = [235.0, 130.0, 137.0]\n",
    "price_cop = [400000000.0, 850000000.0, 475000000.0]\n",
    "area_price = zip(area_m2, price_cop)\n",
    "zipped_list = list(area_price)\n",
    "print(zipped_list)"
   ]
  },
  {
   "cell_type": "markdown",
   "id": "3ed5c6e8",
   "metadata": {},
   "source": [
    "# Python `for` Loops"
   ]
  },
  {
   "cell_type": "markdown",
   "id": "32f152bf",
   "metadata": {},
   "source": [
    "A `for` Loop is used for executing a set of statements for each item in a list."
   ]
  },
  {
   "cell_type": "markdown",
   "id": "d88f6a50",
   "metadata": {},
   "source": [
    "## Working with `for` Loops\n",
    "\n",
    "There can be as many statements as there are items in the list, but to keep things manageable, let's use our list of real estate values in Colombia."
   ]
  },
  {
   "cell_type": "code",
   "execution_count": null,
   "id": "1bc4e167",
   "metadata": {},
   "outputs": [],
   "source": [
    "price_usd = [97919.38, 300511.20, 293758.14, 540244.86]\n",
    "print(price_usd)"
   ]
  },
  {
   "cell_type": "markdown",
   "id": "16783c1f",
   "metadata": {},
   "source": [
    "We might want to see each of the values in the list, so we insert a `for` Loop:"
   ]
  },
  {
   "cell_type": "code",
   "execution_count": null,
   "id": "78812639",
   "metadata": {},
   "outputs": [],
   "source": [
    "price_usd = [97919.38, 300511.20, 293758.14, 540244.86]\n",
    "for x in price_usd:\n",
    "    print(x)"
   ]
  },
  {
   "cell_type": "code",
   "execution_count": null,
   "id": "b0739e85",
   "metadata": {},
   "outputs": [],
   "source": [
    "Note that the `print` command is indented."
   ]
  },
  {
   "cell_type": "markdown",
   "id": "1f63ced2",
   "metadata": {},
   "source": [
    "<font size=\"+1\">Practice</font>\n",
    "\n",
    "Try it yourself using the `area_m2` list:"
   ]
  },
  {
   "cell_type": "code",
   "execution_count": null,
   "id": "b1879cee",
   "metadata": {},
   "outputs": [],
   "source": [
    "area_m2 = [187.0, 82.0, 235.0]\n",
    "for x in area_m2:\n",
    "    print(x)"
   ]
  },
  {
   "cell_type": "markdown",
   "id": "ed4ec52e",
   "metadata": {},
   "source": [
    "# Python Dictionaries"
   ]
  },
  {
   "cell_type": "markdown",
   "id": "dba17814",
   "metadata": {},
   "source": [
    "In Python, a **dictionary** is a collection of data that occurs in an order, is able to be changed, and does not allow duplicates. Data in a dictionary are always presented as **keys** and **values**, and those key-value pairs cannot be duplicated in the dataset."
   ]
  },
  {
   "cell_type": "markdown",
   "id": "1ff369f4",
   "metadata": {},
   "source": [
    "## Creating Dictionaries\n",
    "\n",
    "Dictionaries can be as big or as small as you like. Let's create a small dictionary based on data from the Colombian real estate market to give us something to work with. \n",
    "\n",
    "Dictionaries are written with curly brackets, with key-value pairs inside. Code for a small dictionary looks like this:"
   ]
  },
  {
   "cell_type": "code",
   "execution_count": null,
   "id": "c554d32b",
   "metadata": {},
   "outputs": [],
   "source": [
    "colomdict = {\n",
    "    \"property_type\": \"house\",\n",
    "    \"department\": \"quindio\",\n",
    "    \"area\": 235.0,\n",
    "}"
   ]
  },
  {
   "cell_type": "markdown",
   "id": "e80ce033",
   "metadata": {},
   "source": [
    "<font size=\"+1\">Practice</font>\n",
    "\n",
    "Try it yourself! Create and `print` a dictionary called `bogota` with the key-value pairs `\"price_usd\": 121,555.09`, `\"area_m2\": 82.0`, and `\"property_type\": \"house\"`"
   ]
  },
  {
   "cell_type": "code",
   "execution_count": null,
   "id": "a675c29a",
   "metadata": {},
   "outputs": [],
   "source": [
    "bogota = {\n",
    "\"price_usd\": '121,555.09',\n",
    "\"area_m2\": 82.0,\n",
    "\"property_type\": \"house\",\n",
    "}\n",
    "print(bogota)"
   ]
  },
  {
   "cell_type": "markdown",
   "id": "a867cdad",
   "metadata": {},
   "source": [
    "## Working with Dictionaries \n",
    "\n",
    "After you've created a dictionary, you can **access** any item by using its key name inside square brackets.\n",
    "\n",
    "Going back to our example dictionary, let's access the value for \"department\"."
   ]
  },
  {
   "cell_type": "code",
   "execution_count": null,
   "id": "0a13dda3",
   "metadata": {},
   "outputs": [],
   "source": [
    "x = colomdict[\"department\"]\n",
    "print(x)"
   ]
  },
  {
   "cell_type": "markdown",
   "id": "c8874d9f",
   "metadata": {},
   "source": [
    "<font size=\"+1\">Practice</font>\n",
    "\n",
    "Try accessing the value for `price_usd` in the Bogotá dictionary you created above."
   ]
  },
  {
   "cell_type": "code",
   "execution_count": null,
   "id": "756de7c8",
   "metadata": {},
   "outputs": [],
   "source": [
    "x = bogota[\"price_usd\"]\n",
    "print(x)"
   ]
  },
  {
   "cell_type": "markdown",
   "id": "d3d570e7",
   "metadata": {},
   "source": [
    "You can also use `get` to retrieve a value. That looks like this:"
   ]
  },
  {
   "cell_type": "code",
   "execution_count": null,
   "id": "2cf0ba3a",
   "metadata": {},
   "outputs": [],
   "source": [
    "x = colomdict.get(\"department\")"
   ]
  },
  {
   "cell_type": "markdown",
   "id": "83261c8d",
   "metadata": {},
   "source": [
    "<font size=\"+1\">Practice</font>\n",
    "\n",
    "Now try accessing the value for `area_m2` using the `get` method, and print the result."
   ]
  },
  {
   "cell_type": "code",
   "execution_count": null,
   "id": "e4c12b4d",
   "metadata": {},
   "outputs": [],
   "source": [
    "x = bogota.get(\"price_usd\")\n",
    "print(x)\n"
   ]
  },
  {
   "cell_type": "markdown",
   "id": "dacb0353",
   "metadata": {},
   "source": [
    "### Dictionary Keys"
   ]
  },
  {
   "cell_type": "markdown",
   "id": "411d6cb0",
   "metadata": {},
   "source": [
    "Sometimes you want to know what the keys are in the dictionary, or you want to iterate through the dictionary. In such cases, you need to write code to access all keys in a dictionary by utilizing the `keys` method:"
   ]
  },
  {
   "cell_type": "code",
   "execution_count": null,
   "id": "79c23cd3",
   "metadata": {},
   "outputs": [],
   "source": [
    "colomdict.keys()"
   ]
  },
  {
   "cell_type": "markdown",
   "id": "0745fa43",
   "metadata": {},
   "source": [
    "If you need to use the keys in a list, you can transform the output:"
   ]
  },
  {
   "cell_type": "code",
   "execution_count": null,
   "id": "ed70c038",
   "metadata": {},
   "outputs": [],
   "source": [
    "list(colomdict.keys())"
   ]
  },
  {
   "cell_type": "markdown",
   "id": "1d4aea89",
   "metadata": {},
   "source": [
    "You can also iterate though `colomdict.keys()` without converting it to a list:"
   ]
  },
  {
   "cell_type": "code",
   "execution_count": null,
   "id": "8ab28233",
   "metadata": {},
   "outputs": [],
   "source": [
    "for k in colomdict.keys():\n",
    "    print(k)"
   ]
  },
  {
   "cell_type": "markdown",
   "id": "53af9015",
   "metadata": {},
   "source": [
    "<font size=\"+1\">Practice</font>\n",
    "\n",
    "print the value of each key in the `colomdict` dictionary"
   ]
  },
  {
   "cell_type": "code",
   "execution_count": null,
   "id": "94e1ca7c",
   "metadata": {},
   "outputs": [],
   "source": [
    "for k in colomdict.values():\n",
    "    print(k)"
   ]
  },
  {
   "cell_type": "markdown",
   "id": "ece3bfff",
   "metadata": {},
   "source": [
    "# JSON"
   ]
  },
  {
   "cell_type": "markdown",
   "id": "1170e607",
   "metadata": {},
   "source": [
    "JSON stands for Java Script Object Notation, and it's a text format for storing and transporting data."
   ]
  },
  {
   "cell_type": "markdown",
   "id": "4631cd6c",
   "metadata": {},
   "source": [
    "## Working with JSON\n",
    "\n",
    "JSON works by creating **key-value pairs**, where the key is data that can be represented by letters (called a **string**). JSON values can be strings, numbers, objects, arrays, boolean data, or null. JSON usually comes as a list of dictionaries, which look like this:\n",
    "\n",
    "Here's an example from our `colombia-real-estate-1` dataset with two key-value pairs that both include string values:"
   ]
  },
  {
   "cell_type": "code",
   "execution_count": null,
   "id": "263ecd14",
   "metadata": {},
   "outputs": [],
   "source": [
    "[\n",
    "    {\"property_type\": \"house\", \"department\": \"bogota\"},\n",
    "    {\"property_type\": \"house\", \"department\": \"bogota\"},\n",
    "    {\"property_type\": \"house\", \"department\": \"bogota\"},\n",
    "]"
   ]
  },
  {
   "cell_type": "markdown",
   "id": "1110cf8e",
   "metadata": {},
   "source": [
    "Here's an simplified example from our `colombia-real-estate-1` dataset with two key-value pairs that both include string values:"
   ]
  },
  {
   "cell_type": "code",
   "execution_count": null,
   "id": "0216292a",
   "metadata": {},
   "outputs": [],
   "source": [
    "{\"property_type\": \"house\", \"department\": \"bogota\"}"
   ]
  },
  {
   "cell_type": "markdown",
   "id": "931c1b1d",
   "metadata": {},
   "source": [
    "JSON pairs with numbers look like this:"
   ]
  },
  {
   "cell_type": "code",
   "execution_count": null,
   "id": "5d764a37",
   "metadata": {},
   "outputs": [],
   "source": [
    "{\"area_m2\": 187.0, \"price_usd\": 330899.98}"
   ]
  },
  {
   "cell_type": "markdown",
   "id": "540a3d80",
   "metadata": {},
   "source": [
    "When you mix more than one type of value, it looks like this:"
   ]
  },
  {
   "cell_type": "code",
   "execution_count": null,
   "id": "b21f22a3",
   "metadata": {},
   "outputs": [],
   "source": [
    "{\"property_type\": \"house\", \"price_usd\": 330899.98}"
   ]
  },
  {
   "cell_type": "markdown",
   "id": "b071788f",
   "metadata": {},
   "source": [
    "# References & Further Reading\n",
    "\n",
    "- [A guide to basic math operations in Python](https://codingexplained.com/coding/python/basic-math-operators-in-python)\n",
    "- [Python documentation on built-in data types](https://docs.python.org/3/library/stdtypes.html)\n",
    "- [Summary of Python data types](https://www.w3schools.com/python/python_datatypes.asp)\n",
    "- [Tutorial on type conversion in Python](https://www.datacamp.com/community/tutorials/python-data-type-conversion)\n",
    "- [A description of how dictionaries work in Python](https://www.w3schools.com/python/python_dictionaries.asp)\n",
    "- [An introduction to JSON](https://www.w3schools.com/js/js_json_syntax.asp)\n",
    "- [An introduction to lists in Python](https://www.w3schools.com/python/python_lists.asp)\n",
    "- [How to zip lists](https://www.kite.com/python/answers/how-to-zip-two-lists-in-python)\n",
    "- [Calculating mean, median, and mode in Python](https://stackabuse.com/calculating-mean-median-and-mode-in-python/)\n",
    "- [A brief tutorial of For Loops](https://www.w3schools.com/python/python_for_loops.asp)"
   ]
  }
 ],
 "metadata": {
  "kernelspec": {
   "display_name": "Python 3 (ipykernel)",
   "language": "python",
   "name": "python3"
  },
  "language_info": {
   "codemirror_mode": {
    "name": "ipython",
    "version": 3
   },
   "file_extension": ".py",
   "mimetype": "text/x-python",
   "name": "python",
   "nbconvert_exporter": "python",
   "pygments_lexer": "ipython3",
   "version": "3.10.3"
  }
 },
 "nbformat": 4,
 "nbformat_minor": 5
}
