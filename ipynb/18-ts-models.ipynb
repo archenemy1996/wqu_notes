{
 "cells": [
  {
   "cell_type": "markdown",
   "id": "7a8adca1",
   "metadata": {},
   "source": [
    "<font size=\"+3\"><strong>Time Series: Statistical Models</strong></font>"
   ]
  },
  {
   "cell_type": "markdown",
   "id": "440f56c1",
   "metadata": {},
   "source": [
    "# Autoregression\n",
    "\n",
    "Autoregression (AR) is a time series model that uses observations from previous time steps as input to a regression equation to predict the value at the next time step. AR works in a similar way to **autocorrelation**: in both cases, we're taking data from one part of a set and comparing it to another part. An AR model regresses itself. \n",
    "\n",
    "## Cleaning the Data\n",
    "\n",
    "Just like with linear regression, we'll start by bringing in some tools to help us along the way."
   ]
  },
  {
   "cell_type": "code",
   "execution_count": null,
   "id": "c5890d37",
   "metadata": {},
   "outputs": [],
   "source": [
    "import warnings\n",
    "\n",
    "import matplotlib.pyplot as plt\n",
    "import pandas as pd\n",
    "import plotly.express as px\n",
    "from pymongo import MongoClient\n",
    "from sklearn.metrics import mean_absolute_error\n",
    "from statsmodels.graphics.tsaplots import plot_acf, plot_pacf\n",
    "from statsmodels.tsa.ar_model import AutoReg\n",
    "\n",
    "warnings.simplefilter(action=\"ignore\", category=FutureWarning)"
   ]
  },
  {
   "cell_type": "markdown",
   "id": "8fa4de20",
   "metadata": {},
   "source": [
    "Since we'll be working with the `\"air-quality\"` data again, we need to connect to the server, start our client, and grab the data we need."
   ]
  },
  {
   "cell_type": "code",
   "execution_count": null,
   "id": "804c82f8",
   "metadata": {},
   "outputs": [],
   "source": [
    "client = MongoClient(host=\"localhost\", port=27017)\n",
    "db = client[\"air-quality\"]\n",
    "lagos = db[\"lagos\"]"
   ]
  },
  {
   "cell_type": "markdown",
   "id": "bbb59fd6",
   "metadata": {},
   "source": [
    "<font size=\"+1\">Practice</font>\n",
    "\n",
    "Just to make sure we're all on the same page, import all those libraries and get your database up and running. Remember that even though all the examples use the Site 3 data from the `lagos` collection, the practice sets should use Site 4 data from the `lagos` collection. Call your database `lagos_prac`."
   ]
  },
  {
   "cell_type": "code",
   "execution_count": null,
   "id": "2f8c0605",
   "metadata": {},
   "outputs": [],
   "source": [
    "lagos_prac = ..."
   ]
  },
  {
   "cell_type": "markdown",
   "id": "c4597002",
   "metadata": {},
   "source": [
    "In order to get our data into a form we can use to build our model, we're going to need to transform it in several key ways. The first thing we need to do is to get the data we need, and save the results in a DataFrame. Since we're interested in predicting the changes in air quality over time, let's set the DataFrame's index to `\"timestamp\"`:"
   ]
  },
  {
   "cell_type": "code",
   "execution_count": null,
   "id": "9c885dd9",
   "metadata": {},
   "outputs": [],
   "source": [
    "results = lagos.find(\n",
    "    # Note that the `3` refers to Site 3.\n",
    "    {\"metadata.site\": 3, \"metadata.measurement\": \"P2\"},\n",
    "    projection={\"P2\": 1, \"timestamp\": 1, \"_id\": 0},\n",
    ")\n",
    "df = pd.DataFrame(list(results)).set_index(\"timestamp\")"
   ]
  },
  {
   "cell_type": "markdown",
   "id": "0dcc2a97",
   "metadata": {},
   "source": [
    "<font size=\"+1\">Practice</font>\n",
    "\n",
    "Try it yourself! Create a list called `results_prac` that pulls data from Site 4 in the `lagos` data, then save it in a DataFrame called `df_prac` with the index `\"timestamp\"`."
   ]
  },
  {
   "cell_type": "code",
   "execution_count": null,
   "id": "fe9a8984",
   "metadata": {},
   "outputs": [],
   "source": []
  },
  {
   "cell_type": "markdown",
   "id": "aa7eb27f",
   "metadata": {},
   "source": [
    "## Localizing the Timezone\n",
    "\n",
    "Because MongoDB stores all timestamps in `UTC`, we need to figure out a way to localize it. Having timestamps in UTC might be useful if we were trying to predict some kind of global trend, but since we're only interested in what's happening with the air in Lagos, we need to change the data from UTC to `Africa/Lagos`. Happily, pandas has a pair of tools to help us out: [`tz_localize`](https://pandas.pydata.org/docs/reference/api/pandas.Series.tz_localize.html) and [`tz_convert`](https://pandas.pydata.org/docs/reference/api/pandas.Series.tz_convert.html). We use those methods to transform our data like this:"
   ]
  },
  {
   "cell_type": "code",
   "execution_count": null,
   "id": "33eea404",
   "metadata": {},
   "outputs": [],
   "source": [
    "df.index = df.index.tz_localize(\"UTC\").tz_convert(\"Africa/Lagos\")"
   ]
  },
  {
   "cell_type": "markdown",
   "id": "ad614b2a",
   "metadata": {},
   "source": [
    "## Resampling Data\n",
    "\n",
    "The most important kind of data in our time-series model is the data that deals with time. Our `\"timestamp\"` data tells us when each reading was taken, but in order to create a good predictive model, we need the readings to happen at regular intervals. Our data doesn't do that, so we need to figure out a way to change it so that it does. The [`resample`](https://pandas.pydata.org/docs/reference/api/pandas.DataFrame.resample.html) method does that for us. \n",
    "\n",
    "Let's resample our data to create 1-hour reading intervals by aggregating using the mean:"
   ]
  },
  {
   "cell_type": "code",
   "execution_count": null,
   "id": "9defc218",
   "metadata": {},
   "outputs": [],
   "source": [
    "# `\"1H\"` represents our one-hour window\n",
    "df = df[\"P2\"].resample(\"1H\").mean().fillna(method=\"ffill\").to_frame()"
   ]
  },
  {
   "cell_type": "markdown",
   "id": "b0b010c3",
   "metadata": {},
   "source": [
    "Notice the second half of the code:\n",
    "\n",
    "```python\n",
    "fillna(method=\"ffill\").to_frame()\n",
    "```\n",
    "\n",
    "That tells the model to **forward-fill** any empty cells with **imputed** data. Forward-filling means that the model should start imputing data based on the closest cell that actually has data in it. This helps to keep the imputed data in line with the rest of the dataset. \n",
    "\n",
    "## Adding a Lag\n",
    "\n",
    "We've spent some time elsewhere thinking about how two sets of data &mdash; apartment price and location, for example &mdash; compare to *each other*, but we haven't had any reason to consider how a dataset might compare to *itself*. If we're predicting the future, we want to know how good our prediction will be, so it might be useful to build some of that accountability into our model. To do that, we need to add a **lag**.\n",
    "\n",
    "Lagging data means that we're adding a delay. In this case, we're going to allow the model to test itself out by comparing its predictions with what actually happened an hour before. If the prediction and the reality are close, then it's a good model; if they aren't, then the model isn't a very good one.\n",
    "\n",
    "So, let's add a one-hour lag to our dataset: "
   ]
  },
  {
   "cell_type": "code",
   "execution_count": null,
   "id": "541eea2a",
   "metadata": {},
   "outputs": [],
   "source": [
    "# In `shift(1), the `1` is the lagged interval.\n",
    "df[\"P2.L1\"] = df[\"P2\"].shift(1)"
   ]
  },
  {
   "cell_type": "code",
   "execution_count": null,
   "id": "db301a56",
   "metadata": {},
   "outputs": [],
   "source": []
  },
  {
   "cell_type": "code",
   "execution_count": null,
   "id": "c2e27dbb",
   "metadata": {},
   "outputs": [],
   "source": []
  },
  {
   "cell_type": "code",
   "execution_count": null,
   "id": "d31654d0",
   "metadata": {},
   "outputs": [],
   "source": []
  },
  {
   "cell_type": "code",
   "execution_count": null,
   "id": "45093f4f",
   "metadata": {},
   "outputs": [],
   "source": []
  },
  {
   "cell_type": "code",
   "execution_count": null,
   "id": "7dca70e7",
   "metadata": {},
   "outputs": [],
   "source": []
  },
  {
   "cell_type": "code",
   "execution_count": null,
   "id": "895dd94a",
   "metadata": {},
   "outputs": [],
   "source": []
  },
  {
   "cell_type": "code",
   "execution_count": null,
   "id": "304b9bfa",
   "metadata": {},
   "outputs": [],
   "source": []
  }
 ],
 "metadata": {
  "kernelspec": {
   "display_name": "Python 3 (ipykernel)",
   "language": "python",
   "name": "python3"
  },
  "language_info": {
   "codemirror_mode": {
    "name": "ipython",
    "version": 3
   },
   "file_extension": ".py",
   "mimetype": "text/x-python",
   "name": "python",
   "nbconvert_exporter": "python",
   "pygments_lexer": "ipython3",
   "version": "3.10.3"
  }
 },
 "nbformat": 4,
 "nbformat_minor": 5
}
