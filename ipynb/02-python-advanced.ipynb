{
 "cells": [
  {
   "cell_type": "markdown",
   "id": "49560747",
   "metadata": {},
   "source": [
    "<font size=\"+3\"><strong>Python: Advanced</strong></font>"
   ]
  },
  {
   "cell_type": "markdown",
   "id": "37f361c7",
   "metadata": {},
   "source": [
    "# Strings"
   ]
  },
  {
   "cell_type": "markdown",
   "id": "f4aeb814",
   "metadata": {},
   "source": [
    "## What's a string? <a id='whats-a-string'></a>\n",
    "\n",
    "Recall that a `string` is any kind of information that can be represented with letters."
   ]
  },
  {
   "cell_type": "markdown",
   "id": "e6b9e1bf",
   "metadata": {},
   "source": [
    "## Working with strings <a id='working-with-strings'></a>\n",
    "\n",
    "When working with data, often files and directories have names that fit a pattern. For example, data on property prices in Colombia and Mexico might be stored in files named:\n",
    "\n",
    "1. `colombia-real-estate-1.csv`\n",
    "2. `colombia-real-estate-2.csv`\n",
    "3. `colombia-real-estate-3.csv`\n",
    "4. `mexico-city-real-estate-1.csv`\n",
    "5. `mexico-city-real-estate-2.csv`\n",
    "6. `mexico-city-real-estate-3.csv`\n",
    "7. `mexico-city-real-estate-4.csv`\n",
    "8. `mexico-city-real-estate-5.csv`\n",
    "9. `mexico-city-test-features.csv`\n",
    "10. `mexico-city-test-labels.csv`\n",
    "\n",
    "When the list of files is short like this one, it's not difficult to find the ones we want, but if the list were longer, we might need some help. If we're only interested in finding files that deal with Mexico, we could search the files for files beginning with `mexico-city-real-estate-`. To do this, we'll use the `.glob` function. The code looks like this:"
   ]
  },
  {
   "cell_type": "code",
   "execution_count": null,
   "id": "d278071b",
   "metadata": {},
   "outputs": [],
   "source": [
    "import glob\n",
    "\n",
    "glob.glob(\"./data/mexico-city-real-estate-[0-9].csv\")"
   ]
  },
  {
   "cell_type": "markdown",
   "id": "c01fc691",
   "metadata": {},
   "source": [
    "The `.glob` function allows for pattern matching. In this example `[0-9]` allows for any digit between 0 and 9, but there are lots of other patterns that `.glob` can find. Here are a few of the more common ones:\n",
    "- `*` Match any number of characters\n",
    "- `?` Match a single character of any kind\n",
    "- `[a-z]` Match any lower case alphabetical character in the current locale\n",
    "- `[A-Z]` Match any upper case alphabetical character in the current locale\n",
    "- `[!a-z]` Do not match any lower case alphabetical character in the current locale\n",
    "\n",
    "So, if we wanted to find all the files from Mexico City, we would use code like this:"
   ]
  },
  {
   "cell_type": "code",
   "execution_count": null,
   "id": "d78e135b",
   "metadata": {},
   "outputs": [],
   "source": [
    "glob.glob(\"./data/mexico-city*\")"
   ]
  },
  {
   "cell_type": "markdown",
   "id": "454a9255",
   "metadata": {},
   "source": [
    "<font size=\"+1\">Practice</font> \n",
    "\n",
    "Try it yourself! Find only the data files containing the word `test`."
   ]
  },
  {
   "cell_type": "code",
   "execution_count": null,
   "id": "54026249",
   "metadata": {},
   "outputs": [],
   "source": [
    "import glob\n",
    "\n",
    "glob.glob(\"./data/mexico-city-test*.csv\")"
   ]
  },
  {
   "cell_type": "markdown",
   "id": "0c906671",
   "metadata": {},
   "source": [
    "So far, you have only searched for files in one specific directory. It's also possible to search for files in sub directories. To get a listing of all notebook files starting from the directory above this one and all others below it, you can use:"
   ]
  },
  {
   "cell_type": "code",
   "execution_count": null,
   "id": "37742e98",
   "metadata": {},
   "outputs": [],
   "source": [
    "glob.glob(\"../**/*.ipynb\", recursive=True)"
   ]
  },
  {
   "cell_type": "markdown",
   "id": "87ca78e0",
   "metadata": {},
   "source": [
    "## Working with f-strings <a id='working-with-f-strings'></a>"
   ]
  },
  {
   "cell_type": "markdown",
   "id": "0b3521af",
   "metadata": {},
   "source": [
    "We usually use `print` to examine output in Python, but most of the examples we've been printing have been relatively short. Formatted strings are helpful for all sorts of reasons, but when we're assembling and formatting a long string, using the `print` function can be difficult and time-consuming. Along the same lines, it's also useful to directly evaluate variables and expressions within strings. To do those things, we create `f\"\"` strings. The code looks like this:"
   ]
  },
  {
   "cell_type": "code",
   "execution_count": null,
   "id": "5095f0b9",
   "metadata": {},
   "outputs": [],
   "source": [
    "Home = \"Mexico City\"\n",
    "f\"My home is {Home}\""
   ]
  },
  {
   "cell_type": "code",
   "execution_count": null,
   "id": "b9680fe1",
   "metadata": {},
   "outputs": [],
   "source": [
    "import datetime\n",
    "\n",
    "python_birthday = datetime.datetime(year=1991, month=2, day=20)\n",
    "print(\n",
    "    f\"Python first appeared on {python_birthday:%B %d} in the year {python_birthday:%Y}.\"\n",
    ")\n",
    "\n",
    "now = datetime.datetime.now()\n",
    "print(f\"Python is {now.year - python_birthday.year} years old.\")"
   ]
  },
  {
   "cell_type": "markdown",
   "id": "1d9e6d64",
   "metadata": {},
   "source": [
    "<font size=\"+1\">Practice</font>  \n",
    "\n",
    "Mexico-Tenochtitlan was established on 13 March 1325; use f-strings to indicate how long ago that was."
   ]
  },
  {
   "cell_type": "code",
   "execution_count": null,
   "id": "70b96db8",
   "metadata": {},
   "outputs": [],
   "source": [
    "import datetime\n",
    "\n",
    "mexico_founding = datetime.datetime(year=1325, month=3, day=13)\n",
    "now = datetime.datetime.now()\n",
    "\n",
    "f\"Mexico-Tenochtitlan was established {now.year - mexico_founding.year} years ago.\""
   ]
  },
  {
   "cell_type": "markdown",
   "id": "e24787bb",
   "metadata": {},
   "source": [
    "*Sources and further reading* \n",
    "- [Online tutorial on finding list lengths in Python](https://www.w3schools.com/python/gloss_python_list_length.asp)\n",
    "- [Official python documentation on the `len` function](https://docs.python.org/3/library/functions.html?#len)"
   ]
  },
  {
   "cell_type": "markdown",
   "id": "c9742d06",
   "metadata": {},
   "source": [
    "# Iterators and Iterables "
   ]
  },
  {
   "cell_type": "markdown",
   "id": "1d908850",
   "metadata": {},
   "source": [
    "A list is a container with a countable number of values. Because that's true, a list is an **iterable**, meaning that we can **iterate** through it one item at a time. In other words, iterators retrieve these values only when we ask for them. If we try to bring in a large database &mdash; over a million values, for example &mdash; asking for every action to be applied to every value will take up a huge amount of memory. Iterators are helpful because they allow us to free up memory to use for other tasks. We'll spend more time working with databases later on, but for now, let's take a look at some code:"
   ]
  },
  {
   "cell_type": "code",
   "execution_count": null,
   "id": "337a74a4",
   "metadata": {},
   "outputs": [],
   "source": [
    "from pymongo import MongoClient\n",
    "\n",
    "client = MongoClient(host=\"localhost\", port=27017)\n",
    "\n",
    "(list(client.list_databases()))"
   ]
  },
  {
   "cell_type": "markdown",
   "id": "74e523cc",
   "metadata": {},
   "source": [
    "Setting aside the first two lines of code, we have a method which has returned a list of four databases. If we want to examine each database by itself, we can create a variable called `results`, and then try to print it."
   ]
  },
  {
   "cell_type": "code",
   "execution_count": null,
   "id": "9d13009e",
   "metadata": {},
   "outputs": [],
   "source": [
    "results = client.list_databases()\n",
    "print((results))"
   ]
  },
  {
   "cell_type": "markdown",
   "id": "09f42e4e",
   "metadata": {},
   "source": [
    "That doesn't seem like much of anything, but if we add the **iterator** `next()`, we'll get back something more useful."
   ]
  },
  {
   "cell_type": "code",
   "execution_count": null,
   "id": "59f90b09",
   "metadata": {},
   "outputs": [],
   "source": [
    "print(next(results))"
   ]
  },
  {
   "cell_type": "markdown",
   "id": "997cc992",
   "metadata": {},
   "source": [
    "That makes much more sense! As you can see, this returns the first row. If we do it again, we'll get the second row:"
   ]
  },
  {
   "cell_type": "code",
   "execution_count": null,
   "id": "40420327",
   "metadata": {},
   "outputs": [],
   "source": [
    "print(next(results))"
   ]
  },
  {
   "cell_type": "markdown",
   "id": "31d36455",
   "metadata": {},
   "source": [
    "We can keep doing this until we get to the end of the list, at which point we'll get an error telling us that there's nothing left to print. Every time we use the `next()` method, we're using it as an iterator to iterate through our iterable."
   ]
  },
  {
   "cell_type": "markdown",
   "id": "fa49a503",
   "metadata": {},
   "source": [
    "## List Comprehension <a id='list-comprehension'></a>"
   ]
  },
  {
   "cell_type": "markdown",
   "id": "cc45d3a2",
   "metadata": {},
   "source": [
    "List comprehension is used to iterate through lists without explicitly writing loops, which is especially useful for filtering data according to a specific condition.\n",
    "\n",
    "Let's take a look at a list that shows property prices in Mexican pesos."
   ]
  },
  {
   "cell_type": "code",
   "execution_count": null,
   "id": "19c76115",
   "metadata": {},
   "outputs": [],
   "source": [
    "price_mexican_pesos = [\n",
    "    35000000.0,\n",
    "    2000000.0,\n",
    "    2700000.0,\n",
    "    6347000.0,\n",
    "    6994543.16,\n",
    "    6617835.61,\n",
    "    670000.0,\n",
    "]"
   ]
  },
  {
   "cell_type": "markdown",
   "id": "dfc4b43b",
   "metadata": {},
   "source": [
    "But maybe we're interested in comparing these prices to property values in Colombia. To do that, we'll need to figure out how to express the data on our list in Colombian pesos. We can use a `for` loop to make the conversion based on an exchange rate of 1 Mexican peso to 190 Colombian pesos. The code looks like this:"
   ]
  },
  {
   "cell_type": "code",
   "execution_count": null,
   "id": "b92f9bd5",
   "metadata": {},
   "outputs": [],
   "source": [
    "price_colombian_pesos = []\n",
    "for price in price_mexican_pesos:\n",
    "    price_colombian_pesos.append(price * 190)\n",
    "\n",
    "print(price_colombian_pesos)"
   ]
  },
  {
   "cell_type": "markdown",
   "id": "05fc81cf",
   "metadata": {},
   "source": [
    "But what if we could do the same thing, but using fewer lines? That's what `list comprehension` is for. The code looks like this:"
   ]
  },
  {
   "cell_type": "code",
   "execution_count": null,
   "id": "04c27693",
   "metadata": {},
   "outputs": [],
   "source": [
    "price_colombian_pesos = [price * 190 for price in price_mexican_pesos]\n",
    "\n",
    "print(price_colombian_pesos)"
   ]
  },
  {
   "cell_type": "markdown",
   "id": "02c4b52c",
   "metadata": {},
   "source": [
    "We can use list comprehension to find all the `house` entries in this list of properties, like this:"
   ]
  },
  {
   "cell_type": "code",
   "execution_count": null,
   "id": "2e735e21",
   "metadata": {},
   "outputs": [],
   "source": [
    "records = [\n",
    "    'sell,apartment,|México|Distrito Federal|Benito Juárez|,\"19.384467,-99.135872\",1860000.0,MXN,1843173.75,97996.85,,70.0,,26571.42857142857',\n",
    "    'sell,apartment,|México|Distrito Federal|Iztapalapa|Cerro de La Estrella|,\"19.324123,-99.074132\",700000.0,MXN,693667.44,36880.53,,50.0,,14000.0',\n",
    "    'sell,house,|México|Distrito Federal|La Magdalena Contreras|San Jerónimo Lídice|,\"19.317653,-99.236291\",3350000.0,MXN,3319694.98,176499.72,,350.0,,9571.42857142857',\n",
    "    'sell,apartment,|México|Distrito Federal|Cuauhtémoc|,\"19.446313,-99.14006\",405108.0,MXN,401443.16,21343.71,,50.0,,8102.16',\n",
    "    'sell,house,|México|Distrito Federal|Coyoacán|,\"19.303906,-99.107812\",7200000.0,MXN,7134866.79,379342.68,,250.0,,28800.0',\n",
    "    'sell,apartment,|México|Distrito Federal|Benito Juárez|,\"19.374171,-99.181264\",2425000.0,MXN,2403062.73,127764.72,,96.0,,25260.416666666668',\n",
    "    'sell,apartment,|México|Distrito Federal|Tlalpan|,\"19.287428,-99.122283\",1250000.0,MXN,1238692.07,65858.1,,65.0,,19230.76923076923',\n",
    "    'sell,house,|México|Distrito Federal|Venustiano Carranza|,\"19.436436,-99.117256\",1362000.0,MXN,1349678.96,71758.99,,98.0,,13897.959183673467',\n",
    "    'sell,apartment,|México|Distrito Federal|Benito Juárez|,\"19.382429,-99.160199\",2250000.0,MXN,2229645.73,118544.58,,90.0,,25000.0',\n",
    "    'sell,house,|México|Distrito Federal|Tlalpan|Granjas Coapa|,\"19.300456,-99.115741\",3900000.0,MXN,3864719.42,205477.28,,153.0,,25490.19607843137',\n",
    "    'sell,apartment,|México|Distrito Federal|Álvaro Obregón|,\"19.363167,-99.276028\",9000000.0,MXN,8918583.49,474178.35,,188.0,,47872.34042553192',\n",
    "    'sell,house,|México|Distrito Federal|Coyoacán|Villa Coyoacán|,\"19.348694,-99.16291\",1150000.0,USD,21629775.0,1150000.0,,555.0,,2072.072072072072',\n",
    "    'sell,house,|México|Distrito Federal|Tlalpan|,\"19.300963,-99.144237\",7500000.0,MXN,7432152.81,395148.62,,385.0,,19480.51948051948',\n",
    "    'sell,house,|México|Distrito Federal|Coyoacán|Paseos de Taxqueña|,\"19.343979,-99.124863\",6310000.0,MXN,6252917.98,332451.71,,183.0,,34480.87431693989',\n",
    "    'sell,apartment,|México|Distrito Federal|Coyoacán|San Diego Churubusco|,\"19.354509,-99.149765\",10000000.0,MXN,9909537.15,526864.83,,293.0,,34129.69283276451',\n",
    "]"
   ]
  },
  {
   "cell_type": "code",
   "execution_count": null,
   "id": "110279e3",
   "metadata": {},
   "outputs": [],
   "source": [
    "[row for row in records if \"house\" in row]"
   ]
  },
  {
   "cell_type": "markdown",
   "id": "606c812e",
   "metadata": {},
   "source": [
    "<font size=\"+1\">Practice</font> \n",
    "\n",
    "Explore the list records in the list, and find all entries located in `Tlalpan`"
   ]
  },
  {
   "cell_type": "code",
   "execution_count": null,
   "id": "260c1fcc",
   "metadata": {},
   "outputs": [],
   "source": [
    "[row for row in records if \"Tlalpan\" in row]"
   ]
  },
  {
   "cell_type": "markdown",
   "id": "bdd35758",
   "metadata": {},
   "source": [
    "# Functions"
   ]
  },
  {
   "cell_type": "markdown",
   "id": "e74c97c4",
   "metadata": {},
   "source": [
    "When we code in Python, we want to create **readable** programs. One of the easiest ways to make a program readable is by not repeating sections of code that do the same thing. We do that by using `functions`. For example, you might have surface area of a property in square meters, but you want to see it in square feet. Keeping in mind that one square meter = 10.76391 square feet, you can write a function that starts with the area in square meters, and gives as output the area in square feet. The code looks like this:"
   ]
  },
  {
   "cell_type": "code",
   "execution_count": null,
   "id": "23080a71",
   "metadata": {},
   "outputs": [],
   "source": [
    "def m2toft2(area_meter2):\n",
    "    area_feet2 = 10.76391 * area_meter2\n",
    "    return area_feet2"
   ]
  },
  {
   "cell_type": "markdown",
   "id": "ccbbe9a6",
   "metadata": {},
   "source": [
    "The code above defines a function called `m2toft2` that takes in a single input, called `area_meters`, and returns a single output, called `area_feet`. Let's try another one:"
   ]
  },
  {
   "cell_type": "code",
   "execution_count": null,
   "id": "465c72c3",
   "metadata": {},
   "outputs": [],
   "source": [
    "m2toft2(4)"
   ]
  },
  {
   "cell_type": "markdown",
   "id": "5a5dd26e",
   "metadata": {},
   "source": [
    "A function by itself can be difficult to understand, so let's add some comments describing what the function does."
   ]
  },
  {
   "cell_type": "code",
   "execution_count": null,
   "id": "352bf3be",
   "metadata": {},
   "outputs": [],
   "source": [
    "def m2toft2(area_meter2):\n",
    "    \"\"\"\n",
    "    This function takes in as input the area in meters squared\n",
    "    and returns as an output the area in square feet\n",
    "\n",
    "    input: area_meter2, the area in square meters\n",
    "    output: area_feet2, the area in square feet\n",
    "    \"\"\"\n",
    "    area_feet2 = 10.76391 * area_meter2\n",
    "    return area_feet2"
   ]
  },
  {
   "cell_type": "markdown",
   "id": "76144c90",
   "metadata": {},
   "source": [
    "This way, if you forget what `m2toft2` does, Python will be able to remind you, like this:"
   ]
  },
  {
   "cell_type": "code",
   "execution_count": null,
   "id": "f42df547",
   "metadata": {},
   "outputs": [],
   "source": [
    "help(m2toft2)"
   ]
  },
  {
   "cell_type": "markdown",
   "id": "272dcd7a",
   "metadata": {},
   "source": [
    "This can be especially useful for large programs with lots of functions, some of which might have multiple arguments. For example, a function might take a list of areas of properties in square meters and a list of prices per square meter, and return lists with area in square feet and price per square foot. That function would look like this:"
   ]
  },
  {
   "cell_type": "code",
   "execution_count": null,
   "id": "0b89a666",
   "metadata": {},
   "outputs": [],
   "source": [
    "def convert_area(area_meters2):\n",
    "    \"\"\"\n",
    "    This function takes in a list of area in square meters and\n",
    "    returns area in square feet\n",
    "\n",
    "    input: area_meters2, area in square meters\n",
    "    output: area_feet, area in square feet\n",
    "    \"\"\"\n",
    "    area_feet2 = [item * 10.76391 for item in area_meters2]\n",
    "    return area_feet2"
   ]
  },
  {
   "cell_type": "code",
   "execution_count": null,
   "id": "d67cc023",
   "metadata": {},
   "outputs": [],
   "source": [
    "Let's try it and see what happens:"
   ]
  },
  {
   "cell_type": "code",
   "execution_count": null,
   "id": "1c15a313",
   "metadata": {},
   "outputs": [],
   "source": [
    "surface_total_in_m2 = [1860000.0, 700000.0, 3350000.0]"
   ]
  },
  {
   "cell_type": "code",
   "execution_count": null,
   "id": "a10edcf9",
   "metadata": {},
   "outputs": [],
   "source": [
    "surface_total_in_ft2 = convert_area(surface_total_in_m2)"
   ]
  },
  {
   "cell_type": "code",
   "execution_count": null,
   "id": "ca1c45b2",
   "metadata": {},
   "outputs": [],
   "source": [
    "print(surface_total_in_ft2)"
   ]
  },
  {
   "cell_type": "markdown",
   "id": "61559c0c",
   "metadata": {},
   "source": [
    "<font size=\"+1\">Practice</font> \n",
    "\n",
    "Python comes with many predefined functions. Try this one:"
   ]
  },
  {
   "cell_type": "code",
   "execution_count": null,
   "id": "cb6147bf",
   "metadata": {},
   "outputs": [],
   "source": [
    "help(max)"
   ]
  },
  {
   "cell_type": "markdown",
   "id": "b1bf72b9",
   "metadata": {},
   "source": [
    "Now write a function that returns the greatest per unit area property price for a list of property prices per unit area, and then use your function for the list `price_usd_per_m2`."
   ]
  },
  {
   "cell_type": "code",
   "execution_count": null,
   "id": "9c1ebb70",
   "metadata": {},
   "outputs": [],
   "source": [
    "price_usd_per_m2 = [97996.85, 36880.53, 176499.72]"
   ]
  },
  {
   "cell_type": "code",
   "execution_count": null,
   "id": "e7015248",
   "metadata": {},
   "outputs": [],
   "source": [
    "def find_max_price_per_area(price_per_meter2):\n",
    "    \"\"\"\n",
    "    Given a list with price per unit area, this function\n",
    "    returns the most expensive price per unit area\n",
    "\n",
    "    input: price_per_meter, list with price per unit area of each property\n",
    "    output: the price of the most expensive property per unit area\n",
    "    \"\"\"\n",
    "    \n",
    "    return ...\n",
    "\n",
    "\n",
    "find_max_price_per_area(price_usd_per_m2)"
   ]
  },
  {
   "cell_type": "markdown",
   "id": "0672dfcc",
   "metadata": {},
   "source": [
    "<font size=\"+1\">Practice</font> \n",
    "\n",
    "The previous example does not extend the max function that is in Python.  Keeping in mind that list comprehensions can be used to iterate through lists, use list comprehension or loops to write a function which, given a list of property areas and a corresponding list of property prices per unit area, returns the total price of the most expensive property."
   ]
  },
  {
   "cell_type": "code",
   "execution_count": null,
   "id": "f1f92fda",
   "metadata": {},
   "outputs": [],
   "source": [
    "def find_max_price(area_meter2, price_per_meter2):\n",
    "    \"\"\"\n",
    "    Given two lists, the first with areas of properties\n",
    "    and the second with price per unit area, this function\n",
    "    returns the most expensive property using list comprehension\n",
    "\n",
    "    input: area_meter2, list with the total area of each property\n",
    "    input: price_per_meter2, list with price per unit area of each property\n",
    "    output: the price of the most expensive property\n",
    "    \"\"\"\n",
    "    \n",
    "    return ...\n",
    "\n",
    "\n",
    "find_max_price(surface_total_in_m2, price_usd_per_m2)"
   ]
  },
  {
   "cell_type": "markdown",
   "id": "fa17325d",
   "metadata": {},
   "source": [
    "## Lambda Functions <a id='lambda-functions'></a>"
   ]
  },
  {
   "cell_type": "markdown",
   "id": "a5a41540",
   "metadata": {},
   "source": [
    "The function definitions we've been working with so far are fine for most purposes, but they can easily become a little bit long. When that happens, you might want to use a shorter method to expressing a function; that's what `lambda` functions are for. Here's code for a function which adds 3 to a number."
   ]
  },
  {
   "cell_type": "code",
   "execution_count": null,
   "id": "223f15c9",
   "metadata": {},
   "outputs": [],
   "source": [
    "add_three = lambda a: a + 3  # noqa: E731"
   ]
  },
  {
   "cell_type": "markdown",
   "id": "857cce99",
   "metadata": {},
   "source": [
    "Now that we've defined our function, let's try it out. If we wanted the function to add 3 to 5, the code would look like this: "
   ]
  },
  {
   "cell_type": "code",
   "execution_count": null,
   "id": "c37e3a1d",
   "metadata": {},
   "outputs": [],
   "source": [
    "add_three(5)"
   ]
  },
  {
   "cell_type": "markdown",
   "id": "b57f9eb6",
   "metadata": {},
   "source": [
    "<font size=\"+1\">Practice</font>\n",
    "\n",
    "Try it yourself! Write a lambda function called `sub_4` which will subtract 4 from a given number, and then try it out with the number 7."
   ]
  },
  {
   "cell_type": "code",
   "execution_count": null,
   "id": "eb9fa717",
   "metadata": {},
   "outputs": [],
   "source": [
    "sub_4 = lambda a: a - 4  # noqa: E731\n",
    "sub_4(7)"
   ]
  },
  {
   "cell_type": "markdown",
   "id": "0c29fc04",
   "metadata": {},
   "source": [
    "# Files"
   ]
  },
  {
   "cell_type": "markdown",
   "id": "3e7d7701",
   "metadata": {},
   "source": [
    "### Create files using Context Manager\n",
    "\n",
    "A **context manager** allows you to allocate and release resources precisely when you want to. The most widely used example of context managers is the `with` statement. Suppose you have two related operations which you would like to execute as a pair, with a block of code in between. Context managers allow you to do specifically that. For example:"
   ]
  },
  {
   "cell_type": "code",
   "execution_count": null,
   "id": "3d7e58eb",
   "metadata": {},
   "outputs": [],
   "source": [
    "with open(\"data/example.txt\", \"w\") as f:\n",
    "    f.write(\"Hello\")"
   ]
  },
  {
   "cell_type": "markdown",
   "id": "dc6b5771",
   "metadata": {},
   "source": [
    "The code above will create a file called `example.txt` inside the data directory, with only one line: `\"Hello\"`. We can add multiple lines to the file by adding the `/n` to separate the line."
   ]
  },
  {
   "cell_type": "code",
   "execution_count": null,
   "id": "5b938bc9",
   "metadata": {},
   "outputs": [],
   "source": [
    "with open(\"data/example.txt\", \"w\") as f:\n",
    "    f.write(\"Hello\")\n",
    "    f.write(\"\\n\")\n",
    "    f.write(\"Hola\")"
   ]
  },
  {
   "cell_type": "markdown",
   "id": "581e3f14",
   "metadata": {},
   "source": [
    "<font size=\"+1\">Practice</font>\n",
    "\n",
    "Create a `txt` file named `practice.txt` inside the `data` directory with three lines using context manager."
   ]
  },
  {
   "cell_type": "code",
   "execution_count": null,
   "id": "34fb71fc",
   "metadata": {},
   "outputs": [],
   "source": []
  },
  {
   "cell_type": "markdown",
   "id": "f4f2ef40",
   "metadata": {},
   "source": [
    "# References and Further Reading"
   ]
  },
  {
   "cell_type": "markdown",
   "id": "1b070718",
   "metadata": {},
   "source": [
    "- [Context Manager](https://book.pythontips.com/en/latest/context_managers.html)"
   ]
  }
 ],
 "metadata": {
  "kernelspec": {
   "display_name": "Python 3 (ipykernel)",
   "language": "python",
   "name": "python3"
  },
  "language_info": {
   "codemirror_mode": {
    "name": "ipython",
    "version": 3
   },
   "file_extension": ".py",
   "mimetype": "text/x-python",
   "name": "python",
   "nbconvert_exporter": "python",
   "pygments_lexer": "ipython3",
   "version": "3.10.3"
  }
 },
 "nbformat": 4,
 "nbformat_minor": 5
}
