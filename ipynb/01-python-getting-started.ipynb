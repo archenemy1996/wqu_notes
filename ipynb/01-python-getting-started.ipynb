{
 "cells": [
  {
   "cell_type": "markdown",
   "id": "d049603c",
   "metadata": {},
   "source": [
    "<font size=\"+3\"><strong>Python: Getting Started</strong></font>"
   ]
  },
  {
   "cell_type": "markdown",
   "id": "a868b7e0",
   "metadata": {},
   "source": [
    "# Simple Calculations"
   ]
  },
  {
   "cell_type": "markdown",
   "id": "613ad3a7",
   "metadata": {},
   "source": [
    "In addition to all the more complex things you can do in Python, it is also useful for completing simple mathematical operations."
   ]
  },
  {
   "cell_type": "markdown",
   "id": "6e06e45f",
   "metadata": {},
   "source": [
    "**Addition and Subtraction**\n",
    "\n",
    "Add numbers together like this:"
   ]
  },
  {
   "cell_type": "code",
   "execution_count": 3,
   "id": "530d913c",
   "metadata": {},
   "outputs": [
    {
     "data": {
      "text/plain": [
       "2"
      ]
     },
     "execution_count": 3,
     "metadata": {},
     "output_type": "execute_result"
    }
   ],
   "source": [
    "1 + 1"
   ]
  },
  {
   "cell_type": "markdown",
   "id": "179674b6",
   "metadata": {},
   "source": [
    "Notice that you don't need to include `=` in order to make the operation work.\n",
    "\n",
    "Subtract numbers like this:"
   ]
  },
  {
   "cell_type": "code",
   "execution_count": 4,
   "id": "1bdd22c2",
   "metadata": {},
   "outputs": [
    {
     "data": {
      "text/plain": [
       "1"
      ]
     },
     "execution_count": 4,
     "metadata": {},
     "output_type": "execute_result"
    }
   ],
   "source": [
    "2 - 1"
   ]
  },
  {
   "cell_type": "markdown",
   "id": "c18bfb2e",
   "metadata": {},
   "source": [
    "**Division**\n",
    "\n",
    "Divide numbers like this:"
   ]
  },
  {
   "cell_type": "code",
   "execution_count": 5,
   "id": "9a6311b4",
   "metadata": {},
   "outputs": [
    {
     "data": {
      "text/plain": [
       "2.0"
      ]
     },
     "execution_count": 5,
     "metadata": {},
     "output_type": "execute_result"
    }
   ],
   "source": [
    "4 / 2"
   ]
  },
  {
   "cell_type": "markdown",
   "id": "7041d741",
   "metadata": {},
   "source": [
    "Remember that Python will return an error if you try to divide by 0!"
   ]
  },
  {
   "cell_type": "markdown",
   "id": "b1d2c8dc",
   "metadata": {},
   "source": [
    "**Modulo Division**\n",
    "\n",
    "Perform modulo division like this:"
   ]
  },
  {
   "cell_type": "code",
   "execution_count": 6,
   "id": "323d0e75",
   "metadata": {},
   "outputs": [
    {
     "data": {
      "text/plain": [
       "1"
      ]
     },
     "execution_count": 6,
     "metadata": {},
     "output_type": "execute_result"
    }
   ],
   "source": [
    "5 % 2"
   ]
  },
  {
   "cell_type": "markdown",
   "id": "75a3e593",
   "metadata": {},
   "source": [
    "**Multiplication**\n",
    "\n",
    "Multiply numbers like this: "
   ]
  },
  {
   "cell_type": "code",
   "execution_count": 7,
   "id": "ffdc7fc4",
   "metadata": {},
   "outputs": [
    {
     "data": {
      "text/plain": [
       "8"
      ]
     },
     "execution_count": 7,
     "metadata": {},
     "output_type": "execute_result"
    }
   ],
   "source": [
    "4 * 2"
   ]
  },
  {
   "cell_type": "markdown",
   "id": "cc4594a6",
   "metadata": {},
   "source": [
    "Add **exponents** to numbers like this:"
   ]
  },
  {
   "cell_type": "code",
   "execution_count": 8,
   "id": "3cb35a6e",
   "metadata": {},
   "outputs": [
    {
     "data": {
      "text/plain": [
       "16"
      ]
     },
     "execution_count": 8,
     "metadata": {},
     "output_type": "execute_result"
    }
   ],
   "source": [
    "4**2"
   ]
  },
  {
   "cell_type": "markdown",
   "id": "b8776aaf",
   "metadata": {},
   "source": [
    "## Order of Operations\n",
    "Just like everywhere else, Python works on a specific order of operations. That order is:\n",
    "\n",
    "Parentheses Exponents Multiplication Addition Subtraction\n",
    "\n",
    "If you remember being taught PEMDAS, then this is the same thing! All the operations in Python work with levels of parentheses, so if you wanted to add two numbers together, and then add another number to the result, the code would look like this:"
   ]
  },
  {
   "cell_type": "code",
   "execution_count": 9,
   "id": "a5e71cfc",
   "metadata": {},
   "outputs": [
    {
     "data": {
      "text/plain": [
       "14"
      ]
     },
     "execution_count": 9,
     "metadata": {},
     "output_type": "execute_result"
    }
   ],
   "source": [
    "(6 + 4) + 4"
   ]
  },
  {
   "cell_type": "markdown",
   "id": "62415496",
   "metadata": {},
   "source": [
    "Things get more complicated when we add more terms to the equation, but the principle remains the same: if you open a set of parentheses, make sure you close it too. Here's an example that uses all the PEMDAS possibilities:"
   ]
  },
  {
   "cell_type": "code",
   "execution_count": 10,
   "id": "58fc1230",
   "metadata": {},
   "outputs": [
    {
     "data": {
      "text/plain": [
       "40.0"
      ]
     },
     "execution_count": 10,
     "metadata": {},
     "output_type": "execute_result"
    }
   ],
   "source": [
    "(((5**3 + 7) * 4) / 16 + 9 - 2)"
   ]
  },
  {
   "cell_type": "markdown",
   "id": "e706bb9b",
   "metadata": {},
   "source": [
    "# Data Types"
   ]
  },
  {
   "cell_type": "markdown",
   "id": "8ccc6bfe",
   "metadata": {},
   "source": [
    "\n",
    "There are lots of different types of data in the world, and Python groups that data into several categories.\n",
    "\n",
    "**Boolean** (`bool`)**:** \n",
    "- Any data which can be expressed as either `True` or `False`.\n",
    "- Used when comparing two values. For example, if you enter `10 > 9`, Python will return `True`.\n",
    "\n",
    "**String** (`str`)**:**\n",
    "\n",
    "- Data that involves text — either letters, numbers, or special characters. \n",
    "- Strings are enclosed in either single- or double-quotation marks: `\"string-1\"` or `'string-2'`.\n",
    "\n",
    "**Numeric** (`int`, `float`, `complex`)**:**\n",
    "\n",
    "- Data that can be expressed numerically.\n",
    "- An integer, or `int`, is a whole number, positive or negative, without decimals, of unlimited length:  `123`.\n",
    "- A floating-point number, or `float`, is a number, positive or negative, containing one or more decimals: `123.01`.\n",
    "- A complex number, or `complex`, are imaginary numbers, designated by a `j`: `(3 + 6j)`.\n",
    "\n",
    "**Sequence** (`list`, `tuple`, `set`)**:**\n",
    "\n",
    "- Data that is a collection of discrete items.\n",
    "- A `list` is collection that is ordered and changeable. It's designated using square brackets `[]`, and items can be of different data types: `[\"red\", 1, 1.03, 1]`.\n",
    "- A `tuple` is a collection which is ordered and unchangeable. It's designated using parentheses `()`: `(\"red\", 1, 1.03, 1)`.\n",
    "- A `set` is a collection which is unordered, unchangeable, and does not permit duplicate items. It's designated using curly brackets `{}`: `{\"red\", 1, 1.03}`.\n",
    "\n",
    "**Mapping** (`dict`)**:** \n",
    "- Dictionaries store data in *key-value* pairs. They're designated using curly brackets `{}`, like a `set`, but notice that keys and values are associated with each other using a colon `:`. Each pair is separated from the next using a comma `,`.\n",
    "\n",
    "```python\n",
    "dict1 = {\n",
    "    \"department\": \"quindio\", \n",
    "    \"property_type\": \"house\", \n",
    "    \"price_usd\": 330899.98\n",
    "}\n",
    "```\n",
    "\n",
    "**Binary** (`bytes`, `bytearray`, `memoryview`)**:**\n",
    "- Used to manipulate and display binary data. That is, data that can be expressed with integers represented with base 2.\n",
    "- Unlike the other data types described above, `binary` types are not human-readable."
   ]
  },
  {
   "cell_type": "markdown",
   "id": "e64bb72e",
   "metadata": {},
   "source": [
    "# Lists"
   ]
  },
  {
   "cell_type": "markdown",
   "id": "72d54830",
   "metadata": {},
   "source": [
    "In Python, a **list** is a collection of data that stores multiple items in a single variable. These items must be ordered, able to be changed, and can be duplicated. A list can store data of multiple types; not all the items in the list need to be the same type."
   ]
  },
  {
   "cell_type": "markdown",
   "id": "3d25994a",
   "metadata": {},
   "source": [
    "## Creating Lists\n",
    "Lists can be as long or as short as you like. Let's create a short list based on data from the Colombian real estate market to give us something to work with.\n",
    "\n",
    "Lists are written with square brackets. Code for a short list that shows the price of houses in US dollars looks like this:"
   ]
  },
  {
   "cell_type": "code",
   "execution_count": 12,
   "id": "d6d2b1d3",
   "metadata": {},
   "outputs": [
    {
     "name": "stdout",
     "output_type": "stream",
     "text": [
      "[97919.38, 300511.2, 293758.14]\n"
     ]
    }
   ],
   "source": [
    "price_usd = [97919.38, 300511.20, 293758.14]\n",
    "print(price_usd)"
   ]
  },
  {
   "cell_type": "markdown",
   "id": "84929b59",
   "metadata": {},
   "source": [
    "## Working with Lists\n",
    "After you've created a list, you can **access** any item on the list by referring to the item's index number. Keep in mind that in Python, the first item in a list is always 0. \n",
    "\n",
    "Let's access the second item of our `price_usd` list."
   ]
  },
  {
   "cell_type": "code",
   "execution_count": 13,
   "id": "4855298b",
   "metadata": {},
   "outputs": [
    {
     "name": "stdout",
     "output_type": "stream",
     "text": [
      "300511.2\n"
     ]
    }
   ],
   "source": [
    "print(price_usd[1])"
   ]
  },
  {
   "cell_type": "markdown",
   "id": "7d1ce1ec",
   "metadata": {},
   "source": [
    "<font size=\"+1\">Practice</font>\n",
    "\n",
    "Try it yourself! Create and print a list that shows the area of the houses, called `area_m2`. Include the items `187.0`, `82.0`, and `235.0`."
   ]
  },
  {
   "cell_type": "code",
   "execution_count": 14,
   "id": "94f88fe4",
   "metadata": {},
   "outputs": [
    {
     "name": "stdout",
     "output_type": "stream",
     "text": [
      "[187.0, 82.0, 235.0]\n"
     ]
    }
   ],
   "source": [
    "area_m2 = [187.0, 82.0, 235.0]\n",
    "print(area_m2)"
   ]
  },
  {
   "cell_type": "markdown",
   "id": "72c1b8fe",
   "metadata": {},
   "source": [
    "If we want to access the an item at the end of the list, we can use **negative indexing**. In negative indexing, -1 refers to the last item, -2 to the second to last, and so on. \n",
    "\n",
    "Let's access the last item in our `department` list."
   ]
  },
  {
   "cell_type": "code",
   "execution_count": 15,
   "id": "cd05fc3a",
   "metadata": {},
   "outputs": [
    {
     "name": "stdout",
     "output_type": "stream",
     "text": [
      "293758.14\n"
     ]
    }
   ],
   "source": [
    "print(price_usd[-1])"
   ]
  },
  {
   "cell_type": "markdown",
   "id": "d8ea6302",
   "metadata": {},
   "source": [
    "<font size=\"+1\">Practice</font>\n",
    "\n",
    "Try accessing the second item in your `area_m2` list."
   ]
  },
  {
   "cell_type": "code",
   "execution_count": 16,
   "id": "2eda1f45",
   "metadata": {},
   "outputs": [
    {
     "data": {
      "text/plain": [
       "82.0"
      ]
     },
     "execution_count": 16,
     "metadata": {},
     "output_type": "execute_result"
    }
   ],
   "source": [
    "area_m2[1]"
   ]
  },
  {
   "cell_type": "markdown",
   "id": "9d004582",
   "metadata": {},
   "source": [
    "Try accessing the last item in the same list."
   ]
  },
  {
   "cell_type": "code",
   "execution_count": 17,
   "id": "2f9d59ff",
   "metadata": {},
   "outputs": [
    {
     "name": "stdout",
     "output_type": "stream",
     "text": [
      "235.0\n"
     ]
    }
   ],
   "source": [
    "print(area_m2[-1])"
   ]
  },
  {
   "cell_type": "markdown",
   "id": "cb4d9eb2",
   "metadata": {},
   "source": [
    "### Appending Items\n",
    "It's also possible to add an item to a list that already exists using the  `append` method like this:"
   ]
  },
  {
   "cell_type": "code",
   "execution_count": 20,
   "id": "2cfea2c9",
   "metadata": {},
   "outputs": [
    {
     "name": "stdout",
     "output_type": "stream",
     "text": [
      "[97919.38, 300511.2, 293758.14, 540244.86, 540244.86]\n"
     ]
    }
   ],
   "source": [
    "price_usd.append(540244.86)\n",
    "print(price_usd)"
   ]
  },
  {
   "cell_type": "markdown",
   "id": "56d52c45",
   "metadata": {},
   "source": [
    "<font size=\"+1\">Practice</font>\n",
    "\n",
    "Add the item `195.0` to your `area_m2` list."
   ]
  },
  {
   "cell_type": "code",
   "execution_count": 19,
   "id": "f43212f3",
   "metadata": {},
   "outputs": [
    {
     "name": "stdout",
     "output_type": "stream",
     "text": [
      "[187.0, 82.0, 235.0, 195.0]\n"
     ]
    }
   ],
   "source": [
    "area_m2.append(195.0)\n",
    "print(area_m2)"
   ]
  },
  {
   "cell_type": "markdown",
   "id": "d1780815",
   "metadata": {},
   "source": [
    "### Aggregating Items\n",
    "\n",
    "We can also **aggregate** items on a list to make analyzing the list more useful. For example, if we wanted to know the total value in US dollars of the houses on our `price_usd` list, we could use the `sum` method."
   ]
  },
  {
   "cell_type": "code",
   "execution_count": null,
   "id": "db83c05e",
   "metadata": {},
   "outputs": [],
   "source": []
  }
 ],
 "metadata": {
  "kernelspec": {
   "display_name": "Python 3 (ipykernel)",
   "language": "python",
   "name": "python3"
  },
  "language_info": {
   "codemirror_mode": {
    "name": "ipython",
    "version": 3
   },
   "file_extension": ".py",
   "mimetype": "text/x-python",
   "name": "python",
   "nbconvert_exporter": "python",
   "pygments_lexer": "ipython3",
   "version": "3.10.5"
  }
 },
 "nbformat": 4,
 "nbformat_minor": 5
}
