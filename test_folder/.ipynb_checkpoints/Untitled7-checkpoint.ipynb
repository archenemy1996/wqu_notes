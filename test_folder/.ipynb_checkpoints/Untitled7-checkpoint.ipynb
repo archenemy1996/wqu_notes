{
 "cells": [
  {
   "cell_type": "code",
   "execution_count": null,
   "id": "942fc223",
   "metadata": {},
   "outputs": [],
   "source": [
    "import pandas as pd\n",
    "from numpy import nan\n",
    "name_dict = \n",
    "\n",
    "\n",
    "\n",
    "\n",
    "\n",
    "\n",
    "\n",
    "\n",
    "\n",
    "df = pd.DataFrame(name_dict)\n",
    "\n",
    "df.info()\n",
    "\n",
    "\n",
    "from pathlib import Path\n",
    "filepath = Path(\"data.csv\")  \n",
    "filepath.parent.mkdir(parents=True, exist_ok=True)  \n",
    "df.to_csv(filepath) \n",
    "\n",
    "import os   \n",
    "df.to_csv(\"data.csv\") \n",
    "\n",
    "from google.colab import files\n",
    "files.download(\"data.csv\")"
   ]
  },
  {
   "cell_type": "code",
   "execution_count": null,
   "id": "6eb2e715",
   "metadata": {},
   "outputs": [],
   "source": [
    "%%bash\n",
    "\n",
    "ls -la"
   ]
  },
  {
   "cell_type": "code",
   "execution_count": null,
   "id": "4766574d",
   "metadata": {},
   "outputs": [],
   "source": [
    "import matplotlib.pyplot as plt\n",
    "import pandas as pd\n",
    "\n",
    "def wrangle(filepath):\n",
    "    # Read CSV file into DataFrame\n",
    "    df = pd.read_csv(filepath)\n",
    "    return df"
   ]
  },
  {
   "cell_type": "code",
   "execution_count": null,
   "id": "c8e86b00",
   "metadata": {},
   "outputs": [],
   "source": [
    "df = wrangle(\"filepath.csv\")"
   ]
  },
  {
   "cell_type": "code",
   "execution_count": null,
   "id": "cbd2ad29",
   "metadata": {},
   "outputs": [],
   "source": [
    "df.info()"
   ]
  },
  {
   "cell_type": "code",
   "execution_count": null,
   "id": "175d3d84",
   "metadata": {},
   "outputs": [],
   "source": [
    "\n",
    "# Use DataFrame.to_dict() to convert DataFrame to dictionary\n",
    "dict = df.to_dict()\n",
    "print(dict)\n"
   ]
  }
 ],
 "metadata": {
  "kernelspec": {
   "display_name": "Python 3 (ipykernel)",
   "language": "python",
   "name": "python3"
  },
  "language_info": {
   "codemirror_mode": {
    "name": "ipython",
    "version": 3
   },
   "file_extension": ".py",
   "mimetype": "text/x-python",
   "name": "python",
   "nbconvert_exporter": "python",
   "pygments_lexer": "ipython3",
   "version": "3.10.3"
  }
 },
 "nbformat": 4,
 "nbformat_minor": 5
}
