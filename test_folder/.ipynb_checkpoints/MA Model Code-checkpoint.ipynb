{
 "cells": [
  {
   "cell_type": "markdown",
   "id": "55fbc7fa",
   "metadata": {},
   "source": [
    "# [Source](https://github.com/ritvikmath/Time-Series-Analysis/blob/master/MA%20Model.ipynb)"
   ]
  },
  {
   "cell_type": "code",
   "execution_count": null,
   "id": "3c04a6a3",
   "metadata": {},
   "outputs": [],
   "source": [
    "import pandas as pd\n",
    "import numpy as np\n",
    "import matplotlib.pyplot as plt\n",
    "from pandas.plotting import register_matplotlib_converters\n",
    "from statsmodels.graphics.tsaplots import plot_acf, plot_pacf\n",
    "from statsmodels.tsa.stattools import acf, pacf\n",
    "from statsmodels.tsa.arima_model import ARIMA\n",
    "from datetime import datetime, timedelta\n",
    "register_matplotlib_converters()"
   ]
  },
  {
   "cell_type": "markdown",
   "id": "d6b7d050",
   "metadata": {},
   "source": [
    "# Generate Some Data"
   ]
  },
  {
   "cell_type": "markdown",
   "id": "36ac4f0a",
   "metadata": {},
   "source": [
    "# $y_t = 50 + 0.4\\varepsilon_{t-1} + 0.3\\varepsilon_{t-2} + \\varepsilon_t$\n",
    "# $\\varepsilon_t \\sim N(0,1)$"
   ]
  },
  {
   "cell_type": "code",
   "execution_count": null,
   "id": "a9063c05",
   "metadata": {},
   "outputs": [],
   "source": [
    "errors = np.random.normal(0, 1, 400)"
   ]
  },
  {
   "cell_type": "code",
   "execution_count": 3,
   "id": "c0ce272f",
   "metadata": {},
   "outputs": [],
   "source": [
    "date_index = pd.date_range(start='9/1/2019', end='1/1/2020')"
   ]
  },
  {
   "cell_type": "code",
   "execution_count": 4,
   "id": "773b9c2a",
   "metadata": {},
   "outputs": [
    {
     "ename": "NameError",
     "evalue": "name 'errors' is not defined",
     "output_type": "error",
     "traceback": [
      "\u001b[1;31m---------------------------------------------------------------------------\u001b[0m",
      "\u001b[1;31mNameError\u001b[0m                                 Traceback (most recent call last)",
      "Input \u001b[1;32mIn [4]\u001b[0m, in \u001b[0;36m<cell line: 3>\u001b[1;34m()\u001b[0m\n\u001b[0;32m      2\u001b[0m series \u001b[38;5;241m=\u001b[39m []\n\u001b[0;32m      3\u001b[0m \u001b[38;5;28;01mfor\u001b[39;00m t \u001b[38;5;129;01min\u001b[39;00m \u001b[38;5;28mrange\u001b[39m(\u001b[38;5;241m1\u001b[39m,\u001b[38;5;28mlen\u001b[39m(date_index)\u001b[38;5;241m+\u001b[39m\u001b[38;5;241m1\u001b[39m):\n\u001b[1;32m----> 4\u001b[0m     series\u001b[38;5;241m.\u001b[39mappend(mu \u001b[38;5;241m+\u001b[39m \u001b[38;5;241m0.4\u001b[39m\u001b[38;5;241m*\u001b[39m\u001b[43merrors\u001b[49m[t\u001b[38;5;241m-\u001b[39m\u001b[38;5;241m1\u001b[39m] \u001b[38;5;241m+\u001b[39m \u001b[38;5;241m0.3\u001b[39m\u001b[38;5;241m*\u001b[39merrors[t\u001b[38;5;241m-\u001b[39m\u001b[38;5;241m2\u001b[39m] \u001b[38;5;241m+\u001b[39m errors[t])\n",
      "\u001b[1;31mNameError\u001b[0m: name 'errors' is not defined"
     ]
    }
   ],
   "source": [
    "mu = 50\n",
    "series = []\n",
    "for t in range(1,len(date_index)+1):\n",
    "    series.append(mu + 0.4*errors[t-1] + 0.3*errors[t-2] + errors[t])"
   ]
  },
  {
   "cell_type": "code",
   "execution_count": null,
   "id": "517f3b64",
   "metadata": {},
   "outputs": [],
   "source": []
  }
 ],
 "metadata": {
  "kernelspec": {
   "display_name": "Python 3 (ipykernel)",
   "language": "python",
   "name": "python3"
  },
  "language_info": {
   "codemirror_mode": {
    "name": "ipython",
    "version": 3
   },
   "file_extension": ".py",
   "mimetype": "text/x-python",
   "name": "python",
   "nbconvert_exporter": "python",
   "pygments_lexer": "ipython3",
   "version": "3.10.3"
  }
 },
 "nbformat": 4,
 "nbformat_minor": 5
}
