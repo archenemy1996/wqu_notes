{
 "cells": [
  {
   "cell_type": "code",
   "execution_count": 1,
   "id": "0b1f279a",
   "metadata": {},
   "outputs": [
    {
     "data": {
      "text/plain": [
       "2"
      ]
     },
     "execution_count": 1,
     "metadata": {},
     "output_type": "execute_result"
    }
   ],
   "source": [
    "1+1"
   ]
  },
  {
   "cell_type": "code",
   "execution_count": 2,
   "id": "02ab9f71",
   "metadata": {},
   "outputs": [
    {
     "data": {
      "text/plain": [
       "[[115910.26, 128.0, 4.0],\n",
       " [48718.17, 210.0, 3.0],\n",
       " [28977.56, 58.0, 2.0],\n",
       " [36932.27, 79.0, 3.0],\n",
       " [83903.51, 111.0, 3.0]]"
      ]
     },
     "execution_count": 2,
     "metadata": {},
     "output_type": "execute_result"
    }
   ],
   "source": [
    "houses_nested_list = [\n",
    "    [115910.26, 128.0, 4.0],\n",
    "    [48718.17, 210.0, 3.0],\n",
    "    [28977.56, 58.0, 2.0],\n",
    "    [36932.27, 79.0, 3.0],\n",
    "    [83903.51, 111.0, 3.0],\n",
    "]\n",
    "\n",
    "houses_nested_list"
   ]
  },
  {
   "cell_type": "code",
   "execution_count": 3,
   "id": "04b1cb36",
   "metadata": {},
   "outputs": [
    {
     "name": "stdout",
     "output_type": "stream",
     "text": [
      "[[115910.26, 128.0, 4.0], [48718.17, 210.0, 3.0], [28977.56, 58.0, 2.0], [36932.27, 79.0, 3.0], [83903.51, 111.0, 3.0]]\n"
     ]
    }
   ],
   "source": [
    "print(houses_nested_list)"
   ]
  },
  {
   "cell_type": "code",
   "execution_count": 4,
   "id": "66d5c413",
   "metadata": {},
   "outputs": [
    {
     "data": {
      "text/plain": [
       "[[115910.26, 128.0, 4.0],\n",
       " [48718.17, 210.0, 3.0],\n",
       " [28977.56, 58.0, 2.0],\n",
       " [36932.27, 79.0, 3.0],\n",
       " [83903.51, 111.0, 3.0]]"
      ]
     },
     "execution_count": 4,
     "metadata": {},
     "output_type": "execute_result"
    }
   ],
   "source": [
    "houses_nested_list"
   ]
  },
  {
   "cell_type": "code",
   "execution_count": 5,
   "id": "20568a66",
   "metadata": {},
   "outputs": [
    {
     "data": {
      "text/plain": [
       "115910.26"
      ]
     },
     "execution_count": 5,
     "metadata": {},
     "output_type": "execute_result"
    }
   ],
   "source": [
    "houses_nested_list[0][0]"
   ]
  },
  {
   "cell_type": "code",
   "execution_count": 6,
   "id": "78753d4d",
   "metadata": {},
   "outputs": [
    {
     "ename": "NameError",
     "evalue": "name 'x' is not defined",
     "output_type": "error",
     "traceback": [
      "\u001b[1;31m---------------------------------------------------------------------------\u001b[0m",
      "\u001b[1;31mNameError\u001b[0m                                 Traceback (most recent call last)",
      "Input \u001b[1;32mIn [6]\u001b[0m, in \u001b[0;36m<cell line: 1>\u001b[1;34m()\u001b[0m\n\u001b[1;32m----> 1\u001b[0m houses_nested_list[\u001b[43mx\u001b[49m][\u001b[38;5;241m0\u001b[39m]\n",
      "\u001b[1;31mNameError\u001b[0m: name 'x' is not defined"
     ]
    }
   ],
   "source": [
    "houses_nested_list[x][0]"
   ]
  },
  {
   "cell_type": "code",
   "execution_count": 7,
   "id": "1834ccd1",
   "metadata": {},
   "outputs": [
    {
     "ename": "SyntaxError",
     "evalue": "invalid syntax (3328433075.py, line 1)",
     "output_type": "error",
     "traceback": [
      "\u001b[1;36m  Input \u001b[1;32mIn [7]\u001b[1;36m\u001b[0m\n\u001b[1;33m    houses_nested_list[][0]\u001b[0m\n\u001b[1;37m                       ^\u001b[0m\n\u001b[1;31mSyntaxError\u001b[0m\u001b[1;31m:\u001b[0m invalid syntax\n"
     ]
    }
   ],
   "source": [
    "for houses_nested_list in "
   ]
  },
  {
   "cell_type": "code",
   "execution_count": 8,
   "id": "7bbfbca4",
   "metadata": {},
   "outputs": [
    {
     "data": {
      "text/plain": [
       "115910.26"
      ]
     },
     "execution_count": 8,
     "metadata": {},
     "output_type": "execute_result"
    }
   ],
   "source": [
    "houses_nested_list[0][0]"
   ]
  },
  {
   "cell_type": "code",
   "execution_count": 24,
   "id": "bd4682ca",
   "metadata": {},
   "outputs": [],
   "source": [
    "houses_nested_list = [\n",
    "    [115910.26, 128.0, 4.0],\n",
    "    [48718.17, 210.0, 3.0],\n",
    "    [28977.56, 58.0, 2.0],\n",
    "    [36932.27, 79.0, 3.0],\n",
    "    [83903.51, 111.0, 3.0],\n",
    "]\n",
    "\n",
    "for x in houses_nested_list:\n",
    "    M = x[0] / x[1]\n",
    "\n"
   ]
  },
  {
   "cell_type": "code",
   "execution_count": 21,
   "id": "380a5f47",
   "metadata": {},
   "outputs": [
    {
     "ename": "TypeError",
     "evalue": "'builtin_function_or_method' object is not subscriptable",
     "output_type": "error",
     "traceback": [
      "\u001b[1;31m---------------------------------------------------------------------------\u001b[0m",
      "\u001b[1;31mTypeError\u001b[0m                                 Traceback (most recent call last)",
      "Input \u001b[1;32mIn [21]\u001b[0m, in \u001b[0;36m<cell line: 1>\u001b[1;34m()\u001b[0m\n\u001b[1;32m----> 1\u001b[0m \u001b[43mhouses_nested_list\u001b[49m\u001b[38;5;241;43m.\u001b[39;49m\u001b[43mappend\u001b[49m\u001b[43m[\u001b[49m\u001b[43m[\u001b[49m\u001b[38;5;241;43m905.54890625\u001b[39;49m\u001b[43m]\u001b[49m\u001b[43m,\u001b[49m\n\u001b[0;32m      2\u001b[0m \u001b[43m[\u001b[49m\u001b[38;5;241;43m231.9912857142857\u001b[39;49m\u001b[43m]\u001b[49m\u001b[43m,\u001b[49m\n\u001b[0;32m      3\u001b[0m \u001b[43m[\u001b[49m\u001b[38;5;241;43m499.61310344827587\u001b[39;49m\u001b[43m]\u001b[49m\u001b[43m,\u001b[49m\n\u001b[0;32m      4\u001b[0m \u001b[43m[\u001b[49m\u001b[38;5;241;43m467.4970886075949\u001b[39;49m\u001b[43m]\u001b[49m\u001b[43m,\u001b[49m\n\u001b[0;32m      5\u001b[0m \u001b[43m[\u001b[49m\u001b[38;5;241;43m755.8874774774774\u001b[39;49m\u001b[43m]\u001b[49m\u001b[43m]\u001b[49m\n",
      "\u001b[1;31mTypeError\u001b[0m: 'builtin_function_or_method' object is not subscriptable"
     ]
    }
   ],
   "source": []
  },
  {
   "cell_type": "code",
   "execution_count": 22,
   "id": "351aa531",
   "metadata": {},
   "outputs": [
    {
     "name": "stdout",
     "output_type": "stream",
     "text": [
      "115910.26\n",
      "48718.17\n",
      "28977.56\n",
      "36932.27\n",
      "83903.51\n"
     ]
    }
   ],
   "source": [
    "for x in houses_nested_list:\n",
    "    print(x[0])"
   ]
  },
  {
   "cell_type": "code",
   "execution_count": 8,
   "id": "8b4750a7",
   "metadata": {},
   "outputs": [
    {
     "ename": "TypeError",
     "evalue": "'float' object is not subscriptable",
     "output_type": "error",
     "traceback": [
      "\u001b[1;31m---------------------------------------------------------------------------\u001b[0m",
      "\u001b[1;31mTypeError\u001b[0m                                 Traceback (most recent call last)",
      "Input \u001b[1;32mIn [8]\u001b[0m, in \u001b[0;36m<cell line: 1>\u001b[1;34m()\u001b[0m\n\u001b[0;32m      1\u001b[0m \u001b[38;5;28;01mfor\u001b[39;00m x \u001b[38;5;129;01min\u001b[39;00m houses_nested_list:\n\u001b[1;32m----> 2\u001b[0m     area_m2 \u001b[38;5;241m=\u001b[39m \u001b[43mx\u001b[49m\u001b[43m[\u001b[49m\u001b[38;5;241;43m0\u001b[39;49m\u001b[43m]\u001b[49m \u001b[38;5;241m/\u001b[39m x[\u001b[38;5;241m1\u001b[39m]\n\u001b[0;32m      3\u001b[0m area_m2\n",
      "\u001b[1;31mTypeError\u001b[0m: 'float' object is not subscriptable"
     ]
    }
   ],
   "source": [
    "for x in houses_nested_list:\n",
    "    area_m2 = x[0] / x[1]\n",
    "area_m2"
   ]
  },
  {
   "cell_type": "code",
   "execution_count": 25,
   "id": "79002397",
   "metadata": {},
   "outputs": [
    {
     "data": {
      "text/plain": [
       "[[115910.26, 128.0, 4.0],\n",
       " [48718.17, 210.0, 3.0],\n",
       " [28977.56, 58.0, 2.0],\n",
       " [36932.27, 79.0, 3.0],\n",
       " [83903.51, 111.0, 3.0],\n",
       " 755.8874774774774]"
      ]
     },
     "execution_count": 25,
     "metadata": {},
     "output_type": "execute_result"
    }
   ],
   "source": [
    "houses_nested_list.append(area_m2)\n",
    "houses_nested_list\n"
   ]
  },
  {
   "cell_type": "code",
   "execution_count": 38,
   "id": "ddaf60d1",
   "metadata": {},
   "outputs": [
    {
     "name": "stdout",
     "output_type": "stream",
     "text": [
      "905.54890625\n",
      "231.9912857142857\n",
      "499.61310344827587\n",
      "467.4970886075949\n",
      "755.8874774774774\n"
     ]
    },
    {
     "data": {
      "text/plain": [
       "[[115910.26, 128.0, 4.0, 905.54890625],\n",
       " [48718.17, 210.0, 3.0, 231.9912857142857],\n",
       " [28977.56, 58.0, 2.0, 499.61310344827587],\n",
       " [36932.27, 79.0, 3.0, 467.4970886075949],\n",
       " [83903.51, 111.0, 3.0, 755.8874774774774]]"
      ]
     },
     "execution_count": 38,
     "metadata": {},
     "output_type": "execute_result"
    }
   ],
   "source": [
    "houses_nested_list = [\n",
    "    [115910.26, 128.0, 4.0],\n",
    "    [48718.17, 210.0, 3.0],\n",
    "    [28977.56, 58.0, 2.0],\n",
    "    [36932.27, 79.0, 3.0],\n",
    "    [83903.51, 111.0, 3.0],\n",
    "]\n",
    "\n",
    "for x in houses_nested_list:\n",
    "    price_m2 = x [0] / x [1]\n",
    "    print(price_m2)\n",
    "    x.append(price_m2)\n",
    "\n",
    "houses_nested_list\n"
   ]
  },
  {
   "cell_type": "code",
   "execution_count": 42,
   "id": "aae4ad84",
   "metadata": {},
   "outputs": [
    {
     "ename": "SyntaxError",
     "evalue": "':' expected after dictionary key (1450384145.py, line 2)",
     "output_type": "error",
     "traceback": [
      "\u001b[1;36m  Input \u001b[1;32mIn [42]\u001b[1;36m\u001b[0m\n\u001b[1;33m    \"price_usd\": 121,555.09,\u001b[0m\n\u001b[1;37m                          ^\u001b[0m\n\u001b[1;31mSyntaxError\u001b[0m\u001b[1;31m:\u001b[0m ':' expected after dictionary key\n"
     ]
    }
   ],
   "source": [
    "bogota = {\n",
    "\"price_usd\": 121,555.09,\n",
    "\"area_m2\": 82.0,\n",
    "\"property_type\": \"house\",\n",
    "}\n",
    "print(bogota)"
   ]
  },
  {
   "cell_type": "code",
   "execution_count": 55,
   "id": "94cd9e94",
   "metadata": {},
   "outputs": [
    {
     "name": "stdout",
     "output_type": "stream",
     "text": [
      "{'property_type': 'house', 'department': 'quindio', 'area': 235, 'price_usd': 121778}\n"
     ]
    },
    {
     "data": {
      "text/plain": [
       "{'property_type': 'house',\n",
       " 'department': 'quindio',\n",
       " 'area': 235,\n",
       " 'price_usd': 121778,\n",
       " 'price_per_m2': 518.204255319149}"
      ]
     },
     "execution_count": 55,
     "metadata": {},
     "output_type": "execute_result"
    }
   ],
   "source": [
    "colomdict = {\n",
    "    \"property_type\": \"house\",\n",
    "    \"department\": \"quindio\",\n",
    "    \"area\": 235,\n",
    "    \"price_usd\": 121778,\n",
    "}\n",
    "\n",
    "print(colomdict)\n",
    "\n",
    "colomdict[\"price_per_m2\"] = colomdict[\"price_usd\"] / colomdict[\"area\"]\n",
    "\n",
    "colomdict"
   ]
  },
  {
   "cell_type": "code",
   "execution_count": 56,
   "id": "ee0748c8",
   "metadata": {},
   "outputs": [
    {
     "data": {
      "text/plain": [
       "{'price_aprox_usd': 115910.26, 'surface_covered_in_m2': 128, 'rooms': 4}"
      ]
     },
     "execution_count": 56,
     "metadata": {},
     "output_type": "execute_result"
    }
   ],
   "source": [
    "house_0_dict = {\n",
    "    \"price_aprox_usd\": 115910.26,\n",
    "    \"surface_covered_in_m2\": 128,\n",
    "    \"rooms\": 4,\n",
    "}\n",
    "\n",
    "house_0_dict"
   ]
  },
  {
   "cell_type": "code",
   "execution_count": 57,
   "id": "1c9c5d83",
   "metadata": {},
   "outputs": [
    {
     "data": {
      "text/plain": [
       "{'price_aprox_usd': 115910.26,\n",
       " 'surface_covered_in_m2': 128,\n",
       " 'rooms': 4,\n",
       " 'price_per_m2': 905.54890625}"
      ]
     },
     "execution_count": 57,
     "metadata": {},
     "output_type": "execute_result"
    }
   ],
   "source": [
    "house_0_dict[\"price_per_m2\"] = house_0_dict[\"price_aprox_usd\"] / house_0_dict[\"surface_covered_in_m2\"]\n",
    "house_0_dict"
   ]
  },
  {
   "cell_type": "code",
   "execution_count": 97,
   "id": "9280a4ea",
   "metadata": {},
   "outputs": [
    {
     "data": {
      "text/plain": [
       "[{'price_aprox_usd': 115910.26,\n",
       "  'surface_covered_in_m2': 128,\n",
       "  'rooms': 4,\n",
       "  'price_per_m2': 905.54890625},\n",
       " {'price_aprox_usd': 48718.17,\n",
       "  'surface_covered_in_m2': 210,\n",
       "  'rooms': 3,\n",
       "  'price_per_m2': 231.9912857142857},\n",
       " {'price_aprox_usd': 28977.56,\n",
       "  'surface_covered_in_m2': 58,\n",
       "  'rooms': 2,\n",
       "  'price_per_m2': 499.61310344827587},\n",
       " {'price_aprox_usd': 36932.27,\n",
       "  'surface_covered_in_m2': 79,\n",
       "  'rooms': 3,\n",
       "  'price_per_m2': 467.4970886075949},\n",
       " {'price_aprox_usd': 83903.51,\n",
       "  'surface_covered_in_m2': 111,\n",
       "  'rooms': 3,\n",
       "  'price_per_m2': 755.8874774774774}]"
      ]
     },
     "execution_count": 97,
     "metadata": {},
     "output_type": "execute_result"
    }
   ],
   "source": [
    "houses_rowwise = [\n",
    "    {\n",
    "        \"price_aprox_usd\": 115910.26,\n",
    "        \"surface_covered_in_m2\": 128,\n",
    "        \"rooms\": 4,\n",
    "    },\n",
    "    {\n",
    "        \"price_aprox_usd\": 48718.17,\n",
    "        \"surface_covered_in_m2\": 210,\n",
    "        \"rooms\": 3,\n",
    "    },\n",
    "    {\n",
    "        \"price_aprox_usd\": 28977.56,\n",
    "        \"surface_covered_in_m2\": 58,\n",
    "        \"rooms\": 2,\n",
    "    },\n",
    "    {\n",
    "        \"price_aprox_usd\": 36932.27,\n",
    "        \"surface_covered_in_m2\": 79,\n",
    "        \"rooms\": 3,\n",
    "    },\n",
    "    {\n",
    "        \"price_aprox_usd\": 83903.51,\n",
    "        \"surface_covered_in_m2\": 111,\n",
    "        \"rooms\": 3,\n",
    "    },\n",
    "]\n",
    "\n",
    "for x in houses_rowwise:\n",
    "    x[\"price_per_m2\"] = x[\"price_aprox_usd\"] / x[\"surface_covered_in_m2\"]\n",
    "houses_rowwise    \n"
   ]
  },
  {
   "cell_type": "code",
   "execution_count": 72,
   "id": "3b335522",
   "metadata": {},
   "outputs": [
    {
     "data": {
      "text/plain": [
       "{'price_aprox_usd': 115910.26,\n",
       " 'surface_covered_in_m2': 128,\n",
       " 'rooms': 4,\n",
       " 'price_per_m2': 905.54890625}"
      ]
     },
     "execution_count": 72,
     "metadata": {},
     "output_type": "execute_result"
    }
   ],
   "source": [
    "houses_rowwise = {\n",
    "        \"price_aprox_usd\": 115910.26,\n",
    "        \"surface_covered_in_m2\": 128,\n",
    "        \"rooms\": 4,\n",
    "    }\n",
    "\n",
    "houses_rowwise[\"price_per_m2\"] = houses_rowwise[\"price_aprox_usd\"] / houses_rowwise[\"surface_covered_in_m2\"]\n",
    "houses_rowwise"
   ]
  },
  {
   "cell_type": "code",
   "execution_count": 1,
   "id": "3e676c9c",
   "metadata": {},
   "outputs": [
    {
     "data": {
      "text/plain": [
       "[{'price_aprox_usd': 115910.26, 'surface_covered_in_m2': 128, 'rooms': 4},\n",
       " {'price_aprox_usd': 48718.17, 'surface_covered_in_m2': 210, 'rooms': 3},\n",
       " {'price_aprox_usd': 28977.56, 'surface_covered_in_m2': 58, 'rooms': 2},\n",
       " {'price_aprox_usd': 36932.27, 'surface_covered_in_m2': 79, 'rooms': 3},\n",
       " {'price_aprox_usd': 83903.51, 'surface_covered_in_m2': 111, 'rooms': 3}]"
      ]
     },
     "execution_count": 1,
     "metadata": {},
     "output_type": "execute_result"
    }
   ],
   "source": [
    "houses_rowwise = [\n",
    "    {\n",
    "        \"price_aprox_usd\": 115910.26,\n",
    "        \"surface_covered_in_m2\": 128,\n",
    "        \"rooms\": 4,\n",
    "    },\n",
    "    {\n",
    "        \"price_aprox_usd\": 48718.17,\n",
    "        \"surface_covered_in_m2\": 210,\n",
    "        \"rooms\": 3,\n",
    "    },\n",
    "    {\n",
    "        \"price_aprox_usd\": 28977.56,\n",
    "        \"surface_covered_in_m2\": 58,\n",
    "        \"rooms\": 2,\n",
    "    },\n",
    "    {\n",
    "        \"price_aprox_usd\": 36932.27,\n",
    "        \"surface_covered_in_m2\": 79,\n",
    "        \"rooms\": 3,\n",
    "    },\n",
    "    {\n",
    "        \"price_aprox_usd\": 83903.51,\n",
    "        \"surface_covered_in_m2\": 111,\n",
    "        \"rooms\": 3,\n",
    "    },\n",
    "]\n",
    "\n",
    "houses_rowwise"
   ]
  },
  {
   "cell_type": "code",
   "execution_count": 2,
   "id": "e30ed3f7",
   "metadata": {},
   "outputs": [
    {
     "data": {
      "text/plain": [
       "[{'price_aprox_usd': 115910.26, 'surface_covered_in_m2': 128, 'rooms': 4},\n",
       " {'price_aprox_usd': 48718.17, 'surface_covered_in_m2': 210, 'rooms': 3},\n",
       " {'price_aprox_usd': 28977.56, 'surface_covered_in_m2': 58, 'rooms': 2},\n",
       " {'price_aprox_usd': 36932.27, 'surface_covered_in_m2': 79, 'rooms': 3},\n",
       " {'price_aprox_usd': 83903.51, 'surface_covered_in_m2': 111, 'rooms': 3}]"
      ]
     },
     "execution_count": 2,
     "metadata": {},
     "output_type": "execute_result"
    }
   ],
   "source": [
    "houses_rowwise"
   ]
  },
  {
   "cell_type": "code",
   "execution_count": 3,
   "id": "991a87fb",
   "metadata": {},
   "outputs": [],
   "source": [
    "for x in houses_rowwise:\n",
    "    x[\"price_per_m2\"] = x[\"price_aprox_usd\"] / x[\"surface_covered_in_m2\"]\n"
   ]
  },
  {
   "cell_type": "code",
   "execution_count": 4,
   "id": "949753a4",
   "metadata": {},
   "outputs": [
    {
     "data": {
      "text/plain": [
       "[{'price_aprox_usd': 115910.26,\n",
       "  'surface_covered_in_m2': 128,\n",
       "  'rooms': 4,\n",
       "  'price_per_m2': 905.54890625},\n",
       " {'price_aprox_usd': 48718.17,\n",
       "  'surface_covered_in_m2': 210,\n",
       "  'rooms': 3,\n",
       "  'price_per_m2': 231.9912857142857},\n",
       " {'price_aprox_usd': 28977.56,\n",
       "  'surface_covered_in_m2': 58,\n",
       "  'rooms': 2,\n",
       "  'price_per_m2': 499.61310344827587},\n",
       " {'price_aprox_usd': 36932.27,\n",
       "  'surface_covered_in_m2': 79,\n",
       "  'rooms': 3,\n",
       "  'price_per_m2': 467.4970886075949},\n",
       " {'price_aprox_usd': 83903.51,\n",
       "  'surface_covered_in_m2': 111,\n",
       "  'rooms': 3,\n",
       "  'price_per_m2': 755.8874774774774}]"
      ]
     },
     "execution_count": 4,
     "metadata": {},
     "output_type": "execute_result"
    }
   ],
   "source": [
    "houses_rowwise"
   ]
  },
  {
   "cell_type": "code",
   "execution_count": 5,
   "id": "9d880dca",
   "metadata": {},
   "outputs": [
    {
     "data": {
      "text/plain": [
       "[{'price_aprox_usd': 115910.26, 'surface_covered_in_m2': 128, 'rooms': 4},\n",
       " {'price_aprox_usd': 48718.17, 'surface_covered_in_m2': 210, 'rooms': 3},\n",
       " {'price_aprox_usd': 28977.56, 'surface_covered_in_m2': 58, 'rooms': 2},\n",
       " {'price_aprox_usd': 36932.27, 'surface_covered_in_m2': 79, 'rooms': 3},\n",
       " {'price_aprox_usd': 83903.51, 'surface_covered_in_m2': 111, 'rooms': 3}]"
      ]
     },
     "execution_count": 5,
     "metadata": {},
     "output_type": "execute_result"
    }
   ],
   "source": [
    "houses_rowwise = [\n",
    "    {\n",
    "        \"price_aprox_usd\": 115910.26,\n",
    "        \"surface_covered_in_m2\": 128,\n",
    "        \"rooms\": 4,\n",
    "    },\n",
    "    {\n",
    "        \"price_aprox_usd\": 48718.17,\n",
    "        \"surface_covered_in_m2\": 210,\n",
    "        \"rooms\": 3,\n",
    "    },\n",
    "    {\n",
    "        \"price_aprox_usd\": 28977.56,\n",
    "        \"surface_covered_in_m2\": 58,\n",
    "        \"rooms\": 2,\n",
    "    },\n",
    "    {\n",
    "        \"price_aprox_usd\": 36932.27,\n",
    "        \"surface_covered_in_m2\": 79,\n",
    "        \"rooms\": 3,\n",
    "    },\n",
    "    {\n",
    "        \"price_aprox_usd\": 83903.51,\n",
    "        \"surface_covered_in_m2\": 111,\n",
    "        \"rooms\": 3,\n",
    "    },\n",
    "]\n",
    "\n",
    "houses_rowwise"
   ]
  },
  {
   "cell_type": "code",
   "execution_count": 26,
   "id": "d882ecf1",
   "metadata": {},
   "outputs": [
    {
     "name": "stdout",
     "output_type": "stream",
     "text": [
      "115910.26\n",
      "48718.17\n",
      "28977.56\n",
      "36932.27\n",
      "83903.51\n",
      "[115910.26, 48718.17, 28977.56, 36932.27, 83903.51]\n",
      "314441.76999999996\n",
      "5\n"
     ]
    },
    {
     "data": {
      "text/plain": [
       "62888.35399999999"
      ]
     },
     "execution_count": 26,
     "metadata": {},
     "output_type": "execute_result"
    }
   ],
   "source": [
    "house_prices = []\n",
    "\n",
    "for x in houses_rowwise:\n",
    "    print(x[\"price_aprox_usd\"])\n",
    "    \n",
    "    house_prices.append(x[\"price_aprox_usd\"])\n",
    "    \n",
    "print(house_prices)\n",
    "\n",
    "print(sum(house_prices))\n",
    "\n",
    "print(len(house_prices))\n",
    "\n",
    "mean_house_price = sum(house_prices) / len(house_prices)\n",
    "\n",
    "mean_house_price"
   ]
  },
  {
   "cell_type": "code",
   "execution_count": 20,
   "id": "c866a404",
   "metadata": {},
   "outputs": [
    {
     "name": "stdout",
     "output_type": "stream",
     "text": [
      "115910.26\n",
      "48718.17\n",
      "28977.56\n",
      "36932.27\n",
      "83903.51\n"
     ]
    }
   ],
   "source": [
    "for x in houses_rowwise:\n",
    "    print(x[\"price_aprox_usd\"])\n",
    "    "
   ]
  },
  {
   "cell_type": "code",
   "execution_count": 27,
   "id": "fa2bc73c",
   "metadata": {},
   "outputs": [
    {
     "data": {
      "text/plain": [
       "{'price_aprox_usd': [115910.26, 48718.17, 28977.56, 36932.27, 83903.51],\n",
       " 'surface_covered_in_m2': [128.0, 210.0, 58.0, 79.0, 111.0],\n",
       " 'rooms': [4.0, 3.0, 2.0, 3.0, 3.0]}"
      ]
     },
     "execution_count": 27,
     "metadata": {},
     "output_type": "execute_result"
    }
   ],
   "source": [
    "houses_columnwise = {\n",
    "    \"price_aprox_usd\": [115910.26, 48718.17, 28977.56, 36932.27, 83903.51],\n",
    "    \"surface_covered_in_m2\": [128.0, 210.0, 58.0, 79.0, 111.0],\n",
    "    \"rooms\": [4.0, 3.0, 2.0, 3.0, 3.0],\n",
    "}\n",
    "\n",
    "houses_columnwise"
   ]
  },
  {
   "cell_type": "code",
   "execution_count": 31,
   "id": "87f59279",
   "metadata": {},
   "outputs": [
    {
     "data": {
      "text/plain": [
       "62888.35399999999"
      ]
     },
     "execution_count": 31,
     "metadata": {},
     "output_type": "execute_result"
    }
   ],
   "source": [
    "mean_house_price = sum(houses_columnwise[\"price_aprox_usd\"]) / len(houses_columnwise[\"price_aprox_usd\"])\n",
    "mean_house_price"
   ]
  },
  {
   "cell_type": "code",
   "execution_count": 51,
   "id": "fba56b59",
   "metadata": {},
   "outputs": [
    {
     "data": {
      "text/plain": [
       "{'price_aprox_usd': [115910.26, 48718.17, 28977.56, 36932.27, 83903.51],\n",
       " 'surface_covered_in_m2': [128.0, 210.0, 58.0, 79.0, 111.0],\n",
       " 'rooms': [4.0, 3.0, 2.0, 3.0, 3.0]}"
      ]
     },
     "execution_count": 51,
     "metadata": {},
     "output_type": "execute_result"
    }
   ],
   "source": [
    "houses_columnwise = {\n",
    "    \"price_aprox_usd\": [115910.26, 48718.17, 28977.56, 36932.27, 83903.51],\n",
    "    \"surface_covered_in_m2\": [128.0, 210.0, 58.0, 79.0, 111.0],\n",
    "    \"rooms\": [4.0, 3.0, 2.0, 3.0, 3.0],\n",
    "}\n",
    "\n",
    "houses_columnwise"
   ]
  },
  {
   "cell_type": "code",
   "execution_count": 52,
   "id": "5e5e8f46",
   "metadata": {},
   "outputs": [
    {
     "data": {
      "text/plain": [
       "{'price_aprox_usd': [115910.26, 48718.17, 28977.56, 36932.27, 83903.51],\n",
       " 'surface_covered_in_m2': [128.0, 210.0, 58.0, 79.0, 111.0],\n",
       " 'rooms': [4.0, 3.0, 2.0, 3.0, 3.0],\n",
       " 'price_per_m2': [905.54890625,\n",
       "  231.9912857142857,\n",
       "  499.61310344827587,\n",
       "  467.4970886075949,\n",
       "  755.8874774774774]}"
      ]
     },
     "execution_count": 52,
     "metadata": {},
     "output_type": "execute_result"
    }
   ],
   "source": [
    "\n",
    "price = houses_columnwise[\"price_aprox_usd\"]\n",
    "area = houses_columnwise[\"surface_covered_in_m2\"]\n",
    "\n",
    "price_per_m2 = []\n",
    "\n",
    "list(zip(price,area))\n",
    "\n",
    "for p,a in zip(price,area):\n",
    "    price_m2 = p / a\n",
    "    price_per_m2.append(price_m2)\n",
    "    \n",
    "houses_columnwise[\"price_per_m2\"] = price_per_m2\n",
    "\n",
    "houses_columnwise\n"
   ]
  },
  {
   "cell_type": "code",
   "execution_count": 53,
   "id": "8ce5e9f7",
   "metadata": {},
   "outputs": [
    {
     "data": {
      "text/html": [
       "<div>\n",
       "<style scoped>\n",
       "    .dataframe tbody tr th:only-of-type {\n",
       "        vertical-align: middle;\n",
       "    }\n",
       "\n",
       "    .dataframe tbody tr th {\n",
       "        vertical-align: top;\n",
       "    }\n",
       "\n",
       "    .dataframe thead th {\n",
       "        text-align: right;\n",
       "    }\n",
       "</style>\n",
       "<table border=\"1\" class=\"dataframe\">\n",
       "  <thead>\n",
       "    <tr style=\"text-align: right;\">\n",
       "      <th></th>\n",
       "      <th>price_aprox_usd</th>\n",
       "      <th>surface_covered_in_m2</th>\n",
       "      <th>rooms</th>\n",
       "    </tr>\n",
       "  </thead>\n",
       "  <tbody>\n",
       "    <tr>\n",
       "      <th>0</th>\n",
       "      <td>115910.26</td>\n",
       "      <td>128.0</td>\n",
       "      <td>4.0</td>\n",
       "    </tr>\n",
       "    <tr>\n",
       "      <th>1</th>\n",
       "      <td>48718.17</td>\n",
       "      <td>210.0</td>\n",
       "      <td>3.0</td>\n",
       "    </tr>\n",
       "    <tr>\n",
       "      <th>2</th>\n",
       "      <td>28977.56</td>\n",
       "      <td>58.0</td>\n",
       "      <td>2.0</td>\n",
       "    </tr>\n",
       "    <tr>\n",
       "      <th>3</th>\n",
       "      <td>36932.27</td>\n",
       "      <td>79.0</td>\n",
       "      <td>3.0</td>\n",
       "    </tr>\n",
       "    <tr>\n",
       "      <th>4</th>\n",
       "      <td>83903.51</td>\n",
       "      <td>111.0</td>\n",
       "      <td>3.0</td>\n",
       "    </tr>\n",
       "  </tbody>\n",
       "</table>\n",
       "</div>"
      ],
      "text/plain": [
       "   price_aprox_usd  surface_covered_in_m2  rooms\n",
       "0        115910.26                  128.0    4.0\n",
       "1         48718.17                  210.0    3.0\n",
       "2         28977.56                   58.0    2.0\n",
       "3         36932.27                   79.0    3.0\n",
       "4         83903.51                  111.0    3.0"
      ]
     },
     "execution_count": 53,
     "metadata": {},
     "output_type": "execute_result"
    }
   ],
   "source": [
    "import pandas as pd\n",
    "\n",
    "data = {\n",
    "    \"price_aprox_usd\": [115910.26, 48718.17, 28977.56, 36932.27, 83903.51],\n",
    "    \"surface_covered_in_m2\": [128.0, 210.0, 58.0, 79.0, 111.0],\n",
    "    \"rooms\": [4.0, 3.0, 2.0, 3.0, 3.0],\n",
    "}\n",
    "\n",
    "df_houses = pd.DataFrame(data)\n",
    "\n",
    "df_houses"
   ]
  },
  {
   "cell_type": "code",
   "execution_count": null,
   "id": "29d7aa85",
   "metadata": {},
   "outputs": [],
   "source": [
    "df.to_csv('file_name.csv')\n",
    "\n",
    "df.to_csv('file_name.csv', index=False)\n",
    "\n",
    "import pandas as pd\n",
    "\n",
    "name_dict = {\n",
    "            'Name': ['a','b','c','d'],\n",
    "            'Score': [90,80,95,20]\n",
    "          }\n",
    "\n",
    "df = pd.DataFrame(name_dict)\n",
    "\n",
    "print (df)\n",
    "\n"
   ]
  },
  {
   "cell_type": "code",
   "execution_count": null,
   "id": "46a4d8d8",
   "metadata": {},
   "outputs": [],
   "source": [
    "import pandas as pd\n",
    "name_dict = {\n",
    "    \n",
    "'property_type': [150.0,186.0,82.0,150.0,175.0,205.0,320.0,202.0,90.0,281.0,140.0,235.0,117.0,117.0,193.0,85.0,135.0,127.0,208.0,297.0,173.0,73.0,170.0,129.0,68.0,334.0,106.0,132.0,104.0,97.0,150.0,200.0,170.0,80.0,70.0,240.0,194.0,150.0,188.0,253.0,128.0,350.0,240.0,133.0,220.0,250.0,187.0,106.0,127.0,102.0,107.0,242.0,245.0,90.0,75.0,93.0,155.0,126.0,300.0,132.0,130.0,237.0,96.0,102.0,76.0,229.0,305.0,128.0,240.0,135.0,320.0,96.0,268.0,170.0,168.0,180.0,220.0,180.0,250.0,157.0,128.0,135.0,176.0,60.0,185.0,60.0,300.0,220.0,200.0,261.0,81.0,98.0,72.0,211.0,128.0,200.0,300.0,185.0,178.0,280.0,247.0,131.0,350.0,115.0,121.0,108.0,300.0,80.0,290.0,148.0,290.0,200.0,220.0,167.0,192.0,207.0,176.0,104.0,120.0,350.0,87.0,78.0,75.0,200.0,114.0,266.0,204.0,70.0,155.0,247.0,88.0,175.0,170.0,98.0,60.0,127.0,180.0,320.0,326.0,210.0,330.0,300.0,157.0,156.0,101.0,336.0,120.0,60.0,282.0,130.0,110.0,156.0,200.0,309.0,200.0,100.0,145.0,120.0,183.0,107.0,140.0,67.0,115.0,180.0,227.0,175.0,250.0,215.0,165.0,200.0,242.0,120.0,220.0,304.0,385.0,110.0,255.0,225.0,218.0,276.0,100.0,137.0,201.0,135.0,90.0,164.0,176.0,104.0,220.0,174.0,233.0,95.0,153.0,189.0,90.0,275.0,170.0,86.0,148.0,89.0,110.0,130.0,185.0,154.0,273.0,187.0,110.0,94.0,100.0,84.0,162.0,239.0,175.0,200.0,211.0,123.0,141.0,100.0,148.0,165.0,150.0,70.0,95.0,165.0,65.0,250.0,85.0,91.0,187.0,81.0,155.0,270.0,204.0,170.0,180.0,124.0,66.0,276.0,262.0,79.0,70.0,72.0,146.0,250.0,137.0,65.0,142.0,150.0,305.0,300.0,105.0,90.0,124.0,210.0,181.0,230.0,180.0,121.0,108.0,300.0,70.0,154.0,150.0,367.0,120.0,70.0,250.0,141.0,320.0,104.0,174.0,212.0,210.0,240.0,87.0,300.0,103.0,257.0,240.0,360.0,189.0,246.0,289.0,83.0,127.0,95.0,75.0,60.0,70.0,138.0,140.0,149.0,84.0,360.0,110.0,380.0,90.0,140.0,140.0,154.0,140.0,332.0,372.0,200.0,230.0,132.0,134.0,159.0,112.0,95.0,157.0,279.0,75.0,80.0,222.0,216.0,100.0,160.0,83.0,110.0,131.0,210.0,168.0,260.0,100.0,212.0,104.0,207.0,302.0,92.0,103.0,168.0,97.0,105.0,330.0,190.0,180.0,96.0,300.0,141.0,92.0,215.0,330.0,76.0,136.0,65.0,110.0,70.0,100.0,320.0,180.0,326.0,250.0,168.0,165.0,325.0,180.0,205.0,160.0,225.0,180.0,85.0,272.0,252.0,84.0,120.0,162.0,180.0,178.0,69.0,300.0,94.0,110.0,150.0,136.0,148.0,125.0,330.0,240.0,88.0,115.0,73.0,150.0,160.0,236.0,230.0,72.0,89.0,117.0,100.0,150.0,60.0,382.0,90.0,140.0,252.0,189.0,110.0,200.0,110.0,70.0,260.0,200.0,76.0,195.0,100.0,212.0,110.0,124.0,296.0,200.0,80.0,210.0,180.0,112.0,60.0,148.0,160.0,110.0,248.0,72.0,84.0,72.0,250.0,290.0,158.0,320.0,220.0,200.0,189.0,300.0,220.0,81.0,203.0,173.0,263.0,87.0,157.0,220.0,105.0,139.0,122.0,120.0,271.0,308.0,350.0,181.0,212.0,287.0,250.0,100.0,298.0,67.0,180.0,80.0,153.0,60.0,315.0,180.0,65.0,140.0,107.0,301.0,61.0,320.0,104.0,85.0,108.0,155.0,170.0,295.0,126.0,249.0,300.0,123.0,162.0,322.0,186.0,147.0,114.0,175.0,88.0,60.0,160.0,244.0,66.0,189.0,104.0,220.0,78.0,130.0,185.0,200.0,334.0,90.0,257.0,196.0,108.0,100.0,230.0,280.0,100.0,160.0,163.0,235.0,134.0,93.0,235.0,178.0,214.0,333.0,90.0,168.0,270.0,210.0,180.0,97.0,200.0,189.0,200.0,150.0,200.0,145.0,172.0,75.0,150.0,136.0,250.0,245.0,184.0,161.0,338.0,116.0,140.0,78.0,380.0,213.0,70.0,200.0,150.0,92.0,175.0,200.0,225.0,107.0,160.0,147.0,280.0,69.0,90.0,150.0,224.0,100.0,143.0,80.0,85.0,66.0,100.0,296.0,170.0,202.0,235.0,159.0,161.0,70.0,240.0,205.0,165.0,98.0,62.0,228.0,125.0,320.0,127.0,365.0,180.0,84.0,183.0,150.0,320.0,148.0,61.0,62.0,60.0,150.0,73.0,80.0,65.0,260.0,104.0,125.0,140.0,200.0,238.0,163.0,270.0,155.0,285.0,315.0,159.0,145.0,186.0,170.0,188.0,120.0,300.0,75.0,190.0,208.0,170.0,64.0,360.0,160.0,150.0,104.0,309.0,178.0,215.0,138.0,117.0,198.0,246.0,83.0,150.0,121.0,164.0,185.0,150.0,120.0,200.0,269.0,113.0,234.0,192.0,184.0,100.0,150.0,286.0,140.0,216.0,240.0,196.0,180.0,330.0,310.0,192.0,135.0,250.0,79.0,188.0,109.0,90.0,146.0,260.0,230.0,70.0,64.0,135.0,112.0,350.0,264.0,110.0,165.0,100.0,223.0,80.0,120.0,83.0,81.0,181.0,350.0,60.0,81.0,380.0,100.0,85.0,65.0,98.0,220.0,305.0,240.0,114.0,90.0,354.0,155.0,140.0,86.0,306.0,171.0,270.0,182.0,100.0,70.0,198.0,70.0,310.0,334.0,130.0,155.0,106.0]\n",
    "'area_m2': ['house','house','apartment','apartment','house','house','house','house','house','house','house','house','house','apartment','house','house','house','apartment','apartment','house','house','house','apartment','apartment','apartment','house','house','house','house','apartment','apartment','house','house','apartment','house','house','house','house','house','house','apartment','house','house','house','house','house','house','apartment','house','apartment','house','house','house','apartment','apartment','apartment','apartment','house','house','house','house','apartment','house','apartment','house','house','house','house','house','house','house','house','house','apartment','house','house','house','house','house','apartment','house','house','house','house','house','apartment','house','house','house','house','apartment','house','apartment','house','house','house','house','house','house','house','house','house','house','house','house','house','house','apartment','house','house','house','house','house','apartment','house','house','house','apartment','apartment','house','house','apartment','apartment','house','apartment','house','house','house','house','house','apartment','house','house','apartment','apartment','house','house','house','house','house','house','house','house','house','apartment','house','house','house','house','apartment','house','house','house','house','house','house','house','house','house','house','apartment','apartment','house','house','house','house','house','house','house','house','house','apartment','house','house','house','house','apartment','house','house','house','house','house','house','house','house','house','house','house','house','house','house','apartment','house','house','apartment','house','house','apartment','house','apartment','house','house','house','apartment','house','house','house','apartment','house','house','house','house','house','house','house','house','house','house','house','house','house','apartment','apartment','house','apartment','apartment','apartment','house','house','apartment','apartment','house','house','house','house','house','house','house','house','house','apartment','apartment','house','house','house','apartment','house','house','house','house','apartment','apartment','apartment','apartment','house','house','house','house','house','house','apartment','house','house','house','house','house','house','house','house','house','apartment','house','house','house','apartment','house','house','house','house','house','house','house','house','apartment','apartment','house','house','apartment','house','house','house','house','house','house','apartment','house','house','house','house','house','house','house','house','house','house','apartment','house','house','apartment','house','house','house','house','apartment','house','house','apartment','house','apartment','house','house','house','house','house','house','house','house','house','house','house','apartment','house','house','apartment','house','house','house','apartment','house','apartment','apartment','house','house','apartment','house','apartment','house','house','house','house','house','house','house','house','house','house','house','apartment','apartment','house','house','house','house','house','apartment','apartment','apartment','house','house','apartment','house','house','house','house','house','house','apartment','house','house','apartment','house','apartment','apartment','house','house','house','house','house','house','apartment','apartment','house','house','house','house','house','house','house','house','house','apartment','house','house','apartment','house','apartment','apartment','house','apartment','house','house','house','house','house','house','house','house','house','apartment','house','apartment','apartment','apartment','house','house','house','house','house','house','house','house','house','house','house','house','house','house','apartment','house','house','apartment','house','house','house','house','house','house','house','house','house','apartment','house','house','house','apartment','house','house','house','house','house','house','house','house','house','house','house','apartment','apartment','house','apartment','house','apartment','house','apartment','house','house','house','house','house','apartment','house','apartment','apartment','apartment','house','house','house','apartment','house','apartment','apartment','house','house','house','apartment','house','house','house','house','house','house','house','house','house','house','house','house','house','apartment','house','house','house','house','house','house','house','house','house','apartment','house','house','apartment','house','house','apartment','house','house','house','house','house','house','house','house','house','house','house','house','apartment','house','house','apartment','house','house','house','house','house','house','house','apartment','house','house','house','house','apartment','apartment','apartment','apartment','house','house','house','apartment','house','house','house','apartment','house','house','house','apartment','house','house','house','house','apartment','house','house','apartment','house','house','house','house','apartment','apartment','apartment','apartment','apartment','apartment','apartment','house','house','house','house','house','house','house','house','apartment','house','house','house','house','house','house','house','house','house','house','house','apartment','house','apartment','house','house','house','house','house','apartment','house','house','apartment','house','house','apartment','house','house','house','house','house','house','house','house','house','house','house','house','apartment','house','house','house','house','house','house','house','house','house','house','house','house','house','house','house','house','house','house','apartment','apartment','apartment','house','house','house','house','apartment','apartment','house','house','apartment','house','apartment','apartment','house','house','house','apartment','house','house','apartment','apartment','apartment','house','house','house','house','house','house','house','house','house','house','house','house','house','house','apartment','house','apartment','house','house','house','apartment','house']\n",
    "'state' : ['Estado de México', 'Nuevo León', 'Guerrero', 'Guerrero', 'Veracruz de Ignacio de la Llave', 'Yucatán', 'Querétaro', 'Querétaro', 'Nuevo León', 'Morelos', 'Chiapas', 'Estado de México', 'Morelos', 'Guerrero', 'Yucatán', 'Estado de México', 'Tabasco', 'Distrito Federal', 'Yucatán', 'Distrito Federal', 'Nayarit', 'Morelos', 'Puebla', 'Distrito Federal', 'Distrito Federal', 'Puebla', 'Veracruz de Ignacio de la Llave', 'Yucatán', 'Sinaloa', 'Distrito Federal', 'Guerrero', 'Estado de México', 'Morelos', 'Yucatán', 'Tabasco', 'Chiapas', 'Puebla', 'Chihuahua', 'Tamaulipas', 'Yucatán', 'Distrito Federal', 'Veracruz de Ignacio de la Llave', 'Morelos', 'Veracruz de Ignacio de la Llave', 'Morelos', 'Puebla', 'Distrito Federal', 'Puebla', 'Veracruz de Ignacio de la Llave', 'Puebla', 'Jalisco', 'Yucatán', 'Distrito Federal', 'Distrito Federal', 'Distrito Federal', 'Puebla', 'San Luis Potosí', 'Estado de México', 'Distrito Federal', 'San Luis Potosí', 'Morelos', 'Yucatán', 'Sinaloa', 'Distrito Federal', 'Baja California', 'Hidalgo', 'Morelos', 'Puebla', 'Estado de México', 'Quintana Roo', 'Nuevo León', 'Chiapas', 'Estado de México', 'Tamaulipas', 'Guerrero', 'Veracruz de Ignacio de la Llave', 'Veracruz de Ignacio de la Llave', 'Guerrero', 'Querétaro', 'Yucatán', 'Querétaro', 'Estado de México', 'Hidalgo', 'Nuevo León', 'Nuevo León', 'Distrito Federal', 'Distrito Federal', 'Veracruz de Ignacio de la Llave', 'Tamaulipas', 'Quintana Roo', 'Distrito Federal', 'Jalisco', 'Distrito Federal', 'Yucatán', 'Querétaro', 'Estado de México', 'Querétaro', 'Sonora', 'Puebla', 'Sinaloa', 'Puebla', 'Estado de México', 'Querétaro', 'Chihuahua', 'Yucatán', 'San Luis Potosí', 'Distrito Federal', 'Distrito Federal', 'Morelos', 'Puebla', 'Veracruz de Ignacio de la Llave', 'Puebla', 'Morelos', 'San Luis Potosí', 'Yucatán', 'Estado de México', 'Baja California Sur', 'Querétaro', 'Distrito Federal', 'Distrito Federal', 'Estado de México', 'Distrito Federal', 'Distrito Federal', 'Puebla', 'San Luis Potosí', 'Yucatán', 'Nuevo León', 'Estado de México', 'Jalisco', 'Morelos', 'Jalisco', 'Yucatán', 'Zacatecas', 'Distrito Federal', 'Estado de México', 'Yucatán', 'Distrito Federal', 'Puebla', 'Puebla', 'Veracruz de Ignacio de la Llave', 'Veracruz de Ignacio de la Llave', 'Chiapas', 'Estado de México', 'Jalisco', 'Nuevo León', 'Nuevo León', 'Estado de México', 'Estado de México', 'Yucatán', 'Guerrero', 'San Luis Potosí', 'Puebla', 'San Luis Potosí', 'Estado de México', 'Hidalgo', 'Yucatán', 'Morelos', 'Distrito Federal', 'Morelos', 'Yucatán', 'Querétaro', 'Distrito Federal', 'Estado de México', 'Estado de México', 'Chihuahua', 'Hidalgo', 'Nuevo León', 'Aguascalientes', 'Veracruz de Ignacio de la Llave', 'Hidalgo', 'Nuevo León', 'Distrito Federal', 'Distrito Federal', 'Distrito Federal', 'Puebla', 'Yucatán', 'Yucatán', 'Distrito Federal', 'Morelos', 'Querétaro', 'Yucatán', 'Sinaloa', 'Yucatán', 'Puebla', 'Estado de México', 'San Luis Potosí', 'Tamaulipas', 'Tabasco', 'Distrito Federal', 'Yucatán', 'Estado de México', 'Puebla', 'Estado de México', 'Sinaloa', 'Distrito Federal', 'Quintana Roo', 'Morelos', 'Distrito Federal', 'Nuevo León', 'Morelos', 'Veracruz de Ignacio de la Llave', 'Veracruz de Ignacio de la Llave', 'Yucatán', 'Guerrero', 'Querétaro', 'San Luis Potosí', 'Distrito Federal', 'Distrito Federal', 'Tabasco', 'Querétaro', 'Yucatán', 'Yucatán', 'Chiapas', 'Veracruz de Ignacio de la Llave', 'Nuevo León', 'Yucatán', 'Tamaulipas', 'Veracruz de Ignacio de la Llave', 'Jalisco', 'Veracruz de Ignacio de la Llave', 'Morelos', 'Distrito Federal', 'Quintana Roo', 'Tamaulipas', 'Distrito Federal', 'Veracruz de Ignacio de la Llave', 'Distrito Federal', 'Veracruz de Ignacio de la Llave', 'Chihuahua', 'Distrito Federal', 'Guerrero', 'Querétaro', 'Yucatán', 'Guerrero', 'Querétaro', 'Sinaloa', 'Quintana Roo', 'Veracruz de Ignacio de la Llave', 'Puebla', 'Yucatán', 'Distrito Federal', 'Distrito Federal', 'Veracruz de Ignacio de la Llave', 'Querétaro', 'Yucatán', 'Distrito Federal', 'Yucatán', 'Querétaro', 'Yucatán', 'Distrito Federal', 'Veracruz de Ignacio de la Llave', 'Distrito Federal', 'Distrito Federal', 'Morelos', 'San Luis Potosí', 'Yucatán', 'Jalisco', 'Querétaro', 'Veracruz de Ignacio de la Llave', 'Estado de México', 'Veracruz de Ignacio de la Llave', 'San Luis Potosí', 'Tabasco', 'Morelos', 'Puebla', 'Estado de México', 'Morelos', 'Yucatán', 'Morelos', 'Guerrero', 'Estado de México', 'Tamaulipas', 'Guanajuato', 'Morelos', 'Puebla', 'Estado de México', 'Colima', 'Morelos', 'San Luis Potosí', 'Morelos', 'Yucatán', 'Chihuahua', 'Puebla', 'Distrito Federal', 'Morelos', 'Distrito Federal', 'Baja California', 'Distrito Federal', 'Distrito Federal', 'Zacatecas', 'Veracruz de Ignacio de la Llave', 'Jalisco', 'Nayarit', 'Morelos', 'Distrito Federal', 'San Luis Potosí', 'Yucatán', 'Veracruz de Ignacio de la Llave', 'Tamaulipas', 'Yucatán', 'Estado de México', 'Estado de México', 'Estado de México', 'Morelos', 'Estado de México', 'Nuevo León', 'Tabasco', 'Nuevo León', 'Distrito Federal', 'Sinaloa', 'Aguascalientes', 'Morelos', 'Tamaulipas', 'Distrito Federal', 'Nuevo León', 'Guanajuato', 'Puebla', 'Yucatán', 'Distrito Federal', 'Estado de México', 'Nuevo León', 'Nuevo León', 'Yucatán', 'Puebla', 'Puebla', 'Chiapas', 'Jalisco', 'Guanajuato', 'Morelos', 'San Luis Potosí', 'Distrito Federal', 'Chiapas', 'Morelos', 'Distrito Federal', 'Puebla', 'Yucatán', 'Estado de México', 'Distrito Federal', 'Querétaro', 'Guerrero', 'Puebla', 'Puebla', 'Chiapas', 'Morelos', 'Morelos', 'Distrito Federal', 'San Luis Potosí', 'Estado de México', 'Estado de México', 'Distrito Federal', 'San Luis Potosí', 'Estado de México', 'Estado de México', 'Veracruz de Ignacio de la Llave', 'Querétaro', 'Yucatán', 'Morelos', 'Morelos', 'Nuevo León', 'Morelos', 'Puebla', 'Morelos', 'Morelos', 'Puebla', 'Distrito Federal', 'Puebla', 'Distrito Federal', 'Chiapas', 'Yucatán', 'Distrito Federal', 'Jalisco', 'Baja California Sur', 'Querétaro', 'Distrito Federal', 'Estado de México', 'Puebla', 'Jalisco', 'Guanajuato', 'Veracruz de Ignacio de la Llave', 'Guerrero', 'Nayarit', 'Chiapas', 'Distrito Federal', 'Querétaro', 'Estado de México', 'Veracruz de Ignacio de la Llave', 'Chiapas', 'Querétaro', 'Morelos', 'San Luis Potosí', 'Distrito Federal', 'Distrito Federal', 'Yucatán', 'Jalisco', 'Baja California', 'Tamaulipas', 'Veracruz de Ignacio de la Llave', 'Baja California Sur', 'Tamaulipas', 'Puebla', 'Distrito Federal', 'Estado de México', 'Sonora', 'Distrito Federal', 'Jalisco', 'Distrito Federal', 'Puebla', 'San Luis Potosí', 'Morelos', 'Yucatán', 'Yucatán', 'Querétaro', 'Morelos', 'Quintana Roo', 'Morelos', 'Tabasco', 'Chiapas', 'Nuevo León', 'Querétaro', 'Distrito Federal', 'Distrito Federal', 'Jalisco', 'Distrito Federal', 'Chiapas', 'Yucatán', 'Yucatán', 'Morelos', 'Veracruz de Ignacio de la Llave', 'Distrito Federal', 'Baja California Sur', 'Yucatán', 'Yucatán', 'Quintana Roo', 'Veracruz de Ignacio de la Llave', 'Yucatán', 'Tamaulipas', 'Chiapas', 'Estado de México', 'Chiapas', 'Estado de México', 'Puebla', 'Jalisco', 'Morelos', 'Veracruz de Ignacio de la Llave', 'Distrito Federal', 'Querétaro', 'Estado de México', 'Sinaloa', 'Tamaulipas', 'Distrito Federal', 'Distrito Federal', 'Chiapas', 'Tamaulipas', 'Guanajuato', 'Distrito Federal', 'Chiapas', 'Estado de México', 'Querétaro', 'Querétaro', 'Baja California Sur', 'Veracruz de Ignacio de la Llave', 'Estado de México', 'Sonora', 'Baja California', 'Hidalgo', 'Veracruz de Ignacio de la Llave', 'Distrito Federal', 'Distrito Federal', 'Nuevo León', 'Distrito Federal', 'Querétaro', 'Distrito Federal', 'Yucatán', 'Estado de México', 'Veracruz de Ignacio de la Llave', 'Puebla', 'Querétaro', 'Morelos', 'Morelos', 'Nuevo León', 'Estado de México', 'Durango', 'Distrito Federal', 'Querétaro', 'Veracruz de Ignacio de la Llave', 'Morelos', 'Quintana Roo', 'Tabasco', 'Veracruz de Ignacio de la Llave', 'Distrito Federal', 'Estado de México', 'Yucatán', 'Morelos', 'Querétaro', 'Distrito Federal', 'Nuevo León', 'Distrito Federal', 'Chihuahua', 'Distrito Federal', 'Querétaro', 'Yucatán', 'Veracruz de Ignacio de la Llave', 'Veracruz de Ignacio de la Llave', 'Veracruz de Ignacio de la Llave', 'Puebla', 'Baja California', 'Tamaulipas', 'Yucatán', 'Querétaro', 'Veracruz de Ignacio de la Llave', 'Morelos', 'Morelos', 'Veracruz de Ignacio de la Llave', 'Sonora', 'Quintana Roo', 'Baja California Sur', 'Guerrero', 'Chiapas', 'Veracruz de Ignacio de la Llave', 'Chihuahua', 'Jalisco', 'Yucatán', 'Morelos', 'Veracruz de Ignacio de la Llave', 'Distrito Federal', 'Estado de México', 'Distrito Federal', 'Yucatán', 'San Luis Potosí', 'Morelos', 'Tabasco', 'Morelos', 'Puebla', 'Puebla', 'Morelos', 'Morelos', 'Yucatán', 'Distrito Federal', 'Yucatán', 'Veracruz de Ignacio de la Llave', 'Nuevo León', 'Estado de México', 'Estado de México', 'San Luis Potosí', 'Nuevo León', 'San Luis Potosí', 'Puebla', 'Guerrero', 'Estado de México', 'Estado de México', 'Guerrero', 'Chiapas', 'Morelos', 'Morelos', 'Distrito Federal', 'Sinaloa', 'Yucatán', 'Hidalgo', 'Tamaulipas', 'Estado de México', 'Yucatán', 'Puebla', 'Chihuahua', 'Distrito Federal', 'Distrito Federal', 'Chiapas', 'Veracruz de Ignacio de la Llave', 'Yucatán', 'Guerrero', 'Estado de México', 'Puebla', 'Morelos', 'Yucatán', 'Puebla', 'Nuevo León', 'Yucatán', 'Quintana Roo', 'Nuevo León', 'Querétaro', 'Morelos', 'Querétaro', 'Sinaloa', 'Distrito Federal', 'Distrito Federal', 'Estado de México', 'Chiapas', 'Distrito Federal', 'Distrito Federal', 'Estado de México', 'Querétaro', 'San Luis Potosí', 'San Luis Potosí', 'Chiapas', 'Distrito Federal', 'Tamaulipas', 'Distrito Federal', 'Estado de México', 'Nuevo León', 'Puebla', 'Tlaxcala', 'Querétaro', 'Yucatán', 'Veracruz de Ignacio de la Llave', 'San Luis Potosí', 'Puebla', 'Estado de México', 'Estado de México', 'Veracruz de Ignacio de la Llave', 'Yucatán', 'Veracruz de Ignacio de la Llave', 'Distrito Federal', 'Querétaro', 'Veracruz de Ignacio de la Llave', 'Veracruz de Ignacio de la Llave', 'Estado de México', 'Sonora', 'Guerrero', 'Yucatán', 'Nuevo León', 'Morelos', 'Aguascalientes', 'Querétaro', 'Distrito Federal', 'Chiapas', 'Chiapas', 'Nuevo León', 'Aguascalientes', 'Jalisco', 'Nuevo León', 'Morelos', 'Querétaro', 'Veracruz de Ignacio de la Llave', 'Nuevo León', 'Sinaloa', 'Chiapas', 'Distrito Federal', 'San Luis Potosí', 'Morelos', 'Distrito Federal', 'Distrito Federal', 'Puebla', 'Estado de México', 'Morelos', 'Querétaro', 'Morelos', 'Yucatán', 'Tlaxcala', 'Yucatán', 'Estado de México', 'Yucatán', 'Puebla', 'Chiapas', 'Sinaloa', 'Puebla', 'Sinaloa', 'Distrito Federal', 'Distrito Federal', 'Nuevo León', 'Querétaro', 'Chiapas', 'Yucatán', 'Morelos', 'Quintana Roo', 'Chiapas', 'Querétaro', 'Distrito Federal', 'Estado de México', 'Distrito Federal', 'Distrito Federal', 'Morelos', 'Yucatán', 'Morelos', 'Distrito Federal', 'Yucatán', 'Distrito Federal', 'Distrito Federal', 'Morelos', 'Distrito Federal', 'Veracruz de Ignacio de la Llave', 'Yucatán', 'Veracruz de Ignacio de la Llave', 'Baja California', 'Puebla', 'Querétaro', 'Yucatán', 'Estado de México', 'Querétaro', 'Morelos', 'Yucatán', 'Morelos', 'Morelos', 'Veracruz de Ignacio de la Llave', 'Distrito Federal', 'Puebla', 'Distrito Federal', 'Morelos', 'Yucatán', 'Yucatán', 'Nuevo León', 'Querétaro']\n",
    "}\n",
    "\n",
    "df = pd.DataFrame(name_dict)\n",
    "\n",
    "print (df)"
   ]
  },
  {
   "cell_type": "code",
   "execution_count": null,
   "id": "3bba1fc7",
   "metadata": {},
   "outputs": [],
   "source": []
  },
  {
   "cell_type": "code",
   "execution_count": null,
   "id": "19c6bf41",
   "metadata": {},
   "outputs": [],
   "source": [
    "import pandas as pd\n",
    "\n",
    "name_dict = {\n",
    "            'property_type': ['a','b','c','d'],\n",
    "            'Score': [90,80,95,20]\n",
    "          }\n",
    "\n",
    "df = pd.DataFrame(name_dict)\n",
    "\n",
    "print (df)"
   ]
  },
  {
   "cell_type": "code",
   "execution_count": 8,
   "id": "6e42c758",
   "metadata": {},
   "outputs": [
    {
     "data": {
      "text/html": [
       "<div>\n",
       "<style scoped>\n",
       "    .dataframe tbody tr th:only-of-type {\n",
       "        vertical-align: middle;\n",
       "    }\n",
       "\n",
       "    .dataframe tbody tr th {\n",
       "        vertical-align: top;\n",
       "    }\n",
       "\n",
       "    .dataframe thead th {\n",
       "        text-align: right;\n",
       "    }\n",
       "</style>\n",
       "<table border=\"1\" class=\"dataframe\">\n",
       "  <thead>\n",
       "    <tr style=\"text-align: right;\">\n",
       "      <th></th>\n",
       "      <th>property_type</th>\n",
       "      <th>area_m2</th>\n",
       "      <th>state</th>\n",
       "    </tr>\n",
       "  </thead>\n",
       "  <tbody>\n",
       "    <tr>\n",
       "      <th>0</th>\n",
       "      <td>150.0</td>\n",
       "      <td>house</td>\n",
       "      <td>Estado de México</td>\n",
       "    </tr>\n",
       "    <tr>\n",
       "      <th>1</th>\n",
       "      <td>186.0</td>\n",
       "      <td>house</td>\n",
       "      <td>Nuevo León</td>\n",
       "    </tr>\n",
       "    <tr>\n",
       "      <th>2</th>\n",
       "      <td>82.0</td>\n",
       "      <td>apartment</td>\n",
       "      <td>Guerrero</td>\n",
       "    </tr>\n",
       "    <tr>\n",
       "      <th>3</th>\n",
       "      <td>150.0</td>\n",
       "      <td>apartment</td>\n",
       "      <td>Guerrero</td>\n",
       "    </tr>\n",
       "    <tr>\n",
       "      <th>4</th>\n",
       "      <td>175.0</td>\n",
       "      <td>house</td>\n",
       "      <td>Veracruz de Ignacio de la Llave</td>\n",
       "    </tr>\n",
       "    <tr>\n",
       "      <th>...</th>\n",
       "      <td>...</td>\n",
       "      <td>...</td>\n",
       "      <td>...</td>\n",
       "    </tr>\n",
       "    <tr>\n",
       "      <th>695</th>\n",
       "      <td>310.0</td>\n",
       "      <td>house</td>\n",
       "      <td>Morelos</td>\n",
       "    </tr>\n",
       "    <tr>\n",
       "      <th>696</th>\n",
       "      <td>334.0</td>\n",
       "      <td>house</td>\n",
       "      <td>Yucatán</td>\n",
       "    </tr>\n",
       "    <tr>\n",
       "      <th>697</th>\n",
       "      <td>130.0</td>\n",
       "      <td>house</td>\n",
       "      <td>Yucatán</td>\n",
       "    </tr>\n",
       "    <tr>\n",
       "      <th>698</th>\n",
       "      <td>155.0</td>\n",
       "      <td>apartment</td>\n",
       "      <td>Nuevo León</td>\n",
       "    </tr>\n",
       "    <tr>\n",
       "      <th>699</th>\n",
       "      <td>106.0</td>\n",
       "      <td>house</td>\n",
       "      <td>Querétaro</td>\n",
       "    </tr>\n",
       "  </tbody>\n",
       "</table>\n",
       "<p>700 rows × 3 columns</p>\n",
       "</div>"
      ],
      "text/plain": [
       "     property_type    area_m2                            state\n",
       "0            150.0      house                 Estado de México\n",
       "1            186.0      house                       Nuevo León\n",
       "2             82.0  apartment                         Guerrero\n",
       "3            150.0  apartment                         Guerrero\n",
       "4            175.0      house  Veracruz de Ignacio de la Llave\n",
       "..             ...        ...                              ...\n",
       "695          310.0      house                          Morelos\n",
       "696          334.0      house                          Yucatán\n",
       "697          130.0      house                          Yucatán\n",
       "698          155.0  apartment                       Nuevo León\n",
       "699          106.0      house                        Querétaro\n",
       "\n",
       "[700 rows x 3 columns]"
      ]
     },
     "execution_count": 8,
     "metadata": {},
     "output_type": "execute_result"
    }
   ],
   "source": [
    "import pandas as pd\n",
    "name_dict = {\n",
    "    \n",
    "'property_type': [150.0,186.0,82.0,150.0,175.0,205.0,320.0,202.0,90.0,281.0,140.0,235.0,117.0,117.0,193.0,85.0,135.0,127.0,208.0,297.0,173.0,73.0,170.0,129.0,68.0,334.0,106.0,132.0,104.0,97.0,150.0,200.0,170.0,80.0,70.0,240.0,194.0,150.0,188.0,253.0,128.0,350.0,240.0,133.0,220.0,250.0,187.0,106.0,127.0,102.0,107.0,242.0,245.0,90.0,75.0,93.0,155.0,126.0,300.0,132.0,130.0,237.0,96.0,102.0,76.0,229.0,305.0,128.0,240.0,135.0,320.0,96.0,268.0,170.0,168.0,180.0,220.0,180.0,250.0,157.0,128.0,135.0,176.0,60.0,185.0,60.0,300.0,220.0,200.0,261.0,81.0,98.0,72.0,211.0,128.0,200.0,300.0,185.0,178.0,280.0,247.0,131.0,350.0,115.0,121.0,108.0,300.0,80.0,290.0,148.0,290.0,200.0,220.0,167.0,192.0,207.0,176.0,104.0,120.0,350.0,87.0,78.0,75.0,200.0,114.0,266.0,204.0,70.0,155.0,247.0,88.0,175.0,170.0,98.0,60.0,127.0,180.0,320.0,326.0,210.0,330.0,300.0,157.0,156.0,101.0,336.0,120.0,60.0,282.0,130.0,110.0,156.0,200.0,309.0,200.0,100.0,145.0,120.0,183.0,107.0,140.0,67.0,115.0,180.0,227.0,175.0,250.0,215.0,165.0,200.0,242.0,120.0,220.0,304.0,385.0,110.0,255.0,225.0,218.0,276.0,100.0,137.0,201.0,135.0,90.0,164.0,176.0,104.0,220.0,174.0,233.0,95.0,153.0,189.0,90.0,275.0,170.0,86.0,148.0,89.0,110.0,130.0,185.0,154.0,273.0,187.0,110.0,94.0,100.0,84.0,162.0,239.0,175.0,200.0,211.0,123.0,141.0,100.0,148.0,165.0,150.0,70.0,95.0,165.0,65.0,250.0,85.0,91.0,187.0,81.0,155.0,270.0,204.0,170.0,180.0,124.0,66.0,276.0,262.0,79.0,70.0,72.0,146.0,250.0,137.0,65.0,142.0,150.0,305.0,300.0,105.0,90.0,124.0,210.0,181.0,230.0,180.0,121.0,108.0,300.0,70.0,154.0,150.0,367.0,120.0,70.0,250.0,141.0,320.0,104.0,174.0,212.0,210.0,240.0,87.0,300.0,103.0,257.0,240.0,360.0,189.0,246.0,289.0,83.0,127.0,95.0,75.0,60.0,70.0,138.0,140.0,149.0,84.0,360.0,110.0,380.0,90.0,140.0,140.0,154.0,140.0,332.0,372.0,200.0,230.0,132.0,134.0,159.0,112.0,95.0,157.0,279.0,75.0,80.0,222.0,216.0,100.0,160.0,83.0,110.0,131.0,210.0,168.0,260.0,100.0,212.0,104.0,207.0,302.0,92.0,103.0,168.0,97.0,105.0,330.0,190.0,180.0,96.0,300.0,141.0,92.0,215.0,330.0,76.0,136.0,65.0,110.0,70.0,100.0,320.0,180.0,326.0,250.0,168.0,165.0,325.0,180.0,205.0,160.0,225.0,180.0,85.0,272.0,252.0,84.0,120.0,162.0,180.0,178.0,69.0,300.0,94.0,110.0,150.0,136.0,148.0,125.0,330.0,240.0,88.0,115.0,73.0,150.0,160.0,236.0,230.0,72.0,89.0,117.0,100.0,150.0,60.0,382.0,90.0,140.0,252.0,189.0,110.0,200.0,110.0,70.0,260.0,200.0,76.0,195.0,100.0,212.0,110.0,124.0,296.0,200.0,80.0,210.0,180.0,112.0,60.0,148.0,160.0,110.0,248.0,72.0,84.0,72.0,250.0,290.0,158.0,320.0,220.0,200.0,189.0,300.0,220.0,81.0,203.0,173.0,263.0,87.0,157.0,220.0,105.0,139.0,122.0,120.0,271.0,308.0,350.0,181.0,212.0,287.0,250.0,100.0,298.0,67.0,180.0,80.0,153.0,60.0,315.0,180.0,65.0,140.0,107.0,301.0,61.0,320.0,104.0,85.0,108.0,155.0,170.0,295.0,126.0,249.0,300.0,123.0,162.0,322.0,186.0,147.0,114.0,175.0,88.0,60.0,160.0,244.0,66.0,189.0,104.0,220.0,78.0,130.0,185.0,200.0,334.0,90.0,257.0,196.0,108.0,100.0,230.0,280.0,100.0,160.0,163.0,235.0,134.0,93.0,235.0,178.0,214.0,333.0,90.0,168.0,270.0,210.0,180.0,97.0,200.0,189.0,200.0,150.0,200.0,145.0,172.0,75.0,150.0,136.0,250.0,245.0,184.0,161.0,338.0,116.0,140.0,78.0,380.0,213.0,70.0,200.0,150.0,92.0,175.0,200.0,225.0,107.0,160.0,147.0,280.0,69.0,90.0,150.0,224.0,100.0,143.0,80.0,85.0,66.0,100.0,296.0,170.0,202.0,235.0,159.0,161.0,70.0,240.0,205.0,165.0,98.0,62.0,228.0,125.0,320.0,127.0,365.0,180.0,84.0,183.0,150.0,320.0,148.0,61.0,62.0,60.0,150.0,73.0,80.0,65.0,260.0,104.0,125.0,140.0,200.0,238.0,163.0,270.0,155.0,285.0,315.0,159.0,145.0,186.0,170.0,188.0,120.0,300.0,75.0,190.0,208.0,170.0,64.0,360.0,160.0,150.0,104.0,309.0,178.0,215.0,138.0,117.0,198.0,246.0,83.0,150.0,121.0,164.0,185.0,150.0,120.0,200.0,269.0,113.0,234.0,192.0,184.0,100.0,150.0,286.0,140.0,216.0,240.0,196.0,180.0,330.0,310.0,192.0,135.0,250.0,79.0,188.0,109.0,90.0,146.0,260.0,230.0,70.0,64.0,135.0,112.0,350.0,264.0,110.0,165.0,100.0,223.0,80.0,120.0,83.0,81.0,181.0,350.0,60.0,81.0,380.0,100.0,85.0,65.0,98.0,220.0,305.0,240.0,114.0,90.0,354.0,155.0,140.0,86.0,306.0,171.0,270.0,182.0,100.0,70.0,198.0,70.0,310.0,334.0,130.0,155.0,106.0],\n",
    "'area_m2': ['house','house','apartment','apartment','house','house','house','house','house','house','house','house','house','apartment','house','house','house','apartment','apartment','house','house','house','apartment','apartment','apartment','house','house','house','house','apartment','apartment','house','house','apartment','house','house','house','house','house','house','apartment','house','house','house','house','house','house','apartment','house','apartment','house','house','house','apartment','apartment','apartment','apartment','house','house','house','house','apartment','house','apartment','house','house','house','house','house','house','house','house','house','apartment','house','house','house','house','house','apartment','house','house','house','house','house','apartment','house','house','house','house','apartment','house','apartment','house','house','house','house','house','house','house','house','house','house','house','house','house','house','apartment','house','house','house','house','house','apartment','house','house','house','apartment','apartment','house','house','apartment','apartment','house','apartment','house','house','house','house','house','apartment','house','house','apartment','apartment','house','house','house','house','house','house','house','house','house','apartment','house','house','house','house','apartment','house','house','house','house','house','house','house','house','house','house','apartment','apartment','house','house','house','house','house','house','house','house','house','apartment','house','house','house','house','apartment','house','house','house','house','house','house','house','house','house','house','house','house','house','house','apartment','house','house','apartment','house','house','apartment','house','apartment','house','house','house','apartment','house','house','house','apartment','house','house','house','house','house','house','house','house','house','house','house','house','house','apartment','apartment','house','apartment','apartment','apartment','house','house','apartment','apartment','house','house','house','house','house','house','house','house','house','apartment','apartment','house','house','house','apartment','house','house','house','house','apartment','apartment','apartment','apartment','house','house','house','house','house','house','apartment','house','house','house','house','house','house','house','house','house','apartment','house','house','house','apartment','house','house','house','house','house','house','house','house','apartment','apartment','house','house','apartment','house','house','house','house','house','house','apartment','house','house','house','house','house','house','house','house','house','house','apartment','house','house','apartment','house','house','house','house','apartment','house','house','apartment','house','apartment','house','house','house','house','house','house','house','house','house','house','house','apartment','house','house','apartment','house','house','house','apartment','house','apartment','apartment','house','house','apartment','house','apartment','house','house','house','house','house','house','house','house','house','house','house','apartment','apartment','house','house','house','house','house','apartment','apartment','apartment','house','house','apartment','house','house','house','house','house','house','apartment','house','house','apartment','house','apartment','apartment','house','house','house','house','house','house','apartment','apartment','house','house','house','house','house','house','house','house','house','apartment','house','house','apartment','house','apartment','apartment','house','apartment','house','house','house','house','house','house','house','house','house','apartment','house','apartment','apartment','apartment','house','house','house','house','house','house','house','house','house','house','house','house','house','house','apartment','house','house','apartment','house','house','house','house','house','house','house','house','house','apartment','house','house','house','apartment','house','house','house','house','house','house','house','house','house','house','house','apartment','apartment','house','apartment','house','apartment','house','apartment','house','house','house','house','house','apartment','house','apartment','apartment','apartment','house','house','house','apartment','house','apartment','apartment','house','house','house','apartment','house','house','house','house','house','house','house','house','house','house','house','house','house','apartment','house','house','house','house','house','house','house','house','house','apartment','house','house','apartment','house','house','apartment','house','house','house','house','house','house','house','house','house','house','house','house','apartment','house','house','apartment','house','house','house','house','house','house','house','apartment','house','house','house','house','apartment','apartment','apartment','apartment','house','house','house','apartment','house','house','house','apartment','house','house','house','apartment','house','house','house','house','apartment','house','house','apartment','house','house','house','house','apartment','apartment','apartment','apartment','apartment','apartment','apartment','house','house','house','house','house','house','house','house','apartment','house','house','house','house','house','house','house','house','house','house','house','apartment','house','apartment','house','house','house','house','house','apartment','house','house','apartment','house','house','apartment','house','house','house','house','house','house','house','house','house','house','house','house','apartment','house','house','house','house','house','house','house','house','house','house','house','house','house','house','house','house','house','house','apartment','apartment','apartment','house','house','house','house','apartment','apartment','house','house','apartment','house','apartment','apartment','house','house','house','apartment','house','house','apartment','apartment','apartment','house','house','house','house','house','house','house','house','house','house','house','house','house','house','apartment','house','apartment','house','house','house','apartment','house'],\n",
    "'state' : ['Estado de México', 'Nuevo León', 'Guerrero', 'Guerrero', 'Veracruz de Ignacio de la Llave', 'Yucatán', 'Querétaro', 'Querétaro', 'Nuevo León', 'Morelos', 'Chiapas', 'Estado de México', 'Morelos', 'Guerrero', 'Yucatán', 'Estado de México', 'Tabasco', 'Distrito Federal', 'Yucatán', 'Distrito Federal', 'Nayarit', 'Morelos', 'Puebla', 'Distrito Federal', 'Distrito Federal', 'Puebla', 'Veracruz de Ignacio de la Llave', 'Yucatán', 'Sinaloa', 'Distrito Federal', 'Guerrero', 'Estado de México', 'Morelos', 'Yucatán', 'Tabasco', 'Chiapas', 'Puebla', 'Chihuahua', 'Tamaulipas', 'Yucatán', 'Distrito Federal', 'Veracruz de Ignacio de la Llave', 'Morelos', 'Veracruz de Ignacio de la Llave', 'Morelos', 'Puebla', 'Distrito Federal', 'Puebla', 'Veracruz de Ignacio de la Llave', 'Puebla', 'Jalisco', 'Yucatán', 'Distrito Federal', 'Distrito Federal', 'Distrito Federal', 'Puebla', 'San Luis Potosí', 'Estado de México', 'Distrito Federal', 'San Luis Potosí', 'Morelos', 'Yucatán', 'Sinaloa', 'Distrito Federal', 'Baja California', 'Hidalgo', 'Morelos', 'Puebla', 'Estado de México', 'Quintana Roo', 'Nuevo León', 'Chiapas', 'Estado de México', 'Tamaulipas', 'Guerrero', 'Veracruz de Ignacio de la Llave', 'Veracruz de Ignacio de la Llave', 'Guerrero', 'Querétaro', 'Yucatán', 'Querétaro', 'Estado de México', 'Hidalgo', 'Nuevo León', 'Nuevo León', 'Distrito Federal', 'Distrito Federal', 'Veracruz de Ignacio de la Llave', 'Tamaulipas', 'Quintana Roo', 'Distrito Federal', 'Jalisco', 'Distrito Federal', 'Yucatán', 'Querétaro', 'Estado de México', 'Querétaro', 'Sonora', 'Puebla', 'Sinaloa', 'Puebla', 'Estado de México', 'Querétaro', 'Chihuahua', 'Yucatán', 'San Luis Potosí', 'Distrito Federal', 'Distrito Federal', 'Morelos', 'Puebla', 'Veracruz de Ignacio de la Llave', 'Puebla', 'Morelos', 'San Luis Potosí', 'Yucatán', 'Estado de México', 'Baja California Sur', 'Querétaro', 'Distrito Federal', 'Distrito Federal', 'Estado de México', 'Distrito Federal', 'Distrito Federal', 'Puebla', 'San Luis Potosí', 'Yucatán', 'Nuevo León', 'Estado de México', 'Jalisco', 'Morelos', 'Jalisco', 'Yucatán', 'Zacatecas', 'Distrito Federal', 'Estado de México', 'Yucatán', 'Distrito Federal', 'Puebla', 'Puebla', 'Veracruz de Ignacio de la Llave', 'Veracruz de Ignacio de la Llave', 'Chiapas', 'Estado de México', 'Jalisco', 'Nuevo León', 'Nuevo León', 'Estado de México', 'Estado de México', 'Yucatán', 'Guerrero', 'San Luis Potosí', 'Puebla', 'San Luis Potosí', 'Estado de México', 'Hidalgo', 'Yucatán', 'Morelos', 'Distrito Federal', 'Morelos', 'Yucatán', 'Querétaro', 'Distrito Federal', 'Estado de México', 'Estado de México', 'Chihuahua', 'Hidalgo', 'Nuevo León', 'Aguascalientes', 'Veracruz de Ignacio de la Llave', 'Hidalgo', 'Nuevo León', 'Distrito Federal', 'Distrito Federal', 'Distrito Federal', 'Puebla', 'Yucatán', 'Yucatán', 'Distrito Federal', 'Morelos', 'Querétaro', 'Yucatán', 'Sinaloa', 'Yucatán', 'Puebla', 'Estado de México', 'San Luis Potosí', 'Tamaulipas', 'Tabasco', 'Distrito Federal', 'Yucatán', 'Estado de México', 'Puebla', 'Estado de México', 'Sinaloa', 'Distrito Federal', 'Quintana Roo', 'Morelos', 'Distrito Federal', 'Nuevo León', 'Morelos', 'Veracruz de Ignacio de la Llave', 'Veracruz de Ignacio de la Llave', 'Yucatán', 'Guerrero', 'Querétaro', 'San Luis Potosí', 'Distrito Federal', 'Distrito Federal', 'Tabasco', 'Querétaro', 'Yucatán', 'Yucatán', 'Chiapas', 'Veracruz de Ignacio de la Llave', 'Nuevo León', 'Yucatán', 'Tamaulipas', 'Veracruz de Ignacio de la Llave', 'Jalisco', 'Veracruz de Ignacio de la Llave', 'Morelos', 'Distrito Federal', 'Quintana Roo', 'Tamaulipas', 'Distrito Federal', 'Veracruz de Ignacio de la Llave', 'Distrito Federal', 'Veracruz de Ignacio de la Llave', 'Chihuahua', 'Distrito Federal', 'Guerrero', 'Querétaro', 'Yucatán', 'Guerrero', 'Querétaro', 'Sinaloa', 'Quintana Roo', 'Veracruz de Ignacio de la Llave', 'Puebla', 'Yucatán', 'Distrito Federal', 'Distrito Federal', 'Veracruz de Ignacio de la Llave', 'Querétaro', 'Yucatán', 'Distrito Federal', 'Yucatán', 'Querétaro', 'Yucatán', 'Distrito Federal', 'Veracruz de Ignacio de la Llave', 'Distrito Federal', 'Distrito Federal', 'Morelos', 'San Luis Potosí', 'Yucatán', 'Jalisco', 'Querétaro', 'Veracruz de Ignacio de la Llave', 'Estado de México', 'Veracruz de Ignacio de la Llave', 'San Luis Potosí', 'Tabasco', 'Morelos', 'Puebla', 'Estado de México', 'Morelos', 'Yucatán', 'Morelos', 'Guerrero', 'Estado de México', 'Tamaulipas', 'Guanajuato', 'Morelos', 'Puebla', 'Estado de México', 'Colima', 'Morelos', 'San Luis Potosí', 'Morelos', 'Yucatán', 'Chihuahua', 'Puebla', 'Distrito Federal', 'Morelos', 'Distrito Federal', 'Baja California', 'Distrito Federal', 'Distrito Federal', 'Zacatecas', 'Veracruz de Ignacio de la Llave', 'Jalisco', 'Nayarit', 'Morelos', 'Distrito Federal', 'San Luis Potosí', 'Yucatán', 'Veracruz de Ignacio de la Llave', 'Tamaulipas', 'Yucatán', 'Estado de México', 'Estado de México', 'Estado de México', 'Morelos', 'Estado de México', 'Nuevo León', 'Tabasco', 'Nuevo León', 'Distrito Federal', 'Sinaloa', 'Aguascalientes', 'Morelos', 'Tamaulipas', 'Distrito Federal', 'Nuevo León', 'Guanajuato', 'Puebla', 'Yucatán', 'Distrito Federal', 'Estado de México', 'Nuevo León', 'Nuevo León', 'Yucatán', 'Puebla', 'Puebla', 'Chiapas', 'Jalisco', 'Guanajuato', 'Morelos', 'San Luis Potosí', 'Distrito Federal', 'Chiapas', 'Morelos', 'Distrito Federal', 'Puebla', 'Yucatán', 'Estado de México', 'Distrito Federal', 'Querétaro', 'Guerrero', 'Puebla', 'Puebla', 'Chiapas', 'Morelos', 'Morelos', 'Distrito Federal', 'San Luis Potosí', 'Estado de México', 'Estado de México', 'Distrito Federal', 'San Luis Potosí', 'Estado de México', 'Estado de México', 'Veracruz de Ignacio de la Llave', 'Querétaro', 'Yucatán', 'Morelos', 'Morelos', 'Nuevo León', 'Morelos', 'Puebla', 'Morelos', 'Morelos', 'Puebla', 'Distrito Federal', 'Puebla', 'Distrito Federal', 'Chiapas', 'Yucatán', 'Distrito Federal', 'Jalisco', 'Baja California Sur', 'Querétaro', 'Distrito Federal', 'Estado de México', 'Puebla', 'Jalisco', 'Guanajuato', 'Veracruz de Ignacio de la Llave', 'Guerrero', 'Nayarit', 'Chiapas', 'Distrito Federal', 'Querétaro', 'Estado de México', 'Veracruz de Ignacio de la Llave', 'Chiapas', 'Querétaro', 'Morelos', 'San Luis Potosí', 'Distrito Federal', 'Distrito Federal', 'Yucatán', 'Jalisco', 'Baja California', 'Tamaulipas', 'Veracruz de Ignacio de la Llave', 'Baja California Sur', 'Tamaulipas', 'Puebla', 'Distrito Federal', 'Estado de México', 'Sonora', 'Distrito Federal', 'Jalisco', 'Distrito Federal', 'Puebla', 'San Luis Potosí', 'Morelos', 'Yucatán', 'Yucatán', 'Querétaro', 'Morelos', 'Quintana Roo', 'Morelos', 'Tabasco', 'Chiapas', 'Nuevo León', 'Querétaro', 'Distrito Federal', 'Distrito Federal', 'Jalisco', 'Distrito Federal', 'Chiapas', 'Yucatán', 'Yucatán', 'Morelos', 'Veracruz de Ignacio de la Llave', 'Distrito Federal', 'Baja California Sur', 'Yucatán', 'Yucatán', 'Quintana Roo', 'Veracruz de Ignacio de la Llave', 'Yucatán', 'Tamaulipas', 'Chiapas', 'Estado de México', 'Chiapas', 'Estado de México', 'Puebla', 'Jalisco', 'Morelos', 'Veracruz de Ignacio de la Llave', 'Distrito Federal', 'Querétaro', 'Estado de México', 'Sinaloa', 'Tamaulipas', 'Distrito Federal', 'Distrito Federal', 'Chiapas', 'Tamaulipas', 'Guanajuato', 'Distrito Federal', 'Chiapas', 'Estado de México', 'Querétaro', 'Querétaro', 'Baja California Sur', 'Veracruz de Ignacio de la Llave', 'Estado de México', 'Sonora', 'Baja California', 'Hidalgo', 'Veracruz de Ignacio de la Llave', 'Distrito Federal', 'Distrito Federal', 'Nuevo León', 'Distrito Federal', 'Querétaro', 'Distrito Federal', 'Yucatán', 'Estado de México', 'Veracruz de Ignacio de la Llave', 'Puebla', 'Querétaro', 'Morelos', 'Morelos', 'Nuevo León', 'Estado de México', 'Durango', 'Distrito Federal', 'Querétaro', 'Veracruz de Ignacio de la Llave', 'Morelos', 'Quintana Roo', 'Tabasco', 'Veracruz de Ignacio de la Llave', 'Distrito Federal', 'Estado de México', 'Yucatán', 'Morelos', 'Querétaro', 'Distrito Federal', 'Nuevo León', 'Distrito Federal', 'Chihuahua', 'Distrito Federal', 'Querétaro', 'Yucatán', 'Veracruz de Ignacio de la Llave', 'Veracruz de Ignacio de la Llave', 'Veracruz de Ignacio de la Llave', 'Puebla', 'Baja California', 'Tamaulipas', 'Yucatán', 'Querétaro', 'Veracruz de Ignacio de la Llave', 'Morelos', 'Morelos', 'Veracruz de Ignacio de la Llave', 'Sonora', 'Quintana Roo', 'Baja California Sur', 'Guerrero', 'Chiapas', 'Veracruz de Ignacio de la Llave', 'Chihuahua', 'Jalisco', 'Yucatán', 'Morelos', 'Veracruz de Ignacio de la Llave', 'Distrito Federal', 'Estado de México', 'Distrito Federal', 'Yucatán', 'San Luis Potosí', 'Morelos', 'Tabasco', 'Morelos', 'Puebla', 'Puebla', 'Morelos', 'Morelos', 'Yucatán', 'Distrito Federal', 'Yucatán', 'Veracruz de Ignacio de la Llave', 'Nuevo León', 'Estado de México', 'Estado de México', 'San Luis Potosí', 'Nuevo León', 'San Luis Potosí', 'Puebla', 'Guerrero', 'Estado de México', 'Estado de México', 'Guerrero', 'Chiapas', 'Morelos', 'Morelos', 'Distrito Federal', 'Sinaloa', 'Yucatán', 'Hidalgo', 'Tamaulipas', 'Estado de México', 'Yucatán', 'Puebla', 'Chihuahua', 'Distrito Federal', 'Distrito Federal', 'Chiapas', 'Veracruz de Ignacio de la Llave', 'Yucatán', 'Guerrero', 'Estado de México', 'Puebla', 'Morelos', 'Yucatán', 'Puebla', 'Nuevo León', 'Yucatán', 'Quintana Roo', 'Nuevo León', 'Querétaro', 'Morelos', 'Querétaro', 'Sinaloa', 'Distrito Federal', 'Distrito Federal', 'Estado de México', 'Chiapas', 'Distrito Federal', 'Distrito Federal', 'Estado de México', 'Querétaro', 'San Luis Potosí', 'San Luis Potosí', 'Chiapas', 'Distrito Federal', 'Tamaulipas', 'Distrito Federal', 'Estado de México', 'Nuevo León', 'Puebla', 'Tlaxcala', 'Querétaro', 'Yucatán', 'Veracruz de Ignacio de la Llave', 'San Luis Potosí', 'Puebla', 'Estado de México', 'Estado de México', 'Veracruz de Ignacio de la Llave', 'Yucatán', 'Veracruz de Ignacio de la Llave', 'Distrito Federal', 'Querétaro', 'Veracruz de Ignacio de la Llave', 'Veracruz de Ignacio de la Llave', 'Estado de México', 'Sonora', 'Guerrero', 'Yucatán', 'Nuevo León', 'Morelos', 'Aguascalientes', 'Querétaro', 'Distrito Federal', 'Chiapas', 'Chiapas', 'Nuevo León', 'Aguascalientes', 'Jalisco', 'Nuevo León', 'Morelos', 'Querétaro', 'Veracruz de Ignacio de la Llave', 'Nuevo León', 'Sinaloa', 'Chiapas', 'Distrito Federal', 'San Luis Potosí', 'Morelos', 'Distrito Federal', 'Distrito Federal', 'Puebla', 'Estado de México', 'Morelos', 'Querétaro', 'Morelos', 'Yucatán', 'Tlaxcala', 'Yucatán', 'Estado de México', 'Yucatán', 'Puebla', 'Chiapas', 'Sinaloa', 'Puebla', 'Sinaloa', 'Distrito Federal', 'Distrito Federal', 'Nuevo León', 'Querétaro', 'Chiapas', 'Yucatán', 'Morelos', 'Quintana Roo', 'Chiapas', 'Querétaro', 'Distrito Federal', 'Estado de México', 'Distrito Federal', 'Distrito Federal', 'Morelos', 'Yucatán', 'Morelos', 'Distrito Federal', 'Yucatán', 'Distrito Federal', 'Distrito Federal', 'Morelos', 'Distrito Federal', 'Veracruz de Ignacio de la Llave', 'Yucatán', 'Veracruz de Ignacio de la Llave', 'Baja California', 'Puebla', 'Querétaro', 'Yucatán', 'Estado de México', 'Querétaro', 'Morelos', 'Yucatán', 'Morelos', 'Morelos', 'Veracruz de Ignacio de la Llave', 'Distrito Federal', 'Puebla', 'Distrito Federal', 'Morelos', 'Yucatán', 'Yucatán', 'Nuevo León', 'Querétaro'],\n",
    "}\n",
    "\n",
    "df = pd.DataFrame(name_dict)\n",
    "\n",
    "df"
   ]
  },
  {
   "cell_type": "code",
   "execution_count": 10,
   "id": "cd347833",
   "metadata": {},
   "outputs": [
    {
     "data": {
      "text/plain": [
       "',property_type,area_m2,state\\r\\n0,150.0,house,Estado de México\\r\\n1,186.0,house,Nuevo León\\r\\n2,82.0,apartment,Guerrero\\r\\n3,150.0,apartment,Guerrero\\r\\n4,175.0,house,Veracruz de Ignacio de la Llave\\r\\n5,205.0,house,Yucatán\\r\\n6,320.0,house,Querétaro\\r\\n7,202.0,house,Querétaro\\r\\n8,90.0,house,Nuevo León\\r\\n9,281.0,house,Morelos\\r\\n10,140.0,house,Chiapas\\r\\n11,235.0,house,Estado de México\\r\\n12,117.0,house,Morelos\\r\\n13,117.0,apartment,Guerrero\\r\\n14,193.0,house,Yucatán\\r\\n15,85.0,house,Estado de México\\r\\n16,135.0,house,Tabasco\\r\\n17,127.0,apartment,Distrito Federal\\r\\n18,208.0,apartment,Yucatán\\r\\n19,297.0,house,Distrito Federal\\r\\n20,173.0,house,Nayarit\\r\\n21,73.0,house,Morelos\\r\\n22,170.0,apartment,Puebla\\r\\n23,129.0,apartment,Distrito Federal\\r\\n24,68.0,apartment,Distrito Federal\\r\\n25,334.0,house,Puebla\\r\\n26,106.0,house,Veracruz de Ignacio de la Llave\\r\\n27,132.0,house,Yucatán\\r\\n28,104.0,house,Sinaloa\\r\\n29,97.0,apartment,Distrito Federal\\r\\n30,150.0,apartment,Guerrero\\r\\n31,200.0,house,Estado de México\\r\\n32,170.0,house,Morelos\\r\\n33,80.0,apartment,Yucatán\\r\\n34,70.0,house,Tabasco\\r\\n35,240.0,house,Chiapas\\r\\n36,194.0,house,Puebla\\r\\n37,150.0,house,Chihuahua\\r\\n38,188.0,house,Tamaulipas\\r\\n39,253.0,house,Yucatán\\r\\n40,128.0,apartment,Distrito Federal\\r\\n41,350.0,house,Veracruz de Ignacio de la Llave\\r\\n42,240.0,house,Morelos\\r\\n43,133.0,house,Veracruz de Ignacio de la Llave\\r\\n44,220.0,house,Morelos\\r\\n45,250.0,house,Puebla\\r\\n46,187.0,house,Distrito Federal\\r\\n47,106.0,apartment,Puebla\\r\\n48,127.0,house,Veracruz de Ignacio de la Llave\\r\\n49,102.0,apartment,Puebla\\r\\n50,107.0,house,Jalisco\\r\\n51,242.0,house,Yucatán\\r\\n52,245.0,house,Distrito Federal\\r\\n53,90.0,apartment,Distrito Federal\\r\\n54,75.0,apartment,Distrito Federal\\r\\n55,93.0,apartment,Puebla\\r\\n56,155.0,apartment,San Luis Potosí\\r\\n57,126.0,house,Estado de México\\r\\n58,300.0,house,Distrito Federal\\r\\n59,132.0,house,San Luis Potosí\\r\\n60,130.0,house,Morelos\\r\\n61,237.0,apartment,Yucatán\\r\\n62,96.0,house,Sinaloa\\r\\n63,102.0,apartment,Distrito Federal\\r\\n64,76.0,house,Baja California\\r\\n65,229.0,house,Hidalgo\\r\\n66,305.0,house,Morelos\\r\\n67,128.0,house,Puebla\\r\\n68,240.0,house,Estado de México\\r\\n69,135.0,house,Quintana Roo\\r\\n70,320.0,house,Nuevo León\\r\\n71,96.0,house,Chiapas\\r\\n72,268.0,house,Estado de México\\r\\n73,170.0,apartment,Tamaulipas\\r\\n74,168.0,house,Guerrero\\r\\n75,180.0,house,Veracruz de Ignacio de la Llave\\r\\n76,220.0,house,Veracruz de Ignacio de la Llave\\r\\n77,180.0,house,Guerrero\\r\\n78,250.0,house,Querétaro\\r\\n79,157.0,apartment,Yucatán\\r\\n80,128.0,house,Querétaro\\r\\n81,135.0,house,Estado de México\\r\\n82,176.0,house,Hidalgo\\r\\n83,60.0,house,Nuevo León\\r\\n84,185.0,house,Nuevo León\\r\\n85,60.0,apartment,Distrito Federal\\r\\n86,300.0,house,Distrito Federal\\r\\n87,220.0,house,Veracruz de Ignacio de la Llave\\r\\n88,200.0,house,Tamaulipas\\r\\n89,261.0,house,Quintana Roo\\r\\n90,81.0,apartment,Distrito Federal\\r\\n91,98.0,house,Jalisco\\r\\n92,72.0,apartment,Distrito Federal\\r\\n93,211.0,house,Yucatán\\r\\n94,128.0,house,Querétaro\\r\\n95,200.0,house,Estado de México\\r\\n96,300.0,house,Querétaro\\r\\n97,185.0,house,Sonora\\r\\n98,178.0,house,Puebla\\r\\n99,280.0,house,Sinaloa\\r\\n100,247.0,house,Puebla\\r\\n101,131.0,house,Estado de México\\r\\n102,350.0,house,Querétaro\\r\\n103,115.0,house,Chihuahua\\r\\n104,121.0,house,Yucatán\\r\\n105,108.0,house,San Luis Potosí\\r\\n106,300.0,house,Distrito Federal\\r\\n107,80.0,apartment,Distrito Federal\\r\\n108,290.0,house,Morelos\\r\\n109,148.0,house,Puebla\\r\\n110,290.0,house,Veracruz de Ignacio de la Llave\\r\\n111,200.0,house,Puebla\\r\\n112,220.0,house,Morelos\\r\\n113,167.0,apartment,San Luis Potosí\\r\\n114,192.0,house,Yucatán\\r\\n115,207.0,house,Estado de México\\r\\n116,176.0,house,Baja California Sur\\r\\n117,104.0,apartment,Querétaro\\r\\n118,120.0,apartment,Distrito Federal\\r\\n119,350.0,house,Distrito Federal\\r\\n120,87.0,house,Estado de México\\r\\n121,78.0,apartment,Distrito Federal\\r\\n122,75.0,apartment,Distrito Federal\\r\\n123,200.0,house,Puebla\\r\\n124,114.0,apartment,San Luis Potosí\\r\\n125,266.0,house,Yucatán\\r\\n126,204.0,house,Nuevo León\\r\\n127,70.0,house,Estado de México\\r\\n128,155.0,house,Jalisco\\r\\n129,247.0,house,Morelos\\r\\n130,88.0,apartment,Jalisco\\r\\n131,175.0,house,Yucatán\\r\\n132,170.0,house,Zacatecas\\r\\n133,98.0,apartment,Distrito Federal\\r\\n134,60.0,apartment,Estado de México\\r\\n135,127.0,house,Yucatán\\r\\n136,180.0,house,Distrito Federal\\r\\n137,320.0,house,Puebla\\r\\n138,326.0,house,Puebla\\r\\n139,210.0,house,Veracruz de Ignacio de la Llave\\r\\n140,330.0,house,Veracruz de Ignacio de la Llave\\r\\n141,300.0,house,Chiapas\\r\\n142,157.0,house,Estado de México\\r\\n143,156.0,house,Jalisco\\r\\n144,101.0,apartment,Nuevo León\\r\\n145,336.0,house,Nuevo León\\r\\n146,120.0,house,Estado de México\\r\\n147,60.0,house,Estado de México\\r\\n148,282.0,house,Yucatán\\r\\n149,130.0,apartment,Guerrero\\r\\n150,110.0,house,San Luis Potosí\\r\\n151,156.0,house,Puebla\\r\\n152,200.0,house,San Luis Potosí\\r\\n153,309.0,house,Estado de México\\r\\n154,200.0,house,Hidalgo\\r\\n155,100.0,house,Yucatán\\r\\n156,145.0,house,Morelos\\r\\n157,120.0,house,Distrito Federal\\r\\n158,183.0,house,Morelos\\r\\n159,107.0,house,Yucatán\\r\\n160,140.0,apartment,Querétaro\\r\\n161,67.0,apartment,Distrito Federal\\r\\n162,115.0,house,Estado de México\\r\\n163,180.0,house,Estado de México\\r\\n164,227.0,house,Chihuahua\\r\\n165,175.0,house,Hidalgo\\r\\n166,250.0,house,Nuevo León\\r\\n167,215.0,house,Aguascalientes\\r\\n168,165.0,house,Veracruz de Ignacio de la Llave\\r\\n169,200.0,house,Hidalgo\\r\\n170,242.0,house,Nuevo León\\r\\n171,120.0,apartment,Distrito Federal\\r\\n172,220.0,house,Distrito Federal\\r\\n173,304.0,house,Distrito Federal\\r\\n174,385.0,house,Puebla\\r\\n175,110.0,house,Yucatán\\r\\n176,255.0,apartment,Yucatán\\r\\n177,225.0,house,Distrito Federal\\r\\n178,218.0,house,Morelos\\r\\n179,276.0,house,Querétaro\\r\\n180,100.0,house,Yucatán\\r\\n181,137.0,house,Sinaloa\\r\\n182,201.0,house,Yucatán\\r\\n183,135.0,house,Puebla\\r\\n184,90.0,house,Estado de México\\r\\n185,164.0,house,San Luis Potosí\\r\\n186,176.0,house,Tamaulipas\\r\\n187,104.0,house,Tabasco\\r\\n188,220.0,house,Distrito Federal\\r\\n189,174.0,house,Yucatán\\r\\n190,233.0,house,Estado de México\\r\\n191,95.0,apartment,Puebla\\r\\n192,153.0,house,Estado de México\\r\\n193,189.0,house,Sinaloa\\r\\n194,90.0,apartment,Distrito Federal\\r\\n195,275.0,house,Quintana Roo\\r\\n196,170.0,house,Morelos\\r\\n197,86.0,apartment,Distrito Federal\\r\\n198,148.0,house,Nuevo León\\r\\n199,89.0,apartment,Morelos\\r\\n200,110.0,house,Veracruz de Ignacio de la Llave\\r\\n201,130.0,house,Veracruz de Ignacio de la Llave\\r\\n202,185.0,house,Yucatán\\r\\n203,154.0,apartment,Guerrero\\r\\n204,273.0,house,Querétaro\\r\\n205,187.0,house,San Luis Potosí\\r\\n206,110.0,house,Distrito Federal\\r\\n207,94.0,apartment,Distrito Federal\\r\\n208,100.0,house,Tabasco\\r\\n209,84.0,house,Querétaro\\r\\n210,162.0,house,Yucatán\\r\\n211,239.0,house,Yucatán\\r\\n212,175.0,house,Chiapas\\r\\n213,200.0,house,Veracruz de Ignacio de la Llave\\r\\n214,211.0,house,Nuevo León\\r\\n215,123.0,house,Yucatán\\r\\n216,141.0,house,Tamaulipas\\r\\n217,100.0,house,Veracruz de Ignacio de la Llave\\r\\n218,148.0,house,Jalisco\\r\\n219,165.0,house,Veracruz de Ignacio de la Llave\\r\\n220,150.0,house,Morelos\\r\\n221,70.0,apartment,Distrito Federal\\r\\n222,95.0,apartment,Quintana Roo\\r\\n223,165.0,house,Tamaulipas\\r\\n224,65.0,apartment,Distrito Federal\\r\\n225,250.0,apartment,Veracruz de Ignacio de la Llave\\r\\n226,85.0,apartment,Distrito Federal\\r\\n227,91.0,house,Veracruz de Ignacio de la Llave\\r\\n228,187.0,house,Chihuahua\\r\\n229,81.0,apartment,Distrito Federal\\r\\n230,155.0,apartment,Guerrero\\r\\n231,270.0,house,Querétaro\\r\\n232,204.0,house,Yucatán\\r\\n233,170.0,house,Guerrero\\r\\n234,180.0,house,Querétaro\\r\\n235,124.0,house,Sinaloa\\r\\n236,66.0,house,Quintana Roo\\r\\n237,276.0,house,Veracruz de Ignacio de la Llave\\r\\n238,262.0,house,Puebla\\r\\n239,79.0,house,Yucatán\\r\\n240,70.0,apartment,Distrito Federal\\r\\n241,72.0,apartment,Distrito Federal\\r\\n242,146.0,house,Veracruz de Ignacio de la Llave\\r\\n243,250.0,house,Querétaro\\r\\n244,137.0,house,Yucatán\\r\\n245,65.0,apartment,Distrito Federal\\r\\n246,142.0,house,Yucatán\\r\\n247,150.0,house,Querétaro\\r\\n248,305.0,house,Yucatán\\r\\n249,300.0,house,Distrito Federal\\r\\n250,105.0,apartment,Veracruz de Ignacio de la Llave\\r\\n251,90.0,apartment,Distrito Federal\\r\\n252,124.0,apartment,Distrito Federal\\r\\n253,210.0,apartment,Morelos\\r\\n254,181.0,house,San Luis Potosí\\r\\n255,230.0,house,Yucatán\\r\\n256,180.0,house,Jalisco\\r\\n257,121.0,house,Querétaro\\r\\n258,108.0,house,Veracruz de Ignacio de la Llave\\r\\n259,300.0,house,Estado de México\\r\\n260,70.0,apartment,Veracruz de Ignacio de la Llave\\r\\n261,154.0,house,San Luis Potosí\\r\\n262,150.0,house,Tabasco\\r\\n263,367.0,house,Morelos\\r\\n264,120.0,house,Puebla\\r\\n265,70.0,house,Estado de México\\r\\n266,250.0,house,Morelos\\r\\n267,141.0,house,Yucatán\\r\\n268,320.0,house,Morelos\\r\\n269,104.0,house,Guerrero\\r\\n270,174.0,apartment,Estado de México\\r\\n271,212.0,house,Tamaulipas\\r\\n272,210.0,house,Guanajuato\\r\\n273,240.0,house,Morelos\\r\\n274,87.0,apartment,Puebla\\r\\n275,300.0,house,Estado de México\\r\\n276,103.0,house,Colima\\r\\n277,257.0,house,Morelos\\r\\n278,240.0,house,San Luis Potosí\\r\\n279,360.0,house,Morelos\\r\\n280,189.0,house,Yucatán\\r\\n281,246.0,house,Chihuahua\\r\\n282,289.0,house,Puebla\\r\\n283,83.0,apartment,Distrito Federal\\r\\n284,127.0,apartment,Morelos\\r\\n285,95.0,house,Distrito Federal\\r\\n286,75.0,house,Baja California\\r\\n287,60.0,apartment,Distrito Federal\\r\\n288,70.0,house,Distrito Federal\\r\\n289,138.0,house,Zacatecas\\r\\n290,140.0,house,Veracruz de Ignacio de la Llave\\r\\n291,149.0,house,Jalisco\\r\\n292,84.0,house,Nayarit\\r\\n293,360.0,house,Morelos\\r\\n294,110.0,apartment,Distrito Federal\\r\\n295,380.0,house,San Luis Potosí\\r\\n296,90.0,house,Yucatán\\r\\n297,140.0,house,Veracruz de Ignacio de la Llave\\r\\n298,140.0,house,Tamaulipas\\r\\n299,154.0,house,Yucatán\\r\\n300,140.0,house,Estado de México\\r\\n301,332.0,house,Estado de México\\r\\n302,372.0,house,Estado de México\\r\\n303,200.0,house,Morelos\\r\\n304,230.0,house,Estado de México\\r\\n305,132.0,apartment,Nuevo León\\r\\n306,134.0,house,Tabasco\\r\\n307,159.0,house,Nuevo León\\r\\n308,112.0,apartment,Distrito Federal\\r\\n309,95.0,house,Sinaloa\\r\\n310,157.0,house,Aguascalientes\\r\\n311,279.0,house,Morelos\\r\\n312,75.0,house,Tamaulipas\\r\\n313,80.0,apartment,Distrito Federal\\r\\n314,222.0,house,Nuevo León\\r\\n315,216.0,house,Guanajuato\\r\\n316,100.0,apartment,Puebla\\r\\n317,160.0,house,Yucatán\\r\\n318,83.0,apartment,Distrito Federal\\r\\n319,110.0,house,Estado de México\\r\\n320,131.0,house,Nuevo León\\r\\n321,210.0,house,Nuevo León\\r\\n322,168.0,house,Yucatán\\r\\n323,260.0,house,Puebla\\r\\n324,100.0,house,Puebla\\r\\n325,212.0,house,Chiapas\\r\\n326,104.0,house,Jalisco\\r\\n327,207.0,house,Guanajuato\\r\\n328,302.0,house,Morelos\\r\\n329,92.0,house,San Luis Potosí\\r\\n330,103.0,apartment,Distrito Federal\\r\\n331,168.0,house,Chiapas\\r\\n332,97.0,house,Morelos\\r\\n333,105.0,apartment,Distrito Federal\\r\\n334,330.0,house,Puebla\\r\\n335,190.0,house,Yucatán\\r\\n336,180.0,house,Estado de México\\r\\n337,96.0,apartment,Distrito Federal\\r\\n338,300.0,house,Querétaro\\r\\n339,141.0,apartment,Guerrero\\r\\n340,92.0,apartment,Puebla\\r\\n341,215.0,house,Puebla\\r\\n342,330.0,house,Chiapas\\r\\n343,76.0,apartment,Morelos\\r\\n344,136.0,house,Morelos\\r\\n345,65.0,apartment,Distrito Federal\\r\\n346,110.0,house,San Luis Potosí\\r\\n347,70.0,house,Estado de México\\r\\n348,100.0,house,Estado de México\\r\\n349,320.0,house,Distrito Federal\\r\\n350,180.0,house,San Luis Potosí\\r\\n351,326.0,house,Estado de México\\r\\n352,250.0,house,Estado de México\\r\\n353,168.0,house,Veracruz de Ignacio de la Llave\\r\\n354,165.0,house,Querétaro\\r\\n355,325.0,house,Yucatán\\r\\n356,180.0,house,Morelos\\r\\n357,205.0,apartment,Morelos\\r\\n358,160.0,apartment,Nuevo León\\r\\n359,225.0,house,Morelos\\r\\n360,180.0,house,Puebla\\r\\n361,85.0,house,Morelos\\r\\n362,272.0,house,Morelos\\r\\n363,252.0,house,Puebla\\r\\n364,84.0,apartment,Distrito Federal\\r\\n365,120.0,apartment,Puebla\\r\\n366,162.0,apartment,Distrito Federal\\r\\n367,180.0,house,Chiapas\\r\\n368,178.0,house,Yucatán\\r\\n369,69.0,apartment,Distrito Federal\\r\\n370,300.0,house,Jalisco\\r\\n371,94.0,house,Baja California Sur\\r\\n372,110.0,house,Querétaro\\r\\n373,150.0,house,Distrito Federal\\r\\n374,136.0,house,Estado de México\\r\\n375,148.0,house,Puebla\\r\\n376,125.0,apartment,Jalisco\\r\\n377,330.0,house,Guanajuato\\r\\n378,240.0,house,Veracruz de Ignacio de la Llave\\r\\n379,88.0,apartment,Guerrero\\r\\n380,115.0,house,Nayarit\\r\\n381,73.0,apartment,Chiapas\\r\\n382,150.0,apartment,Distrito Federal\\r\\n383,160.0,house,Querétaro\\r\\n384,236.0,house,Estado de México\\r\\n385,230.0,house,Veracruz de Ignacio de la Llave\\r\\n386,72.0,house,Chiapas\\r\\n387,89.0,house,Querétaro\\r\\n388,117.0,house,Morelos\\r\\n389,100.0,apartment,San Luis Potosí\\r\\n390,150.0,apartment,Distrito Federal\\r\\n391,60.0,house,Distrito Federal\\r\\n392,382.0,house,Yucatán\\r\\n393,90.0,house,Jalisco\\r\\n394,140.0,house,Baja California\\r\\n395,252.0,house,Tamaulipas\\r\\n396,189.0,house,Veracruz de Ignacio de la Llave\\r\\n397,110.0,house,Baja California Sur\\r\\n398,200.0,house,Tamaulipas\\r\\n399,110.0,house,Puebla\\r\\n400,70.0,apartment,Distrito Federal\\r\\n401,260.0,house,Estado de México\\r\\n402,200.0,house,Sonora\\r\\n403,76.0,apartment,Distrito Federal\\r\\n404,195.0,house,Jalisco\\r\\n405,100.0,apartment,Distrito Federal\\r\\n406,212.0,apartment,Puebla\\r\\n407,110.0,house,San Luis Potosí\\r\\n408,124.0,apartment,Morelos\\r\\n409,296.0,house,Yucatán\\r\\n410,200.0,house,Yucatán\\r\\n411,80.0,house,Querétaro\\r\\n412,210.0,house,Morelos\\r\\n413,180.0,house,Quintana Roo\\r\\n414,112.0,house,Morelos\\r\\n415,60.0,house,Tabasco\\r\\n416,148.0,house,Chiapas\\r\\n417,160.0,house,Nuevo León\\r\\n418,110.0,apartment,Querétaro\\r\\n419,248.0,house,Distrito Federal\\r\\n420,72.0,apartment,Distrito Federal\\r\\n421,84.0,apartment,Jalisco\\r\\n422,72.0,apartment,Distrito Federal\\r\\n423,250.0,house,Chiapas\\r\\n424,290.0,house,Yucatán\\r\\n425,158.0,house,Yucatán\\r\\n426,320.0,house,Morelos\\r\\n427,220.0,house,Veracruz de Ignacio de la Llave\\r\\n428,200.0,house,Distrito Federal\\r\\n429,189.0,house,Baja California Sur\\r\\n430,300.0,house,Yucatán\\r\\n431,220.0,house,Yucatán\\r\\n432,81.0,house,Quintana Roo\\r\\n433,203.0,house,Veracruz de Ignacio de la Llave\\r\\n434,173.0,house,Yucatán\\r\\n435,263.0,house,Tamaulipas\\r\\n436,87.0,house,Chiapas\\r\\n437,157.0,apartment,Estado de México\\r\\n438,220.0,house,Chiapas\\r\\n439,105.0,house,Estado de México\\r\\n440,139.0,apartment,Puebla\\r\\n441,122.0,house,Jalisco\\r\\n442,120.0,house,Morelos\\r\\n443,271.0,house,Veracruz de Ignacio de la Llave\\r\\n444,308.0,house,Distrito Federal\\r\\n445,350.0,house,Querétaro\\r\\n446,181.0,house,Estado de México\\r\\n447,212.0,house,Sinaloa\\r\\n448,287.0,house,Tamaulipas\\r\\n449,250.0,house,Distrito Federal\\r\\n450,100.0,apartment,Distrito Federal\\r\\n451,298.0,house,Chiapas\\r\\n452,67.0,house,Tamaulipas\\r\\n453,180.0,house,Guanajuato\\r\\n454,80.0,apartment,Distrito Federal\\r\\n455,153.0,house,Chiapas\\r\\n456,60.0,house,Estado de México\\r\\n457,315.0,house,Querétaro\\r\\n458,180.0,house,Querétaro\\r\\n459,65.0,house,Baja California Sur\\r\\n460,140.0,house,Veracruz de Ignacio de la Llave\\r\\n461,107.0,house,Estado de México\\r\\n462,301.0,house,Sonora\\r\\n463,61.0,house,Baja California\\r\\n464,320.0,house,Hidalgo\\r\\n465,104.0,house,Veracruz de Ignacio de la Llave\\r\\n466,85.0,apartment,Distrito Federal\\r\\n467,108.0,apartment,Distrito Federal\\r\\n468,155.0,house,Nuevo León\\r\\n469,170.0,apartment,Distrito Federal\\r\\n470,295.0,house,Querétaro\\r\\n471,126.0,apartment,Distrito Federal\\r\\n472,249.0,house,Yucatán\\r\\n473,300.0,apartment,Estado de México\\r\\n474,123.0,house,Veracruz de Ignacio de la Llave\\r\\n475,162.0,house,Puebla\\r\\n476,322.0,house,Querétaro\\r\\n477,186.0,house,Morelos\\r\\n478,147.0,house,Morelos\\r\\n479,114.0,apartment,Nuevo León\\r\\n480,175.0,house,Estado de México\\r\\n481,88.0,apartment,Durango\\r\\n482,60.0,apartment,Distrito Federal\\r\\n483,160.0,apartment,Querétaro\\r\\n484,244.0,house,Veracruz de Ignacio de la Llave\\r\\n485,66.0,house,Morelos\\r\\n486,189.0,house,Quintana Roo\\r\\n487,104.0,apartment,Tabasco\\r\\n488,220.0,house,Veracruz de Ignacio de la Llave\\r\\n489,78.0,apartment,Distrito Federal\\r\\n490,130.0,apartment,Estado de México\\r\\n491,185.0,house,Yucatán\\r\\n492,200.0,house,Morelos\\r\\n493,334.0,house,Querétaro\\r\\n494,90.0,apartment,Distrito Federal\\r\\n495,257.0,house,Nuevo León\\r\\n496,196.0,house,Distrito Federal\\r\\n497,108.0,house,Chihuahua\\r\\n498,100.0,house,Distrito Federal\\r\\n499,230.0,house,Querétaro\\r\\n500,280.0,house,Yucatán\\r\\n501,100.0,house,Veracruz de Ignacio de la Llave\\r\\n502,160.0,house,Veracruz de Ignacio de la Llave\\r\\n503,163.0,house,Veracruz de Ignacio de la Llave\\r\\n504,235.0,house,Puebla\\r\\n505,134.0,house,Baja California\\r\\n506,93.0,house,Tamaulipas\\r\\n507,235.0,house,Yucatán\\r\\n508,178.0,apartment,Querétaro\\r\\n509,214.0,house,Veracruz de Ignacio de la Llave\\r\\n510,333.0,house,Morelos\\r\\n511,90.0,house,Morelos\\r\\n512,168.0,house,Veracruz de Ignacio de la Llave\\r\\n513,270.0,house,Sonora\\r\\n514,210.0,house,Quintana Roo\\r\\n515,180.0,house,Baja California Sur\\r\\n516,97.0,house,Guerrero\\r\\n517,200.0,house,Chiapas\\r\\n518,189.0,apartment,Veracruz de Ignacio de la Llave\\r\\n519,200.0,house,Chihuahua\\r\\n520,150.0,house,Jalisco\\r\\n521,200.0,apartment,Yucatán\\r\\n522,145.0,house,Morelos\\r\\n523,172.0,house,Veracruz de Ignacio de la Llave\\r\\n524,75.0,apartment,Distrito Federal\\r\\n525,150.0,house,Estado de México\\r\\n526,136.0,house,Distrito Federal\\r\\n527,250.0,house,Yucatán\\r\\n528,245.0,house,San Luis Potosí\\r\\n529,184.0,house,Morelos\\r\\n530,161.0,house,Tabasco\\r\\n531,338.0,house,Morelos\\r\\n532,116.0,house,Puebla\\r\\n533,140.0,house,Puebla\\r\\n534,78.0,house,Morelos\\r\\n535,380.0,house,Morelos\\r\\n536,213.0,house,Yucatán\\r\\n537,70.0,apartment,Distrito Federal\\r\\n538,200.0,house,Yucatán\\r\\n539,150.0,house,Veracruz de Ignacio de la Llave\\r\\n540,92.0,apartment,Nuevo León\\r\\n541,175.0,house,Estado de México\\r\\n542,200.0,house,Estado de México\\r\\n543,225.0,house,San Luis Potosí\\r\\n544,107.0,house,Nuevo León\\r\\n545,160.0,house,San Luis Potosí\\r\\n546,147.0,house,Puebla\\r\\n547,280.0,house,Guerrero\\r\\n548,69.0,apartment,Estado de México\\r\\n549,90.0,house,Estado de México\\r\\n550,150.0,house,Guerrero\\r\\n551,224.0,house,Chiapas\\r\\n552,100.0,house,Morelos\\r\\n553,143.0,apartment,Morelos\\r\\n554,80.0,apartment,Distrito Federal\\r\\n555,85.0,apartment,Sinaloa\\r\\n556,66.0,apartment,Yucatán\\r\\n557,100.0,house,Hidalgo\\r\\n558,296.0,house,Tamaulipas\\r\\n559,170.0,house,Estado de México\\r\\n560,202.0,apartment,Yucatán\\r\\n561,235.0,house,Puebla\\r\\n562,159.0,house,Chihuahua\\r\\n563,161.0,house,Distrito Federal\\r\\n564,70.0,apartment,Distrito Federal\\r\\n565,240.0,house,Chiapas\\r\\n566,205.0,house,Veracruz de Ignacio de la Llave\\r\\n567,165.0,house,Yucatán\\r\\n568,98.0,apartment,Guerrero\\r\\n569,62.0,house,Estado de México\\r\\n570,228.0,house,Puebla\\r\\n571,125.0,house,Morelos\\r\\n572,320.0,house,Yucatán\\r\\n573,127.0,apartment,Puebla\\r\\n574,365.0,house,Nuevo León\\r\\n575,180.0,house,Yucatán\\r\\n576,84.0,apartment,Quintana Roo\\r\\n577,183.0,house,Nuevo León\\r\\n578,150.0,house,Querétaro\\r\\n579,320.0,house,Morelos\\r\\n580,148.0,house,Querétaro\\r\\n581,61.0,apartment,Sinaloa\\r\\n582,62.0,apartment,Distrito Federal\\r\\n583,60.0,apartment,Distrito Federal\\r\\n584,150.0,apartment,Estado de México\\r\\n585,73.0,apartment,Chiapas\\r\\n586,80.0,apartment,Distrito Federal\\r\\n587,65.0,apartment,Distrito Federal\\r\\n588,260.0,house,Estado de México\\r\\n589,104.0,house,Querétaro\\r\\n590,125.0,house,San Luis Potosí\\r\\n591,140.0,house,San Luis Potosí\\r\\n592,200.0,house,Chiapas\\r\\n593,238.0,house,Distrito Federal\\r\\n594,163.0,house,Tamaulipas\\r\\n595,270.0,house,Distrito Federal\\r\\n596,155.0,apartment,Estado de México\\r\\n597,285.0,house,Nuevo León\\r\\n598,315.0,house,Puebla\\r\\n599,159.0,house,Tlaxcala\\r\\n600,145.0,house,Querétaro\\r\\n601,186.0,house,Yucatán\\r\\n602,170.0,house,Veracruz de Ignacio de la Llave\\r\\n603,188.0,house,San Luis Potosí\\r\\n604,120.0,house,Puebla\\r\\n605,300.0,house,Estado de México\\r\\n606,75.0,house,Estado de México\\r\\n607,190.0,house,Veracruz de Ignacio de la Llave\\r\\n608,208.0,apartment,Yucatán\\r\\n609,170.0,house,Veracruz de Ignacio de la Llave\\r\\n610,64.0,apartment,Distrito Federal\\r\\n611,360.0,house,Querétaro\\r\\n612,160.0,house,Veracruz de Ignacio de la Llave\\r\\n613,150.0,house,Veracruz de Ignacio de la Llave\\r\\n614,104.0,house,Estado de México\\r\\n615,309.0,house,Sonora\\r\\n616,178.0,apartment,Guerrero\\r\\n617,215.0,house,Yucatán\\r\\n618,138.0,house,Nuevo León\\r\\n619,117.0,apartment,Morelos\\r\\n620,198.0,house,Aguascalientes\\r\\n621,246.0,house,Querétaro\\r\\n622,83.0,apartment,Distrito Federal\\r\\n623,150.0,house,Chiapas\\r\\n624,121.0,house,Chiapas\\r\\n625,164.0,house,Nuevo León\\r\\n626,185.0,house,Aguascalientes\\r\\n627,150.0,house,Jalisco\\r\\n628,120.0,house,Nuevo León\\r\\n629,200.0,house,Morelos\\r\\n630,269.0,house,Querétaro\\r\\n631,113.0,house,Veracruz de Ignacio de la Llave\\r\\n632,234.0,house,Nuevo León\\r\\n633,192.0,house,Sinaloa\\r\\n634,184.0,house,Chiapas\\r\\n635,100.0,apartment,Distrito Federal\\r\\n636,150.0,house,San Luis Potosí\\r\\n637,286.0,house,Morelos\\r\\n638,140.0,house,Distrito Federal\\r\\n639,216.0,house,Distrito Federal\\r\\n640,240.0,house,Puebla\\r\\n641,196.0,house,Estado de México\\r\\n642,180.0,house,Morelos\\r\\n643,330.0,house,Querétaro\\r\\n644,310.0,house,Morelos\\r\\n645,192.0,house,Yucatán\\r\\n646,135.0,house,Tlaxcala\\r\\n647,250.0,house,Yucatán\\r\\n648,79.0,house,Estado de México\\r\\n649,188.0,house,Yucatán\\r\\n650,109.0,house,Puebla\\r\\n651,90.0,house,Chiapas\\r\\n652,146.0,house,Sinaloa\\r\\n653,260.0,house,Puebla\\r\\n654,230.0,apartment,Sinaloa\\r\\n655,70.0,apartment,Distrito Federal\\r\\n656,64.0,apartment,Distrito Federal\\r\\n657,135.0,house,Nuevo León\\r\\n658,112.0,house,Querétaro\\r\\n659,350.0,house,Chiapas\\r\\n660,264.0,house,Yucatán\\r\\n661,110.0,apartment,Morelos\\r\\n662,165.0,apartment,Quintana Roo\\r\\n663,100.0,house,Chiapas\\r\\n664,223.0,house,Querétaro\\r\\n665,80.0,apartment,Distrito Federal\\r\\n666,120.0,house,Estado de México\\r\\n667,83.0,apartment,Distrito Federal\\r\\n668,81.0,apartment,Distrito Federal\\r\\n669,181.0,house,Morelos\\r\\n670,350.0,house,Yucatán\\r\\n671,60.0,house,Morelos\\r\\n672,81.0,apartment,Distrito Federal\\r\\n673,380.0,house,Yucatán\\r\\n674,100.0,house,Distrito Federal\\r\\n675,85.0,apartment,Distrito Federal\\r\\n676,65.0,apartment,Morelos\\r\\n677,98.0,apartment,Distrito Federal\\r\\n678,220.0,house,Veracruz de Ignacio de la Llave\\r\\n679,305.0,house,Yucatán\\r\\n680,240.0,house,Veracruz de Ignacio de la Llave\\r\\n681,114.0,house,Baja California\\r\\n682,90.0,house,Puebla\\r\\n683,354.0,house,Querétaro\\r\\n684,155.0,house,Yucatán\\r\\n685,140.0,house,Estado de México\\r\\n686,86.0,house,Querétaro\\r\\n687,306.0,house,Morelos\\r\\n688,171.0,house,Yucatán\\r\\n689,270.0,house,Morelos\\r\\n690,182.0,house,Morelos\\r\\n691,100.0,house,Veracruz de Ignacio de la Llave\\r\\n692,70.0,apartment,Distrito Federal\\r\\n693,198.0,house,Puebla\\r\\n694,70.0,apartment,Distrito Federal\\r\\n695,310.0,house,Morelos\\r\\n696,334.0,house,Yucatán\\r\\n697,130.0,house,Yucatán\\r\\n698,155.0,apartment,Nuevo León\\r\\n699,106.0,house,Querétaro\\r\\n'"
      ]
     },
     "execution_count": 10,
     "metadata": {},
     "output_type": "execute_result"
    }
   ],
   "source": [
    "df.to_csv(index=True)"
   ]
  },
  {
   "cell_type": "code",
   "execution_count": null,
   "id": "c6b53adc",
   "metadata": {},
   "outputs": [],
   "source": []
  }
 ],
 "metadata": {
  "kernelspec": {
   "display_name": "Python 3 (ipykernel)",
   "language": "python",
   "name": "python3"
  },
  "language_info": {
   "codemirror_mode": {
    "name": "ipython",
    "version": 3
   },
   "file_extension": ".py",
   "mimetype": "text/x-python",
   "name": "python",
   "nbconvert_exporter": "python",
   "pygments_lexer": "ipython3",
   "version": "3.10.3"
  }
 },
 "nbformat": 4,
 "nbformat_minor": 5
}
