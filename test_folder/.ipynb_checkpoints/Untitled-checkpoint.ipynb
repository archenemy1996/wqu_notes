{
 "cells": [
  {
   "cell_type": "code",
   "execution_count": 1,
   "id": "0b1f279a",
   "metadata": {},
   "outputs": [
    {
     "data": {
      "text/plain": [
       "2"
      ]
     },
     "execution_count": 1,
     "metadata": {},
     "output_type": "execute_result"
    }
   ],
   "source": [
    "1+1"
   ]
  },
  {
   "cell_type": "code",
   "execution_count": 2,
   "id": "02ab9f71",
   "metadata": {},
   "outputs": [
    {
     "data": {
      "text/plain": [
       "[[115910.26, 128.0, 4.0],\n",
       " [48718.17, 210.0, 3.0],\n",
       " [28977.56, 58.0, 2.0],\n",
       " [36932.27, 79.0, 3.0],\n",
       " [83903.51, 111.0, 3.0]]"
      ]
     },
     "execution_count": 2,
     "metadata": {},
     "output_type": "execute_result"
    }
   ],
   "source": [
    "houses_nested_list = [\n",
    "    [115910.26, 128.0, 4.0],\n",
    "    [48718.17, 210.0, 3.0],\n",
    "    [28977.56, 58.0, 2.0],\n",
    "    [36932.27, 79.0, 3.0],\n",
    "    [83903.51, 111.0, 3.0],\n",
    "]\n",
    "\n",
    "houses_nested_list"
   ]
  },
  {
   "cell_type": "code",
   "execution_count": 3,
   "id": "04b1cb36",
   "metadata": {},
   "outputs": [
    {
     "name": "stdout",
     "output_type": "stream",
     "text": [
      "[[115910.26, 128.0, 4.0], [48718.17, 210.0, 3.0], [28977.56, 58.0, 2.0], [36932.27, 79.0, 3.0], [83903.51, 111.0, 3.0]]\n"
     ]
    }
   ],
   "source": [
    "print(houses_nested_list)"
   ]
  },
  {
   "cell_type": "code",
   "execution_count": 4,
   "id": "66d5c413",
   "metadata": {},
   "outputs": [
    {
     "data": {
      "text/plain": [
       "[[115910.26, 128.0, 4.0],\n",
       " [48718.17, 210.0, 3.0],\n",
       " [28977.56, 58.0, 2.0],\n",
       " [36932.27, 79.0, 3.0],\n",
       " [83903.51, 111.0, 3.0]]"
      ]
     },
     "execution_count": 4,
     "metadata": {},
     "output_type": "execute_result"
    }
   ],
   "source": [
    "houses_nested_list"
   ]
  },
  {
   "cell_type": "code",
   "execution_count": 5,
   "id": "20568a66",
   "metadata": {},
   "outputs": [
    {
     "data": {
      "text/plain": [
       "115910.26"
      ]
     },
     "execution_count": 5,
     "metadata": {},
     "output_type": "execute_result"
    }
   ],
   "source": [
    "houses_nested_list[0][0]"
   ]
  },
  {
   "cell_type": "code",
   "execution_count": 6,
   "id": "78753d4d",
   "metadata": {},
   "outputs": [
    {
     "ename": "NameError",
     "evalue": "name 'x' is not defined",
     "output_type": "error",
     "traceback": [
      "\u001b[1;31m---------------------------------------------------------------------------\u001b[0m",
      "\u001b[1;31mNameError\u001b[0m                                 Traceback (most recent call last)",
      "Input \u001b[1;32mIn [6]\u001b[0m, in \u001b[0;36m<cell line: 1>\u001b[1;34m()\u001b[0m\n\u001b[1;32m----> 1\u001b[0m houses_nested_list[\u001b[43mx\u001b[49m][\u001b[38;5;241m0\u001b[39m]\n",
      "\u001b[1;31mNameError\u001b[0m: name 'x' is not defined"
     ]
    }
   ],
   "source": [
    "houses_nested_list[x][0]"
   ]
  },
  {
   "cell_type": "code",
   "execution_count": 7,
   "id": "1834ccd1",
   "metadata": {},
   "outputs": [
    {
     "ename": "SyntaxError",
     "evalue": "invalid syntax (3328433075.py, line 1)",
     "output_type": "error",
     "traceback": [
      "\u001b[1;36m  Input \u001b[1;32mIn [7]\u001b[1;36m\u001b[0m\n\u001b[1;33m    houses_nested_list[][0]\u001b[0m\n\u001b[1;37m                       ^\u001b[0m\n\u001b[1;31mSyntaxError\u001b[0m\u001b[1;31m:\u001b[0m invalid syntax\n"
     ]
    }
   ],
   "source": [
    "for houses_nested_list in "
   ]
  },
  {
   "cell_type": "code",
   "execution_count": 8,
   "id": "7bbfbca4",
   "metadata": {},
   "outputs": [
    {
     "data": {
      "text/plain": [
       "115910.26"
      ]
     },
     "execution_count": 8,
     "metadata": {},
     "output_type": "execute_result"
    }
   ],
   "source": [
    "houses_nested_list[0][0]"
   ]
  },
  {
   "cell_type": "code",
   "execution_count": 24,
   "id": "bd4682ca",
   "metadata": {},
   "outputs": [],
   "source": [
    "houses_nested_list = [\n",
    "    [115910.26, 128.0, 4.0],\n",
    "    [48718.17, 210.0, 3.0],\n",
    "    [28977.56, 58.0, 2.0],\n",
    "    [36932.27, 79.0, 3.0],\n",
    "    [83903.51, 111.0, 3.0],\n",
    "]\n",
    "\n",
    "for x in houses_nested_list:\n",
    "    M = x[0] / x[1]\n",
    "\n"
   ]
  },
  {
   "cell_type": "code",
   "execution_count": 21,
   "id": "380a5f47",
   "metadata": {},
   "outputs": [
    {
     "ename": "TypeError",
     "evalue": "'builtin_function_or_method' object is not subscriptable",
     "output_type": "error",
     "traceback": [
      "\u001b[1;31m---------------------------------------------------------------------------\u001b[0m",
      "\u001b[1;31mTypeError\u001b[0m                                 Traceback (most recent call last)",
      "Input \u001b[1;32mIn [21]\u001b[0m, in \u001b[0;36m<cell line: 1>\u001b[1;34m()\u001b[0m\n\u001b[1;32m----> 1\u001b[0m \u001b[43mhouses_nested_list\u001b[49m\u001b[38;5;241;43m.\u001b[39;49m\u001b[43mappend\u001b[49m\u001b[43m[\u001b[49m\u001b[43m[\u001b[49m\u001b[38;5;241;43m905.54890625\u001b[39;49m\u001b[43m]\u001b[49m\u001b[43m,\u001b[49m\n\u001b[0;32m      2\u001b[0m \u001b[43m[\u001b[49m\u001b[38;5;241;43m231.9912857142857\u001b[39;49m\u001b[43m]\u001b[49m\u001b[43m,\u001b[49m\n\u001b[0;32m      3\u001b[0m \u001b[43m[\u001b[49m\u001b[38;5;241;43m499.61310344827587\u001b[39;49m\u001b[43m]\u001b[49m\u001b[43m,\u001b[49m\n\u001b[0;32m      4\u001b[0m \u001b[43m[\u001b[49m\u001b[38;5;241;43m467.4970886075949\u001b[39;49m\u001b[43m]\u001b[49m\u001b[43m,\u001b[49m\n\u001b[0;32m      5\u001b[0m \u001b[43m[\u001b[49m\u001b[38;5;241;43m755.8874774774774\u001b[39;49m\u001b[43m]\u001b[49m\u001b[43m]\u001b[49m\n",
      "\u001b[1;31mTypeError\u001b[0m: 'builtin_function_or_method' object is not subscriptable"
     ]
    }
   ],
   "source": []
  },
  {
   "cell_type": "code",
   "execution_count": 22,
   "id": "351aa531",
   "metadata": {},
   "outputs": [
    {
     "name": "stdout",
     "output_type": "stream",
     "text": [
      "115910.26\n",
      "48718.17\n",
      "28977.56\n",
      "36932.27\n",
      "83903.51\n"
     ]
    }
   ],
   "source": [
    "for x in houses_nested_list:\n",
    "    print(x[0])"
   ]
  },
  {
   "cell_type": "code",
   "execution_count": 8,
   "id": "8b4750a7",
   "metadata": {},
   "outputs": [
    {
     "ename": "TypeError",
     "evalue": "'float' object is not subscriptable",
     "output_type": "error",
     "traceback": [
      "\u001b[1;31m---------------------------------------------------------------------------\u001b[0m",
      "\u001b[1;31mTypeError\u001b[0m                                 Traceback (most recent call last)",
      "Input \u001b[1;32mIn [8]\u001b[0m, in \u001b[0;36m<cell line: 1>\u001b[1;34m()\u001b[0m\n\u001b[0;32m      1\u001b[0m \u001b[38;5;28;01mfor\u001b[39;00m x \u001b[38;5;129;01min\u001b[39;00m houses_nested_list:\n\u001b[1;32m----> 2\u001b[0m     area_m2 \u001b[38;5;241m=\u001b[39m \u001b[43mx\u001b[49m\u001b[43m[\u001b[49m\u001b[38;5;241;43m0\u001b[39;49m\u001b[43m]\u001b[49m \u001b[38;5;241m/\u001b[39m x[\u001b[38;5;241m1\u001b[39m]\n\u001b[0;32m      3\u001b[0m area_m2\n",
      "\u001b[1;31mTypeError\u001b[0m: 'float' object is not subscriptable"
     ]
    }
   ],
   "source": [
    "for x in houses_nested_list:\n",
    "    area_m2 = x[0] / x[1]\n",
    "area_m2"
   ]
  },
  {
   "cell_type": "code",
   "execution_count": 25,
   "id": "79002397",
   "metadata": {},
   "outputs": [
    {
     "data": {
      "text/plain": [
       "[[115910.26, 128.0, 4.0],\n",
       " [48718.17, 210.0, 3.0],\n",
       " [28977.56, 58.0, 2.0],\n",
       " [36932.27, 79.0, 3.0],\n",
       " [83903.51, 111.0, 3.0],\n",
       " 755.8874774774774]"
      ]
     },
     "execution_count": 25,
     "metadata": {},
     "output_type": "execute_result"
    }
   ],
   "source": [
    "houses_nested_list.append(area_m2)\n",
    "houses_nested_list\n"
   ]
  },
  {
   "cell_type": "code",
   "execution_count": 38,
   "id": "ddaf60d1",
   "metadata": {},
   "outputs": [
    {
     "name": "stdout",
     "output_type": "stream",
     "text": [
      "905.54890625\n",
      "231.9912857142857\n",
      "499.61310344827587\n",
      "467.4970886075949\n",
      "755.8874774774774\n"
     ]
    },
    {
     "data": {
      "text/plain": [
       "[[115910.26, 128.0, 4.0, 905.54890625],\n",
       " [48718.17, 210.0, 3.0, 231.9912857142857],\n",
       " [28977.56, 58.0, 2.0, 499.61310344827587],\n",
       " [36932.27, 79.0, 3.0, 467.4970886075949],\n",
       " [83903.51, 111.0, 3.0, 755.8874774774774]]"
      ]
     },
     "execution_count": 38,
     "metadata": {},
     "output_type": "execute_result"
    }
   ],
   "source": [
    "houses_nested_list = [\n",
    "    [115910.26, 128.0, 4.0],\n",
    "    [48718.17, 210.0, 3.0],\n",
    "    [28977.56, 58.0, 2.0],\n",
    "    [36932.27, 79.0, 3.0],\n",
    "    [83903.51, 111.0, 3.0],\n",
    "]\n",
    "\n",
    "for x in houses_nested_list:\n",
    "    price_m2 = x [0] / x [1]\n",
    "    print(price_m2)\n",
    "    x.append(price_m2)\n",
    "\n",
    "houses_nested_list\n"
   ]
  },
  {
   "cell_type": "code",
   "execution_count": 42,
   "id": "aae4ad84",
   "metadata": {},
   "outputs": [
    {
     "ename": "SyntaxError",
     "evalue": "':' expected after dictionary key (1450384145.py, line 2)",
     "output_type": "error",
     "traceback": [
      "\u001b[1;36m  Input \u001b[1;32mIn [42]\u001b[1;36m\u001b[0m\n\u001b[1;33m    \"price_usd\": 121,555.09,\u001b[0m\n\u001b[1;37m                          ^\u001b[0m\n\u001b[1;31mSyntaxError\u001b[0m\u001b[1;31m:\u001b[0m ':' expected after dictionary key\n"
     ]
    }
   ],
   "source": [
    "bogota = {\n",
    "\"price_usd\": 121,555.09,\n",
    "\"area_m2\": 82.0,\n",
    "\"property_type\": \"house\",\n",
    "}\n",
    "print(bogota)"
   ]
  },
  {
   "cell_type": "code",
   "execution_count": 55,
   "id": "94cd9e94",
   "metadata": {},
   "outputs": [
    {
     "name": "stdout",
     "output_type": "stream",
     "text": [
      "{'property_type': 'house', 'department': 'quindio', 'area': 235, 'price_usd': 121778}\n"
     ]
    },
    {
     "data": {
      "text/plain": [
       "{'property_type': 'house',\n",
       " 'department': 'quindio',\n",
       " 'area': 235,\n",
       " 'price_usd': 121778,\n",
       " 'price_per_m2': 518.204255319149}"
      ]
     },
     "execution_count": 55,
     "metadata": {},
     "output_type": "execute_result"
    }
   ],
   "source": [
    "colomdict = {\n",
    "    \"property_type\": \"house\",\n",
    "    \"department\": \"quindio\",\n",
    "    \"area\": 235,\n",
    "    \"price_usd\": 121778,\n",
    "}\n",
    "\n",
    "print(colomdict)\n",
    "\n",
    "colomdict[\"price_per_m2\"] = colomdict[\"price_usd\"] / colomdict[\"area\"]\n",
    "\n",
    "colomdict"
   ]
  },
  {
   "cell_type": "code",
   "execution_count": 56,
   "id": "ee0748c8",
   "metadata": {},
   "outputs": [
    {
     "data": {
      "text/plain": [
       "{'price_aprox_usd': 115910.26, 'surface_covered_in_m2': 128, 'rooms': 4}"
      ]
     },
     "execution_count": 56,
     "metadata": {},
     "output_type": "execute_result"
    }
   ],
   "source": [
    "house_0_dict = {\n",
    "    \"price_aprox_usd\": 115910.26,\n",
    "    \"surface_covered_in_m2\": 128,\n",
    "    \"rooms\": 4,\n",
    "}\n",
    "\n",
    "house_0_dict"
   ]
  },
  {
   "cell_type": "code",
   "execution_count": 57,
   "id": "1c9c5d83",
   "metadata": {},
   "outputs": [
    {
     "data": {
      "text/plain": [
       "{'price_aprox_usd': 115910.26,\n",
       " 'surface_covered_in_m2': 128,\n",
       " 'rooms': 4,\n",
       " 'price_per_m2': 905.54890625}"
      ]
     },
     "execution_count": 57,
     "metadata": {},
     "output_type": "execute_result"
    }
   ],
   "source": [
    "house_0_dict[\"price_per_m2\"] = house_0_dict[\"price_aprox_usd\"] / house_0_dict[\"surface_covered_in_m2\"]\n",
    "house_0_dict"
   ]
  },
  {
   "cell_type": "code",
   "execution_count": 97,
   "id": "9280a4ea",
   "metadata": {},
   "outputs": [
    {
     "data": {
      "text/plain": [
       "[{'price_aprox_usd': 115910.26,\n",
       "  'surface_covered_in_m2': 128,\n",
       "  'rooms': 4,\n",
       "  'price_per_m2': 905.54890625},\n",
       " {'price_aprox_usd': 48718.17,\n",
       "  'surface_covered_in_m2': 210,\n",
       "  'rooms': 3,\n",
       "  'price_per_m2': 231.9912857142857},\n",
       " {'price_aprox_usd': 28977.56,\n",
       "  'surface_covered_in_m2': 58,\n",
       "  'rooms': 2,\n",
       "  'price_per_m2': 499.61310344827587},\n",
       " {'price_aprox_usd': 36932.27,\n",
       "  'surface_covered_in_m2': 79,\n",
       "  'rooms': 3,\n",
       "  'price_per_m2': 467.4970886075949},\n",
       " {'price_aprox_usd': 83903.51,\n",
       "  'surface_covered_in_m2': 111,\n",
       "  'rooms': 3,\n",
       "  'price_per_m2': 755.8874774774774}]"
      ]
     },
     "execution_count": 97,
     "metadata": {},
     "output_type": "execute_result"
    }
   ],
   "source": [
    "houses_rowwise = [\n",
    "    {\n",
    "        \"price_aprox_usd\": 115910.26,\n",
    "        \"surface_covered_in_m2\": 128,\n",
    "        \"rooms\": 4,\n",
    "    },\n",
    "    {\n",
    "        \"price_aprox_usd\": 48718.17,\n",
    "        \"surface_covered_in_m2\": 210,\n",
    "        \"rooms\": 3,\n",
    "    },\n",
    "    {\n",
    "        \"price_aprox_usd\": 28977.56,\n",
    "        \"surface_covered_in_m2\": 58,\n",
    "        \"rooms\": 2,\n",
    "    },\n",
    "    {\n",
    "        \"price_aprox_usd\": 36932.27,\n",
    "        \"surface_covered_in_m2\": 79,\n",
    "        \"rooms\": 3,\n",
    "    },\n",
    "    {\n",
    "        \"price_aprox_usd\": 83903.51,\n",
    "        \"surface_covered_in_m2\": 111,\n",
    "        \"rooms\": 3,\n",
    "    },\n",
    "]\n",
    "\n",
    "for x in houses_rowwise:\n",
    "    x[\"price_per_m2\"] = x[\"price_aprox_usd\"] / x[\"surface_covered_in_m2\"]\n",
    "houses_rowwise    \n"
   ]
  },
  {
   "cell_type": "code",
   "execution_count": 72,
   "id": "3b335522",
   "metadata": {},
   "outputs": [
    {
     "data": {
      "text/plain": [
       "{'price_aprox_usd': 115910.26,\n",
       " 'surface_covered_in_m2': 128,\n",
       " 'rooms': 4,\n",
       " 'price_per_m2': 905.54890625}"
      ]
     },
     "execution_count": 72,
     "metadata": {},
     "output_type": "execute_result"
    }
   ],
   "source": [
    "houses_rowwise = {\n",
    "        \"price_aprox_usd\": 115910.26,\n",
    "        \"surface_covered_in_m2\": 128,\n",
    "        \"rooms\": 4,\n",
    "    }\n",
    "\n",
    "houses_rowwise[\"price_per_m2\"] = houses_rowwise[\"price_aprox_usd\"] / houses_rowwise[\"surface_covered_in_m2\"]\n",
    "houses_rowwise"
   ]
  },
  {
   "cell_type": "code",
   "execution_count": 1,
   "id": "3e676c9c",
   "metadata": {},
   "outputs": [
    {
     "data": {
      "text/plain": [
       "[{'price_aprox_usd': 115910.26, 'surface_covered_in_m2': 128, 'rooms': 4},\n",
       " {'price_aprox_usd': 48718.17, 'surface_covered_in_m2': 210, 'rooms': 3},\n",
       " {'price_aprox_usd': 28977.56, 'surface_covered_in_m2': 58, 'rooms': 2},\n",
       " {'price_aprox_usd': 36932.27, 'surface_covered_in_m2': 79, 'rooms': 3},\n",
       " {'price_aprox_usd': 83903.51, 'surface_covered_in_m2': 111, 'rooms': 3}]"
      ]
     },
     "execution_count": 1,
     "metadata": {},
     "output_type": "execute_result"
    }
   ],
   "source": [
    "houses_rowwise = [\n",
    "    {\n",
    "        \"price_aprox_usd\": 115910.26,\n",
    "        \"surface_covered_in_m2\": 128,\n",
    "        \"rooms\": 4,\n",
    "    },\n",
    "    {\n",
    "        \"price_aprox_usd\": 48718.17,\n",
    "        \"surface_covered_in_m2\": 210,\n",
    "        \"rooms\": 3,\n",
    "    },\n",
    "    {\n",
    "        \"price_aprox_usd\": 28977.56,\n",
    "        \"surface_covered_in_m2\": 58,\n",
    "        \"rooms\": 2,\n",
    "    },\n",
    "    {\n",
    "        \"price_aprox_usd\": 36932.27,\n",
    "        \"surface_covered_in_m2\": 79,\n",
    "        \"rooms\": 3,\n",
    "    },\n",
    "    {\n",
    "        \"price_aprox_usd\": 83903.51,\n",
    "        \"surface_covered_in_m2\": 111,\n",
    "        \"rooms\": 3,\n",
    "    },\n",
    "]\n",
    "\n",
    "houses_rowwise"
   ]
  },
  {
   "cell_type": "code",
   "execution_count": 2,
   "id": "e30ed3f7",
   "metadata": {},
   "outputs": [
    {
     "data": {
      "text/plain": [
       "[{'price_aprox_usd': 115910.26, 'surface_covered_in_m2': 128, 'rooms': 4},\n",
       " {'price_aprox_usd': 48718.17, 'surface_covered_in_m2': 210, 'rooms': 3},\n",
       " {'price_aprox_usd': 28977.56, 'surface_covered_in_m2': 58, 'rooms': 2},\n",
       " {'price_aprox_usd': 36932.27, 'surface_covered_in_m2': 79, 'rooms': 3},\n",
       " {'price_aprox_usd': 83903.51, 'surface_covered_in_m2': 111, 'rooms': 3}]"
      ]
     },
     "execution_count": 2,
     "metadata": {},
     "output_type": "execute_result"
    }
   ],
   "source": [
    "houses_rowwise"
   ]
  },
  {
   "cell_type": "code",
   "execution_count": 3,
   "id": "991a87fb",
   "metadata": {},
   "outputs": [],
   "source": [
    "for x in houses_rowwise:\n",
    "    x[\"price_per_m2\"] = x[\"price_aprox_usd\"] / x[\"surface_covered_in_m2\"]\n"
   ]
  },
  {
   "cell_type": "code",
   "execution_count": 4,
   "id": "949753a4",
   "metadata": {},
   "outputs": [
    {
     "data": {
      "text/plain": [
       "[{'price_aprox_usd': 115910.26,\n",
       "  'surface_covered_in_m2': 128,\n",
       "  'rooms': 4,\n",
       "  'price_per_m2': 905.54890625},\n",
       " {'price_aprox_usd': 48718.17,\n",
       "  'surface_covered_in_m2': 210,\n",
       "  'rooms': 3,\n",
       "  'price_per_m2': 231.9912857142857},\n",
       " {'price_aprox_usd': 28977.56,\n",
       "  'surface_covered_in_m2': 58,\n",
       "  'rooms': 2,\n",
       "  'price_per_m2': 499.61310344827587},\n",
       " {'price_aprox_usd': 36932.27,\n",
       "  'surface_covered_in_m2': 79,\n",
       "  'rooms': 3,\n",
       "  'price_per_m2': 467.4970886075949},\n",
       " {'price_aprox_usd': 83903.51,\n",
       "  'surface_covered_in_m2': 111,\n",
       "  'rooms': 3,\n",
       "  'price_per_m2': 755.8874774774774}]"
      ]
     },
     "execution_count": 4,
     "metadata": {},
     "output_type": "execute_result"
    }
   ],
   "source": [
    "houses_rowwise"
   ]
  },
  {
   "cell_type": "code",
   "execution_count": 5,
   "id": "9d880dca",
   "metadata": {},
   "outputs": [
    {
     "data": {
      "text/plain": [
       "[{'price_aprox_usd': 115910.26, 'surface_covered_in_m2': 128, 'rooms': 4},\n",
       " {'price_aprox_usd': 48718.17, 'surface_covered_in_m2': 210, 'rooms': 3},\n",
       " {'price_aprox_usd': 28977.56, 'surface_covered_in_m2': 58, 'rooms': 2},\n",
       " {'price_aprox_usd': 36932.27, 'surface_covered_in_m2': 79, 'rooms': 3},\n",
       " {'price_aprox_usd': 83903.51, 'surface_covered_in_m2': 111, 'rooms': 3}]"
      ]
     },
     "execution_count": 5,
     "metadata": {},
     "output_type": "execute_result"
    }
   ],
   "source": [
    "houses_rowwise = [\n",
    "    {\n",
    "        \"price_aprox_usd\": 115910.26,\n",
    "        \"surface_covered_in_m2\": 128,\n",
    "        \"rooms\": 4,\n",
    "    },\n",
    "    {\n",
    "        \"price_aprox_usd\": 48718.17,\n",
    "        \"surface_covered_in_m2\": 210,\n",
    "        \"rooms\": 3,\n",
    "    },\n",
    "    {\n",
    "        \"price_aprox_usd\": 28977.56,\n",
    "        \"surface_covered_in_m2\": 58,\n",
    "        \"rooms\": 2,\n",
    "    },\n",
    "    {\n",
    "        \"price_aprox_usd\": 36932.27,\n",
    "        \"surface_covered_in_m2\": 79,\n",
    "        \"rooms\": 3,\n",
    "    },\n",
    "    {\n",
    "        \"price_aprox_usd\": 83903.51,\n",
    "        \"surface_covered_in_m2\": 111,\n",
    "        \"rooms\": 3,\n",
    "    },\n",
    "]\n",
    "\n",
    "houses_rowwise"
   ]
  },
  {
   "cell_type": "code",
   "execution_count": 26,
   "id": "d882ecf1",
   "metadata": {},
   "outputs": [
    {
     "name": "stdout",
     "output_type": "stream",
     "text": [
      "115910.26\n",
      "48718.17\n",
      "28977.56\n",
      "36932.27\n",
      "83903.51\n",
      "[115910.26, 48718.17, 28977.56, 36932.27, 83903.51]\n",
      "314441.76999999996\n",
      "5\n"
     ]
    },
    {
     "data": {
      "text/plain": [
       "62888.35399999999"
      ]
     },
     "execution_count": 26,
     "metadata": {},
     "output_type": "execute_result"
    }
   ],
   "source": [
    "house_prices = []\n",
    "\n",
    "for x in houses_rowwise:\n",
    "    print(x[\"price_aprox_usd\"])\n",
    "    \n",
    "    house_prices.append(x[\"price_aprox_usd\"])\n",
    "    \n",
    "print(house_prices)\n",
    "\n",
    "print(sum(house_prices))\n",
    "\n",
    "print(len(house_prices))\n",
    "\n",
    "mean_house_price = sum(house_prices) / len(house_prices)\n",
    "\n",
    "mean_house_price"
   ]
  },
  {
   "cell_type": "code",
   "execution_count": 20,
   "id": "c866a404",
   "metadata": {},
   "outputs": [
    {
     "name": "stdout",
     "output_type": "stream",
     "text": [
      "115910.26\n",
      "48718.17\n",
      "28977.56\n",
      "36932.27\n",
      "83903.51\n"
     ]
    }
   ],
   "source": [
    "for x in houses_rowwise:\n",
    "    print(x[\"price_aprox_usd\"])\n",
    "    "
   ]
  },
  {
   "cell_type": "code",
   "execution_count": 27,
   "id": "fa2bc73c",
   "metadata": {},
   "outputs": [
    {
     "data": {
      "text/plain": [
       "{'price_aprox_usd': [115910.26, 48718.17, 28977.56, 36932.27, 83903.51],\n",
       " 'surface_covered_in_m2': [128.0, 210.0, 58.0, 79.0, 111.0],\n",
       " 'rooms': [4.0, 3.0, 2.0, 3.0, 3.0]}"
      ]
     },
     "execution_count": 27,
     "metadata": {},
     "output_type": "execute_result"
    }
   ],
   "source": [
    "houses_columnwise = {\n",
    "    \"price_aprox_usd\": [115910.26, 48718.17, 28977.56, 36932.27, 83903.51],\n",
    "    \"surface_covered_in_m2\": [128.0, 210.0, 58.0, 79.0, 111.0],\n",
    "    \"rooms\": [4.0, 3.0, 2.0, 3.0, 3.0],\n",
    "}\n",
    "\n",
    "houses_columnwise"
   ]
  },
  {
   "cell_type": "code",
   "execution_count": 31,
   "id": "87f59279",
   "metadata": {},
   "outputs": [
    {
     "data": {
      "text/plain": [
       "62888.35399999999"
      ]
     },
     "execution_count": 31,
     "metadata": {},
     "output_type": "execute_result"
    }
   ],
   "source": [
    "mean_house_price = sum(houses_columnwise[\"price_aprox_usd\"]) / len(houses_columnwise[\"price_aprox_usd\"])\n",
    "mean_house_price"
   ]
  },
  {
   "cell_type": "code",
   "execution_count": 51,
   "id": "fba56b59",
   "metadata": {},
   "outputs": [
    {
     "data": {
      "text/plain": [
       "{'price_aprox_usd': [115910.26, 48718.17, 28977.56, 36932.27, 83903.51],\n",
       " 'surface_covered_in_m2': [128.0, 210.0, 58.0, 79.0, 111.0],\n",
       " 'rooms': [4.0, 3.0, 2.0, 3.0, 3.0]}"
      ]
     },
     "execution_count": 51,
     "metadata": {},
     "output_type": "execute_result"
    }
   ],
   "source": [
    "houses_columnwise = {\n",
    "    \"price_aprox_usd\": [115910.26, 48718.17, 28977.56, 36932.27, 83903.51],\n",
    "    \"surface_covered_in_m2\": [128.0, 210.0, 58.0, 79.0, 111.0],\n",
    "    \"rooms\": [4.0, 3.0, 2.0, 3.0, 3.0],\n",
    "}\n",
    "\n",
    "houses_columnwise"
   ]
  },
  {
   "cell_type": "code",
   "execution_count": 52,
   "id": "5e5e8f46",
   "metadata": {},
   "outputs": [
    {
     "data": {
      "text/plain": [
       "{'price_aprox_usd': [115910.26, 48718.17, 28977.56, 36932.27, 83903.51],\n",
       " 'surface_covered_in_m2': [128.0, 210.0, 58.0, 79.0, 111.0],\n",
       " 'rooms': [4.0, 3.0, 2.0, 3.0, 3.0],\n",
       " 'price_per_m2': [905.54890625,\n",
       "  231.9912857142857,\n",
       "  499.61310344827587,\n",
       "  467.4970886075949,\n",
       "  755.8874774774774]}"
      ]
     },
     "execution_count": 52,
     "metadata": {},
     "output_type": "execute_result"
    }
   ],
   "source": [
    "\n",
    "price = houses_columnwise[\"price_aprox_usd\"]\n",
    "area = houses_columnwise[\"surface_covered_in_m2\"]\n",
    "\n",
    "price_per_m2 = []\n",
    "\n",
    "list(zip(price,area))\n",
    "\n",
    "for p,a in zip(price,area):\n",
    "    price_m2 = p / a\n",
    "    price_per_m2.append(price_m2)\n",
    "    \n",
    "houses_columnwise[\"price_per_m2\"] = price_per_m2\n",
    "\n",
    "houses_columnwise\n"
   ]
  },
  {
   "cell_type": "code",
   "execution_count": 53,
   "id": "8ce5e9f7",
   "metadata": {},
   "outputs": [
    {
     "data": {
      "text/html": [
       "<div>\n",
       "<style scoped>\n",
       "    .dataframe tbody tr th:only-of-type {\n",
       "        vertical-align: middle;\n",
       "    }\n",
       "\n",
       "    .dataframe tbody tr th {\n",
       "        vertical-align: top;\n",
       "    }\n",
       "\n",
       "    .dataframe thead th {\n",
       "        text-align: right;\n",
       "    }\n",
       "</style>\n",
       "<table border=\"1\" class=\"dataframe\">\n",
       "  <thead>\n",
       "    <tr style=\"text-align: right;\">\n",
       "      <th></th>\n",
       "      <th>price_aprox_usd</th>\n",
       "      <th>surface_covered_in_m2</th>\n",
       "      <th>rooms</th>\n",
       "    </tr>\n",
       "  </thead>\n",
       "  <tbody>\n",
       "    <tr>\n",
       "      <th>0</th>\n",
       "      <td>115910.26</td>\n",
       "      <td>128.0</td>\n",
       "      <td>4.0</td>\n",
       "    </tr>\n",
       "    <tr>\n",
       "      <th>1</th>\n",
       "      <td>48718.17</td>\n",
       "      <td>210.0</td>\n",
       "      <td>3.0</td>\n",
       "    </tr>\n",
       "    <tr>\n",
       "      <th>2</th>\n",
       "      <td>28977.56</td>\n",
       "      <td>58.0</td>\n",
       "      <td>2.0</td>\n",
       "    </tr>\n",
       "    <tr>\n",
       "      <th>3</th>\n",
       "      <td>36932.27</td>\n",
       "      <td>79.0</td>\n",
       "      <td>3.0</td>\n",
       "    </tr>\n",
       "    <tr>\n",
       "      <th>4</th>\n",
       "      <td>83903.51</td>\n",
       "      <td>111.0</td>\n",
       "      <td>3.0</td>\n",
       "    </tr>\n",
       "  </tbody>\n",
       "</table>\n",
       "</div>"
      ],
      "text/plain": [
       "   price_aprox_usd  surface_covered_in_m2  rooms\n",
       "0        115910.26                  128.0    4.0\n",
       "1         48718.17                  210.0    3.0\n",
       "2         28977.56                   58.0    2.0\n",
       "3         36932.27                   79.0    3.0\n",
       "4         83903.51                  111.0    3.0"
      ]
     },
     "execution_count": 53,
     "metadata": {},
     "output_type": "execute_result"
    }
   ],
   "source": [
    "import pandas as pd\n",
    "\n",
    "data = {\n",
    "    \"price_aprox_usd\": [115910.26, 48718.17, 28977.56, 36932.27, 83903.51],\n",
    "    \"surface_covered_in_m2\": [128.0, 210.0, 58.0, 79.0, 111.0],\n",
    "    \"rooms\": [4.0, 3.0, 2.0, 3.0, 3.0],\n",
    "}\n",
    "\n",
    "df_houses = pd.DataFrame(data)\n",
    "\n",
    "df_houses"
   ]
  },
  {
   "cell_type": "code",
   "execution_count": null,
   "id": "29d7aa85",
   "metadata": {},
   "outputs": [],
   "source": []
  }
 ],
 "metadata": {
  "kernelspec": {
   "display_name": "Python 3 (ipykernel)",
   "language": "python",
   "name": "python3"
  },
  "language_info": {
   "codemirror_mode": {
    "name": "ipython",
    "version": 3
   },
   "file_extension": ".py",
   "mimetype": "text/x-python",
   "name": "python",
   "nbconvert_exporter": "python",
   "pygments_lexer": "ipython3",
   "version": "3.10.3"
  }
 },
 "nbformat": 4,
 "nbformat_minor": 5
}
