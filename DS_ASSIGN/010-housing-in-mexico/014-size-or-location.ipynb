{
 "cells": [
  {
   "cell_type": "markdown",
   "id": "38e9c818",
   "metadata": {},
   "source": [
    "<font size=\"+3\"><strong>Location or Size: What Influences House Prices in Mexico?</strong></font>"
   ]
  },
  {
   "cell_type": "code",
   "execution_count": null,
   "id": "4e5ef7ed",
   "metadata": {},
   "outputs": [],
   "source": [
    "import matplotlib.pyplot as plt\n",
    "import pandas as pd"
   ]
  },
  {
   "cell_type": "markdown",
   "id": "9970ad03",
   "metadata": {},
   "source": [
    "You've wrangled the data, you've gained an understanding of its basic characteristics in your EDA, and now it's time to ask some research questions. "
   ]
  },
  {
   "cell_type": "markdown",
   "id": "5912d2b6",
   "metadata": {},
   "source": [
    "# Import Data"
   ]
  },
  {
   "cell_type": "markdown",
   "id": "75333e5f",
   "metadata": {},
   "source": [
    "**Task 1.4.1:** Read the CSV file that you created in the last notebook (`\"../small-data/mexico-real-estate-clean.csv\"`) into a DataFrame named `df`. Be sure to check that all your columns are the correct data type before you go to the next task.\n",
    "\n",
    "- **What's a DataFrame?**\n",
    "- **What's a CSV file?**\n",
    "- **Read a CSV file into a DataFrame using pandas.**"
   ]
  },
  {
   "cell_type": "code",
   "execution_count": null,
   "id": "c7a5fbc5",
   "metadata": {},
   "outputs": [],
   "source": [
    "df = pd.read_csv(\"data/mexico-real-estate-clean.csv\")"
   ]
  },
  {
   "cell_type": "code",
   "execution_count": null,
   "id": "922585a3",
   "metadata": {},
   "outputs": [],
   "source": [
    "df.info()"
   ]
  },
  {
   "cell_type": "markdown",
   "id": "385c7253",
   "metadata": {},
   "source": [
    "# Research Question 1"
   ]
  },
  {
   "cell_type": "markdown",
   "id": "b71ac5bf",
   "metadata": {},
   "source": [
    "**Which state has the most expensive real estate market?**"
   ]
  },
  {
   "cell_type": "markdown",
   "id": "79e7ea54",
   "metadata": {},
   "source": [
    "Do housing prices vary by state? If so, which are the most expensive states for purchasing a home? During our exploratory data analysis, we used descriptive statistics like mean and median to get an idea of the \"typical\" house price in Mexico. Now, we need to break that calculation down by state and visualize the results. \n",
    "\n",
    "We know in which state each house is located thanks to the `\"state\"` column. The next step is to divide our dataset into groups (one per state) and calculate the mean house price for each group. "
   ]
  },
  {
   "cell_type": "markdown",
   "id": "042a4c36",
   "metadata": {},
   "source": [
    "**Task 1.4.2:** Use the [`groupby`](https://pandas.pydata.org/pandas-docs/stable/reference/api/pandas.DataFrame.groupby.html) method to create a Series named `mean_price_by_state`, where the index contains each state in the dataset and the values correspond to the mean house price for that state. Make sure your Series is sorted from highest to lowest mean price. \n",
    "\n",
    "- **What's a Series?**\n",
    "- **Aggregate data using the `groupby` method in pandas.**"
   ]
  },
  {
   "cell_type": "code",
   "execution_count": null,
   "id": "137845b9",
   "metadata": {},
   "outputs": [],
   "source": [
    "mean_price_by_state = df.groupby(\"state\")[\"price_usd\"].mean().sort_values(ascending=False)\n",
    "mean_price_by_state"
   ]
  },
  {
   "cell_type": "markdown",
   "id": "0e988fae",
   "metadata": {},
   "source": [
    "**Task 1.4.3:** Use `mean_price_by_state` to create a bar chart of your results. Make sure the states are sorted from the highest to lowest mean, that you label the x-axis as `\"State\"` and the y-axis as `\"Mean Price [USD]\"`, and give the chart the title `\"Mean House Price by State\"`.\n",
    "\n",
    "- **Create a bar chart using pandas.**"
   ]
  },
  {
   "cell_type": "code",
   "execution_count": null,
   "id": "c1112703",
   "metadata": {},
   "outputs": [],
   "source": [
    "mean_price_by_state.plot(\n",
    "    kind=\"bar\", \n",
    "    xlabel=\"State\",\n",
    "    ylabel=\"Price [USD]\",\n",
    "    title=\"Mean House Price by State\",\n",
    "\n",
    ");"
   ]
  },
  {
   "cell_type": "markdown",
   "id": "5cc75c03",
   "metadata": {},
   "source": [
    "It seems odd that Querétaro would be the most expensive real estate market in Mexico when, [according to recent GDP numbers](https://en.wikipedia.org/wiki/List_of_Mexican_states_by_GDP), it's not in the top 10 state economies. With all the variations in house sizes across states, a better metric to look at would be price per m<sup>2</sup>. In order to do that, we need to create a new column."
   ]
  },
  {
   "cell_type": "markdown",
   "id": "3adcedf1",
   "metadata": {},
   "source": [
    "**Task 1.4.4:** Create a new column in `df` called `\"price_per_m2\"`. This should be the price for each house divided by it's size. \n",
    "\n",
    "- **Create new columns derived from existing columns in a DataFrame using pandas.**"
   ]
  },
  {
   "cell_type": "code",
   "execution_count": null,
   "id": "8fd2ca2d",
   "metadata": {},
   "outputs": [],
   "source": [
    "df[\"price_per_m2\"] = df[\"price_usd\"] / df[\"area_m2\"]\n",
    "df.head()"
   ]
  },
  {
   "cell_type": "markdown",
   "id": "813cba40",
   "metadata": {},
   "source": [
    "Let's redo our bar chart from above, but this time with the mean of `\"price_per_m2\"` for each state."
   ]
  },
  {
   "cell_type": "markdown",
   "id": "ea26ba6f",
   "metadata": {},
   "source": [
    "**Task 1.4.5:** First, use the [`groupby`](https://pandas.pydata.org/pandas-docs/stable/reference/api/pandas.DataFrame.groupby.html) method to create a Series where the index contains each state in the dataset and the values correspond to the mean house price per m<sup>2</sup> for that state. Then use the Series to create a bar chart of your results. Make sure the states are sorted from the highest to lowest mean, that you label the x-axis as `\"State\"` and the y-axis as `\"Mean Price per M^2[USD]\"`, and give the chart the title `\"Mean House Price per M^2 by State\"`. \n",
    "\n",
    "- **What's a Series?**\n",
    "- **Aggregate data using the `groupby` method in pandas.**\n",
    "- **Create a bar chart using pandas.** "
   ]
  },
  {
   "cell_type": "code",
   "execution_count": null,
   "id": "72da59bb",
   "metadata": {},
   "outputs": [],
   "source": [
    "(\n",
    "  df\n",
    " .groupby(\"state\")\n",
    " [\"price_per_m2\"].mean()\n",
    " .sort_values(ascending=False)\n",
    "    .plot(\n",
    "   kind=\"bar\", \n",
    "    xlabel=\"State\",\n",
    "    ylabel=\"Mean Price Per M^2 [USD]\",\n",
    "    title=\"Mean House Price Per M^2 by State\",\n",
    "\n",
    ")\n",
    "\n",
    ");"
   ]
  },
  {
   "cell_type": "markdown",
   "id": "a032204b",
   "metadata": {},
   "source": [
    "Now we see that the capital Mexico City (Distrito Federal) is by far the most expensive market. Additionally, many of the top 10 states by GDP are also in the top 10 most expensive real estate markets. So it looks like this bar chart is a more accurate reflection of state real estate markets."
   ]
  },
  {
   "cell_type": "code",
   "execution_count": null,
   "id": "90d00424",
   "metadata": {},
   "outputs": [],
   "source": []
  },
  {
   "cell_type": "code",
   "execution_count": null,
   "id": "41b1f4e9",
   "metadata": {},
   "outputs": [],
   "source": []
  },
  {
   "cell_type": "code",
   "execution_count": null,
   "id": "799d0b4f",
   "metadata": {},
   "outputs": [],
   "source": []
  },
  {
   "cell_type": "code",
   "execution_count": null,
   "id": "8df22cb5",
   "metadata": {},
   "outputs": [],
   "source": []
  },
  {
   "cell_type": "code",
   "execution_count": null,
   "id": "da257b1e",
   "metadata": {},
   "outputs": [],
   "source": []
  },
  {
   "cell_type": "code",
   "execution_count": null,
   "id": "1fa05f81",
   "metadata": {},
   "outputs": [],
   "source": []
  },
  {
   "cell_type": "code",
   "execution_count": null,
   "id": "11b5d5b7",
   "metadata": {},
   "outputs": [],
   "source": []
  },
  {
   "cell_type": "code",
   "execution_count": null,
   "id": "ff2c1e48",
   "metadata": {},
   "outputs": [],
   "source": []
  },
  {
   "cell_type": "code",
   "execution_count": null,
   "id": "7d687fc4",
   "metadata": {},
   "outputs": [],
   "source": []
  },
  {
   "cell_type": "code",
   "execution_count": null,
   "id": "21cab744",
   "metadata": {},
   "outputs": [],
   "source": []
  },
  {
   "cell_type": "code",
   "execution_count": null,
   "id": "2f63a536",
   "metadata": {},
   "outputs": [],
   "source": []
  }
 ],
 "metadata": {
  "kernelspec": {
   "display_name": "Python 3 (ipykernel)",
   "language": "python",
   "name": "python3"
  },
  "language_info": {
   "codemirror_mode": {
    "name": "ipython",
    "version": 3
   },
   "file_extension": ".py",
   "mimetype": "text/x-python",
   "name": "python",
   "nbconvert_exporter": "python",
   "pygments_lexer": "ipython3",
   "version": "3.10.3"
  }
 },
 "nbformat": 4,
 "nbformat_minor": 5
}
