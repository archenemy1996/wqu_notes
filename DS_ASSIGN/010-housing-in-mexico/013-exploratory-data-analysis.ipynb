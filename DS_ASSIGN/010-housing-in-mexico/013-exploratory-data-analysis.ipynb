{
 "cells": [
  {
   "cell_type": "markdown",
   "id": "4a7e503f",
   "metadata": {},
   "source": [
    "<font size=\"+3\"><strong>Exploratory Data Analysis </strong></font>"
   ]
  },
  {
   "cell_type": "code",
   "execution_count": null,
   "id": "13aba854",
   "metadata": {},
   "outputs": [],
   "source": [
    "import matplotlib.pyplot as plt # visualization\n",
    "import pandas as pd\n",
    "import plotly.express as px # visualization"
   ]
  },
  {
   "cell_type": "markdown",
   "id": "10aa6d5f",
   "metadata": {},
   "source": [
    "After importing, the next step in many data science projects is exploratory data analysis (EDA), where you get a feel for your data by summarizing its main characteristics using descriptive statistics and data visualization. A good way to plan your EDA is by looking each column and asking yourself questions what it says about your dataset.\n"
   ]
  },
  {
   "cell_type": "markdown",
   "id": "de3af17a",
   "metadata": {},
   "source": [
    "**Task 1.3.1:** Read the CSV file that you created in the last notebook (`\"../small-data/mexico-real-estate-clean.csv\"`) into a DataFrame named `df`. Be sure to check that all your columns are the correct data type before you go to the next task.\n",
    "\n",
    "- **What's a DataFrame?**\n",
    "- **What's a CSV file?**\n",
    "- **Read a CSV file into a DataFrame using pandas.**"
   ]
  },
  {
   "cell_type": "code",
   "execution_count": null,
   "id": "88fc724f",
   "metadata": {},
   "outputs": [],
   "source": [
    "df = pd.read_csv(\"data/mexico-real-estate-clean.csv\")"
   ]
  },
  {
   "cell_type": "code",
   "execution_count": null,
   "id": "3d80dc28",
   "metadata": {},
   "outputs": [],
   "source": [
    "df.info()"
   ]
  },
  {
   "cell_type": "markdown",
   "id": "8c92c836",
   "metadata": {},
   "source": [
    "While there are only two `dtypes` in our DataFrame (`object` and `float64`), there are three categories of  data: location, categorical, and numeric. Each of these require a different kind of exploration in our analysis. \n"
   ]
  },
  {
   "cell_type": "markdown",
   "id": "83ffa27a",
   "metadata": {},
   "source": [
    "# Location Data: `\"lat\"` and `\"lon\"`"
   ]
  },
  {
   "cell_type": "markdown",
   "id": "62e8dc58",
   "metadata": {},
   "source": [
    "They say that the most important thing in real estate is location, and we can see where where in Mexico our houses are located by using the `\"lat\"` and `\"lon\"` columns. Since latitude and longitude are based on a coordinate system, a good way to visualize them is to create a scatter plot on top of a map. A great tool for this is the [`scatter_mapbox`](https://plotly.github.io/plotly.py-docs/generated/plotly.express.scatter_mapbox.html) from the plotly library."
   ]
  },
  {
   "cell_type": "markdown",
   "id": "888efd33",
   "metadata": {},
   "source": [
    "**Task 1.3.2:** Add `\"lat\"` and `\"lon\"` to the code below, and run the code. You'll see a map that's centered on Mexico City, and you can use the \"Zoom Out\" button in the upper-right corner of the map so that you can see the whole country. \n",
    "\n",
    "- **What's location data?**\n",
    "- **What's a scatter plot?**"
   ]
  },
  {
   "cell_type": "code",
   "execution_count": null,
   "id": "7dacac0a",
   "metadata": {},
   "outputs": [],
   "source": [
    "fig = px.scatter_mapbox(\n",
    "    df,  # Our DataFrame\n",
    "    lat=\"lat\",\n",
    "    lon=\"lon\",\n",
    "    center={\"lat\": 19.43, \"lon\": -99.13},  # Map will be centered on Mexico City\n",
    "    width=600,  # Width of map\n",
    "    height=600,  # Height of map\n",
    "    hover_data=[\"price_usd\"],  # Display price when hovering mouse over house\n",
    ")\n",
    "\n",
    "fig.update_layout(mapbox_style=\"open-street-map\")\n",
    "\n",
    "fig.show()"
   ]
  },
  {
   "cell_type": "markdown",
   "id": "bcf5cd3f",
   "metadata": {},
   "source": [
    "Looking at this map, are the houses in our dataset distributed evenly throughout the country, or are there states or regions that are more prevalent? Can you guess where Mexico's biggest cities are based on this distribution?"
   ]
  },
  {
   "cell_type": "markdown",
   "id": "06c9d82a",
   "metadata": {},
   "source": [
    "# Categorical Data: `\"state\"`"
   ]
  },
  {
   "cell_type": "markdown",
   "id": "22c0ce7a",
   "metadata": {},
   "source": [
    "Even though we can get a good idea of which states are most common in our dataset from looking at a map, we can also get the exact count by using the `\"state\"` column. "
   ]
  },
  {
   "cell_type": "markdown",
   "id": "8267dbc1",
   "metadata": {},
   "source": [
    "**Task 1.3.3:** Use the [`value_counts`](https://pandas.pydata.org/docs/reference/api/pandas.Series.value_counts.html) method on the `\"state\"` column to determine the 10 most prevalent states in our dataset.\n",
    "\n",
    "- **What's categorical data?**\n",
    "- **What's a Series?**\n",
    "- **Aggregate data in a Series using `value_counts` in pandas.**"
   ]
  },
  {
   "cell_type": "code",
   "execution_count": null,
   "id": "ae5047f5",
   "metadata": {},
   "outputs": [],
   "source": [
    "df[\"state\"].head()"
   ]
  },
  {
   "cell_type": "code",
   "execution_count": null,
   "id": "682d3234",
   "metadata": {},
   "outputs": [],
   "source": [
    "df[\"state\"].nunique()"
   ]
  },
  {
   "cell_type": "code",
   "execution_count": null,
   "id": "651486c9",
   "metadata": {},
   "outputs": [],
   "source": [
    "df[\"state\"].unique()"
   ]
  },
  {
   "cell_type": "code",
   "execution_count": null,
   "id": "8b963ace",
   "metadata": {},
   "outputs": [],
   "source": [
    "df[\"state\"].value_counts()"
   ]
  },
  {
   "cell_type": "code",
   "execution_count": null,
   "id": "0df056a1",
   "metadata": {},
   "outputs": [],
   "source": [
    "df[\"state\"].value_counts().head(10)"
   ]
  },
  {
   "cell_type": "markdown",
   "id": "32289163",
   "metadata": {},
   "source": [
    "# Numerical Data: `\"area_m2\"` and `\"price_usd\"`"
   ]
  },
  {
   "cell_type": "markdown",
   "id": "789ffc66",
   "metadata": {},
   "source": [
    "We have a sense for where the houses in our dataset are located, but how much do they cost? How big are they? The best way to answer those questions is looking at descriptive statistics."
   ]
  },
  {
   "cell_type": "markdown",
   "id": "27c532de",
   "metadata": {},
   "source": [
    "**Task 1.3.4:** Use the [`describe`](https://pandas.pydata.org/pandas-docs/stable/reference/api/pandas.DataFrame.describe.html) method to print the mean, standard deviation, and quartiles for the `\"area_m2\"` and `\"price_usd\"` columns.\n",
    "\n",
    "- **What's numerical data?**\n",
    "- **What's a mean?**\n",
    "- **What's a standard deviation?**\n",
    "- **What are quartiles?**\n",
    "- **Print the summary statistics for a DataFrame using pandas.**"
   ]
  },
  {
   "cell_type": "code",
   "execution_count": null,
   "id": "22ed9bfe",
   "metadata": {},
   "outputs": [],
   "source": []
  },
  {
   "cell_type": "markdown",
   "id": "68afea77",
   "metadata": {},
   "source": [
    "Let's start by looking at `\"area_m2\"`. It's interesting that the mean is larger than the median (another name for the 50% quartile). Both of these statistics are supposed to give an idea of the \"typical\" value for the column, so why is there a difference of almost 15 m<sup>2</sup> between them? To answer this question, we need to see how house sizes are distributed in our dataset. Let's look at two ways to visualize the distribution: a histogram and a boxplot."
   ]
  },
  {
   "cell_type": "markdown",
   "id": "c7ab3328",
   "metadata": {},
   "source": [
    "**Task 1.3.5:** Create a histogram of `\"area_m2\"`. Make sure that the x-axis has the label `\"Area [sq meters]\"`, the y-axis has the label `\"Frequency\"`, and the plot has the title `\"Distribution of Home Sizes\"`. \n",
    "\n",
    "- **What's a histogram?**\n",
    "- **Create a histogram using Matplotlib.**"
   ]
  },
  {
   "cell_type": "code",
   "execution_count": null,
   "id": "bb9429f6",
   "metadata": {},
   "outputs": [],
   "source": []
  },
  {
   "cell_type": "markdown",
   "id": "05be55d9",
   "metadata": {},
   "source": [
    "Looking at our histogram, we can see that `\"area_m2\"` skews right. In other words, there are more houses at the lower end of the distribution (50–200m<sup>2</sup>) than at the higher end (250–400m<sup>2</sup>). That explains the difference between the mean and the median."
   ]
  },
  {
   "cell_type": "markdown",
   "id": "8d24b34b",
   "metadata": {},
   "source": [
    "**Task 1.3.6:** Create a horizontal boxplot of `\"area_m2\"`. Make sure that the x-axis has the label `\"Area [sq meters]\"` and the plot has the title `\"Distribution of Home Sizes\"`. How is the distribution and its left skew represented differently here than in your histogram?\n",
    "\n",
    "- **What's a boxplot?**\n",
    "- **What's a skewed distribution?**\n",
    "- **Create a boxplot using Matplotlib.**"
   ]
  },
  {
   "cell_type": "code",
   "execution_count": null,
   "id": "9929d77d",
   "metadata": {},
   "outputs": [],
   "source": []
  },
  {
   "cell_type": "markdown",
   "id": "5d400f10",
   "metadata": {},
   "source": [
    "Does `\"price_usd\"` have the same distribution as `\"price_per_m2\"`? Let's use the same two visualization tools to find out."
   ]
  },
  {
   "cell_type": "markdown",
   "id": "8b5b487c",
   "metadata": {},
   "source": [
    "**Task 1.3.7:** Create a histogram of `\"price_usd\"`. Make sure that the x-axis has the label `\"Price [USD]\"`, the y-axis has the label `\"Frequency\"`, and the plot has the title `\"Distribution of Home Prices\"`. \n",
    "\n",
    "- **What's a histogram?**\n",
    "- **Create a histogram using Matplotlib.**"
   ]
  },
  {
   "cell_type": "code",
   "execution_count": null,
   "id": "a102e565",
   "metadata": {},
   "outputs": [],
   "source": []
  },
  {
   "cell_type": "markdown",
   "id": "ad7188ce",
   "metadata": {},
   "source": [
    "Looks like `\"price_usd\"` is even more skewed than `\"area_m2\"`. What does this bigger skew look like in a boxplot?"
   ]
  },
  {
   "cell_type": "markdown",
   "id": "c2ba94bd",
   "metadata": {},
   "source": [
    "**Task 1.3.8:** Create a horizontal boxplot of `\"price_usd\"`. Make sure that the x-axis has the label `\"Price [USD]\"` and the plot has the title `\"Distribution of Home Prices\"`.\n",
    "\n",
    "- **What's a boxplot?**\n",
    "- **What's an outlier?**\n",
    "- **Create a boxplot using Matplotlib.**"
   ]
  },
  {
   "cell_type": "code",
   "execution_count": null,
   "id": "80b21b9c",
   "metadata": {},
   "outputs": [],
   "source": []
  },
  {
   "cell_type": "markdown",
   "id": "6bf4738a",
   "metadata": {},
   "source": [
    "\n",
    "Excellent job! Now that you have a sense of for the dataset, let's move to the next notebook and start answering some research questions about the relationship between house size, price, and location."
   ]
  }
 ],
 "metadata": {
  "kernelspec": {
   "display_name": "Python 3 (ipykernel)",
   "language": "python",
   "name": "python3"
  },
  "language_info": {
   "codemirror_mode": {
    "name": "ipython",
    "version": 3
   },
   "file_extension": ".py",
   "mimetype": "text/x-python",
   "name": "python",
   "nbconvert_exporter": "python",
   "pygments_lexer": "ipython3",
   "version": "3.10.3"
  }
 },
 "nbformat": 4,
 "nbformat_minor": 5
}
