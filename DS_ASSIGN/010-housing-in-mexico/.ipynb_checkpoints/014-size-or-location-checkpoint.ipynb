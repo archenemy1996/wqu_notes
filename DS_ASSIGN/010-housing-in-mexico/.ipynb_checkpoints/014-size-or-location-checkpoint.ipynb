{
 "cells": [
  {
   "cell_type": "markdown",
   "id": "38e9c818",
   "metadata": {},
   "source": [
    "<font size=\"+3\"><strong>Location or Size: What Influences House Prices in Mexico?</strong></font>"
   ]
  },
  {
   "cell_type": "code",
   "execution_count": null,
   "id": "4e5ef7ed",
   "metadata": {},
   "outputs": [],
   "source": [
    "import matplotlib.pyplot as plt\n",
    "import pandas as pd"
   ]
  },
  {
   "cell_type": "markdown",
   "id": "9970ad03",
   "metadata": {},
   "source": [
    "You've wrangled the data, you've gained an understanding of its basic characteristics in your EDA, and now it's time to ask some research questions. "
   ]
  },
  {
   "cell_type": "markdown",
   "id": "5912d2b6",
   "metadata": {},
   "source": [
    "# Import Data"
   ]
  },
  {
   "cell_type": "markdown",
   "id": "75333e5f",
   "metadata": {},
   "source": [
    "**Task 1.4.1:** Read the CSV file that you created in the last notebook (`\"../small-data/mexico-real-estate-clean.csv\"`) into a DataFrame named `df`. Be sure to check that all your columns are the correct data type before you go to the next task.\n",
    "\n",
    "- **What's a DataFrame?**\n",
    "- **What's a CSV file?**\n",
    "- **Read a CSV file into a DataFrame using pandas.**"
   ]
  },
  {
   "cell_type": "code",
   "execution_count": null,
   "id": "c7a5fbc5",
   "metadata": {},
   "outputs": [],
   "source": [
    "df = pd.read_csv(\"data/mexico-real-estate-clean.csv\")"
   ]
  },
  {
   "cell_type": "code",
   "execution_count": null,
   "id": "922585a3",
   "metadata": {},
   "outputs": [],
   "source": [
    "df.info()"
   ]
  },
  {
   "cell_type": "markdown",
   "id": "385c7253",
   "metadata": {},
   "source": [
    "# Research Question 1"
   ]
  },
  {
   "cell_type": "markdown",
   "id": "b71ac5bf",
   "metadata": {},
   "source": [
    "**Which state has the most expensive real estate market?**"
   ]
  },
  {
   "cell_type": "markdown",
   "id": "79e7ea54",
   "metadata": {},
   "source": [
    "Do housing prices vary by state? If so, which are the most expensive states for purchasing a home? During our exploratory data analysis, we used descriptive statistics like mean and median to get an idea of the \"typical\" house price in Mexico. Now, we need to break that calculation down by state and visualize the results. \n",
    "\n",
    "We know in which state each house is located thanks to the `\"state\"` column. The next step is to divide our dataset into groups (one per state) and calculate the mean house price for each group. "
   ]
  },
  {
   "cell_type": "markdown",
   "id": "042a4c36",
   "metadata": {},
   "source": [
    "**Task 1.4.2:** Use the [`groupby`](https://pandas.pydata.org/pandas-docs/stable/reference/api/pandas.DataFrame.groupby.html) method to create a Series named `mean_price_by_state`, where the index contains each state in the dataset and the values correspond to the mean house price for that state. Make sure your Series is sorted from highest to lowest mean price. \n",
    "\n",
    "- **What's a Series?**\n",
    "- **Aggregate data using the `groupby` method in pandas.**"
   ]
  },
  {
   "cell_type": "code",
   "execution_count": null,
   "id": "137845b9",
   "metadata": {},
   "outputs": [],
   "source": [
    "mean_price_by_state = df.groupby(\"state\")[\"price_usd\"].mean().sort_values(ascending=False)\n",
    "mean_price_by_state"
   ]
  },
  {
   "cell_type": "markdown",
   "id": "0e988fae",
   "metadata": {},
   "source": [
    "**Task 1.4.3:** Use `mean_price_by_state` to create a bar chart of your results. Make sure the states are sorted from the highest to lowest mean, that you label the x-axis as `\"State\"` and the y-axis as `\"Mean Price [USD]\"`, and give the chart the title `\"Mean House Price by State\"`.\n",
    "\n",
    "- **Create a bar chart using pandas.**"
   ]
  },
  {
   "cell_type": "code",
   "execution_count": null,
   "id": "c1112703",
   "metadata": {},
   "outputs": [],
   "source": [
    "mean_price_by_state.plot(\n",
    "    kind=\"bar\", \n",
    "    xlabel=\"State\",\n",
    "    ylabel=\"Price [USD]\",\n",
    "    title=\"Mean House Price by State\",\n",
    "\n",
    ");"
   ]
  },
  {
   "cell_type": "markdown",
   "id": "5cc75c03",
   "metadata": {},
   "source": [
    "It seems odd that Querétaro would be the most expensive real estate market in Mexico when, [according to recent GDP numbers](https://en.wikipedia.org/wiki/List_of_Mexican_states_by_GDP), it's not in the top 10 state economies. With all the variations in house sizes across states, a better metric to look at would be price per m<sup>2</sup>. In order to do that, we need to create a new column."
   ]
  },
  {
   "cell_type": "markdown",
   "id": "3adcedf1",
   "metadata": {},
   "source": [
    "**Task 1.4.4:** Create a new column in `df` called `\"price_per_m2\"`. This should be the price for each house divided by it's size. \n",
    "\n",
    "- **Create new columns derived from existing columns in a DataFrame using pandas.**"
   ]
  },
  {
   "cell_type": "code",
   "execution_count": null,
   "id": "8fd2ca2d",
   "metadata": {},
   "outputs": [],
   "source": [
    "df[\"price_per_m2\"] = df[\"price_usd\"] / df[\"area_m2\"]\n",
    "df.head()"
   ]
  },
  {
   "cell_type": "markdown",
   "id": "813cba40",
   "metadata": {},
   "source": [
    "Let's redo our bar chart from above, but this time with the mean of `\"price_per_m2\"` for each state."
   ]
  },
  {
   "cell_type": "markdown",
   "id": "ea26ba6f",
   "metadata": {},
   "source": [
    "**Task 1.4.5:** First, use the [`groupby`](https://pandas.pydata.org/pandas-docs/stable/reference/api/pandas.DataFrame.groupby.html) method to create a Series where the index contains each state in the dataset and the values correspond to the mean house price per m<sup>2</sup> for that state. Then use the Series to create a bar chart of your results. Make sure the states are sorted from the highest to lowest mean, that you label the x-axis as `\"State\"` and the y-axis as `\"Mean Price per M^2[USD]\"`, and give the chart the title `\"Mean House Price per M^2 by State\"`. \n",
    "\n",
    "- **What's a Series?**\n",
    "- **Aggregate data using the `groupby` method in pandas.**\n",
    "- **Create a bar chart using pandas.** "
   ]
  },
  {
   "cell_type": "code",
   "execution_count": null,
   "id": "72da59bb",
   "metadata": {},
   "outputs": [],
   "source": [
    "(\n",
    "  df\n",
    " .groupby(\"state\")\n",
    " [\"price_per_m2\"].mean()\n",
    " .sort_values(ascending=False)\n",
    "    .plot(\n",
    "   kind=\"bar\", \n",
    "    xlabel=\"State\",\n",
    "    ylabel=\"Mean Price Per M^2 [USD]\",\n",
    "    title=\"Mean House Price Per M^2 by State\",\n",
    "\n",
    ")\n",
    "\n",
    ");"
   ]
  },
  {
   "cell_type": "markdown",
   "id": "a032204b",
   "metadata": {},
   "source": [
    "Now we see that the capital Mexico City (Distrito Federal) is by far the most expensive market. Additionally, many of the top 10 states by GDP are also in the top 10 most expensive real estate markets. So it looks like this bar chart is a more accurate reflection of state real estate markets."
   ]
  },
  {
   "cell_type": "markdown",
   "id": "419657ca",
   "metadata": {},
   "source": [
    "# Research Question 2"
   ]
  },
  {
   "cell_type": "markdown",
   "id": "4459deb3",
   "metadata": {},
   "source": [
    "**Is there a relationship between home size and price?**"
   ]
  },
  {
   "cell_type": "markdown",
   "id": "8b1b9be9",
   "metadata": {},
   "source": [
    "From our previous question, we know that the location of a home affects its price (especially if it's in Mexico City), but what about home size? Does the size of a house influence price?\n",
    "\n",
    "A scatter plot can be helpful when evaluating the relationship between two columns because it lets you see if two variables are correlated — in this case, if an increase in home size is associated with an increase in price."
   ]
  },
  {
   "cell_type": "markdown",
   "id": "719ccdd1",
   "metadata": {},
   "source": [
    "**Task 1.4.6:** Create a scatter plot from `df` that represents price as a function of size. In other words, `\"area_m2\"` should be on the x-axis, and `\"price_usd\"` should be on the y-axis. Be sure to use expressive axis labels (`\"Area [sq meters]\"` and `\"Price [USD]\"`, respectively).\n",
    "\n",
    "- **What's a scatter plot?**\n",
    "- **What's correlation?**\n",
    "- **Create a scatter plot using Matplotlib.**"
   ]
  },
  {
   "cell_type": "code",
   "execution_count": null,
   "id": "da257b1e",
   "metadata": {},
   "outputs": [],
   "source": [
    "plt.scatter(x=df[\"area_m2\"], y=df[\"price_usd\"])"
   ]
  },
  {
   "cell_type": "code",
   "execution_count": null,
   "id": "1fa05f81",
   "metadata": {},
   "outputs": [],
   "source": [
    "plt.scatter(x=df[\"area_m2\"], y=df[\"price_usd\"]);"
   ]
  },
  {
   "cell_type": "code",
   "execution_count": null,
   "id": "11b5d5b7",
   "metadata": {},
   "outputs": [],
   "source": [
    "plt.scatter(x=df[\"area_m2\"], y=df[\"price_usd\"])\n",
    "plt.xlabel(\"Area [sq meters]\")\n",
    "plt.ylabel(\"Price [USD]\")\n",
    "plt.title(\"Price vs Area\");"
   ]
  },
  {
   "cell_type": "markdown",
   "id": "7c3687de",
   "metadata": {},
   "source": [
    "While there's a good amount of variation, there's definitely a positive correlation — in other words, the bigger the house, the higher the price. But how can we quantify this correlation? "
   ]
  },
  {
   "cell_type": "markdown",
   "id": "f3fa13f7",
   "metadata": {},
   "source": [
    "**Task 1.4.7:** Using the [`corr`](https://pandas.pydata.org/docs/reference/api/pandas.Series.corr.html) method, calculate the Pearson correlation coefficient for `\"area_m2\"` and `\"price_usd\"`. \n",
    "\n",
    "- **What's a correlation coefficient?**\n",
    "- **Calculate the correlation coefficient for two Series using pandas.**"
   ]
  },
  {
   "cell_type": "code",
   "execution_count": null,
   "id": "21cab744",
   "metadata": {},
   "outputs": [],
   "source": [
    "p_correlation = df[\"area_m2\"].corr(df[\"price_usd\"])\n",
    "print(p_correlation)"
   ]
  },
  {
   "cell_type": "markdown",
   "id": "7b0a42b5",
   "metadata": {},
   "source": [
    "The correlation coefficient is over 0.5, so there's a moderate relationship house size and price in Mexico. But does this relationship hold true in every state? Let's look at a couple of states, starting with Morelos."
   ]
  },
  {
   "cell_type": "markdown",
   "id": "cb404ab5",
   "metadata": {},
   "source": [
    "**Task 1.4.8:** Create a new DataFrame named `df_morelos`. It should include all the houses from `df` that are in the state of Morelos.\n",
    "\n",
    "- **Subset a DataFrame with a mask using pandas.**"
   ]
  },
  {
   "cell_type": "code",
   "execution_count": null,
   "id": "93717857",
   "metadata": {},
   "outputs": [],
   "source": [
    "df_morelos = df[df[\"state\"] == \"Morelos\"]\n",
    "df_jalisco = df[df[\"state\"] == \"Jalisco\"]\n",
    "df_estado_de_méxico = df[df[\"state\"] == \"Estado de México\"]"
   ]
  },
  {
   "cell_type": "code",
   "execution_count": null,
   "id": "40c462c5",
   "metadata": {},
   "outputs": [],
   "source": [
    "df_morelos.info()"
   ]
  },
  {
   "cell_type": "code",
   "execution_count": null,
   "id": "4002840d",
   "metadata": {},
   "outputs": [],
   "source": [
    "df_jalisco.info()"
   ]
  },
  {
   "cell_type": "code",
   "execution_count": null,
   "id": "b372fef1",
   "metadata": {},
   "outputs": [],
   "source": [
    "df_estado_de_méxico.info()"
   ]
  },
  {
   "cell_type": "code",
   "execution_count": null,
   "id": "0c38f66a",
   "metadata": {},
   "outputs": [],
   "source": [
    "df = pd.concat([df_morelos,df_jalisco,df_estado_de_méxico])"
   ]
  },
  {
   "cell_type": "code",
   "execution_count": null,
   "id": "efb670e0",
   "metadata": {},
   "outputs": [],
   "source": [
    "print(df.shape)\n",
    "df.head()"
   ]
  },
  {
   "cell_type": "markdown",
   "id": "906db0c1",
   "metadata": {},
   "source": [
    "**Task 1.4.9:** Using `df_morelos`, create a scatter plot that shows price vs area. Make sure to use the same axis labels as your last scatter plot. The title should be `\"Morelos: Price vs. Area\"`.\n",
    "\n",
    "- **What's a scatter plot?**\n",
    "- **Create a scatter plot using Matplotlib.**"
   ]
  },
  {
   "cell_type": "code",
   "execution_count": null,
   "id": "7c5dd47f",
   "metadata": {},
   "outputs": [],
   "source": [
    "plt.scatter(x=df_morelos[\"area_m2\"], y=df_morelos[\"price_usd\"])\n",
    "plt.xlabel(\"Area [sq meters]\")\n",
    "plt.ylabel(\"Price [USD]\")\n",
    "plt.title(\"Morelos: Price vs. Area\");"
   ]
  },
  {
   "cell_type": "markdown",
   "id": "2b049956",
   "metadata": {},
   "source": [
    "Wow! It looks like the correlation is even stronger within Morelos. Let's calculate the correlation coefficient and verify that that's the case."
   ]
  },
  {
   "cell_type": "code",
   "execution_count": null,
   "id": "13ca4b06",
   "metadata": {},
   "outputs": [],
   "source": [
    "\n",
    "\n",
    "plt.scatter(x=df[\"area_m2\"], y=df[\"price_usd\"])\n",
    "plt.xlabel(\"Area [sq meters]\")\n",
    "plt.ylabel(\"Price [USD]\")\n",
    "plt.title(\"Morelos, Jalisco, Estado de México : Price vs. Area\");"
   ]
  },
  {
   "cell_type": "markdown",
   "id": "d1237f49",
   "metadata": {},
   "source": [
    "**Task 1.4.10:** Using the [`corr`](https://pandas.pydata.org/docs/reference/api/pandas.Series.corr.html) method, calculate the Pearson correlation coefficient for `\"area_m2\"` and `\"price_usd\"` in `df_morelos`. \n",
    "\n",
    "- **What's a correlation coefficient?**\n",
    "- **Calculate the correlation coefficient for two Series using pandas.**"
   ]
  },
  {
   "cell_type": "code",
   "execution_count": null,
   "id": "bbaa5ffa",
   "metadata": {},
   "outputs": [],
   "source": [
    "p_correlation = df_morelos[\"area_m2\"].corr(df_morelos[\"price_usd\"])\n",
    "print(p_correlation)"
   ]
  },
  {
   "cell_type": "markdown",
   "id": "55b2e06a",
   "metadata": {},
   "source": [
    "With a correlation coefficient that high, we can say that there's a strong relationship between house size and price in Morelos. \n",
    "\n",
    "To conclude, let's look at the capital Mexico City (*Distrito Federal*). "
   ]
  },
  {
   "cell_type": "markdown",
   "id": "5b0a91b7",
   "metadata": {},
   "source": [
    "**Task 1.4.11:** First, create a new DataFrame called `df_mexico_city` that includes all the observations from `df` that are part of the *Distrito Federal*. Next, create a scatter plot that shows price vs area. Don't forget to label the x- and y-axis and use the title `\"Mexico City: Price vs. Area\"`. Finally, calculate the  correlation coefficient for `\"area_m2\"` and `\"price_usd\"` in `df_mexico_city`.\n",
    "\n",
    "- **Calculate the correlation coefficient for two Series using pandas.**\n",
    "- **Create a scatter plot using Matplotlib.**\n",
    "- **Subset a DataFrame with a mask using pandas.**"
   ]
  },
  {
   "cell_type": "code",
   "execution_count": null,
   "id": "fab52f02",
   "metadata": {},
   "outputs": [],
   "source": [
    "# Subset `df` to include only observations from `\"Distrito Federal\"`\n",
    "df_mexico_city = df[df[\"state\"] == \"Distrito Federal\" ]\n",
    "\n",
    "# Create a scatter plot price vs area\n",
    "plt.scatter(x=df_mexico_city[\"area_m2\"], y=df_mexico_city[\"price_usd\"])\n",
    "plt.xlabel(\"Area [sq meters]\")\n",
    "plt.ylabel(\"Price [USD]\")\n",
    "plt.title(\" Distrito Federal : Price vs. Area\");\n",
    "\n",
    "p_correlation = df_mexico_city[\"area_m2\"].corr(df_mexico_city[\"price_usd\"])\n",
    "print(p_correlation)"
   ]
  },
  {
   "cell_type": "markdown",
   "id": "c8f0b436",
   "metadata": {},
   "source": [
    "Looking at the scatter plot and correlation coefficient, there's see a weak relationship between size and price. How should we interpret this? \n",
    "\n",
    "One interpretation is that the relationship we see between size and price in many states doesn't hold true in the country's biggest and most economically powerful urban center because there are other factors that have a larger influence on price. In fact, in the next project, we're going to look at another important Latin American city — Buenos Aires, Argentina — and build a model that predicts housing price by taking much more than size into account. "
   ]
  }
 ],
 "metadata": {
  "kernelspec": {
   "display_name": "Python 3 (ipykernel)",
   "language": "python",
   "name": "python3"
  },
  "language_info": {
   "codemirror_mode": {
    "name": "ipython",
    "version": 3
   },
   "file_extension": ".py",
   "mimetype": "text/x-python",
   "name": "python",
   "nbconvert_exporter": "python",
   "pygments_lexer": "ipython3",
   "version": "3.10.3"
  }
 },
 "nbformat": 4,
 "nbformat_minor": 5
}
